{
 "cells": [
  {
   "cell_type": "code",
   "execution_count": 118,
   "id": "4558e9e7",
   "metadata": {},
   "outputs": [
    {
     "data": {
      "text/html": [
       "<div><style>\n",
       ".dataframe > thead > tr,\n",
       ".dataframe > tbody > tr {\n",
       "  text-align: right;\n",
       "  white-space: pre-wrap;\n",
       "}\n",
       "</style>\n",
       "<small>shape: (5, 7)</small><table border=\"1\" class=\"dataframe\"><thead><tr><th>id</th><th>SMILES</th><th>Tg</th><th>FFV</th><th>Tc</th><th>Density</th><th>Rg</th></tr><tr><td>i64</td><td>str</td><td>f64</td><td>f64</td><td>f64</td><td>f64</td><td>f64</td></tr></thead><tbody><tr><td>87817</td><td>&quot;*CC(*)c1ccccc1C(=O)OCCCCCC&quot;</td><td>null</td><td>0.374645</td><td>0.205667</td><td>null</td><td>null</td></tr><tr><td>106919</td><td>&quot;*Nc1ccc([C@H](CCC)c2ccc(C3(c4c…</td><td>null</td><td>0.3704102</td><td>null</td><td>null</td><td>null</td></tr><tr><td>388772</td><td>&quot;*Oc1ccc(S(=O)(=O)c2ccc(Oc3ccc(…</td><td>null</td><td>0.37886</td><td>null</td><td>null</td><td>null</td></tr><tr><td>519416</td><td>&quot;*Nc1ccc(-c2c(-c3ccc(C)cc3)c(-c…</td><td>null</td><td>0.3873239</td><td>null</td><td>null</td><td>null</td></tr><tr><td>539187</td><td>&quot;*Oc1ccc(OC(=O)c2cc(OCCCCCCCCCO…</td><td>null</td><td>0.35547</td><td>null</td><td>null</td><td>null</td></tr></tbody></table></div>"
      ],
      "text/plain": [
       "shape: (5, 7)\n",
       "┌────────┬─────────────────────────────────┬──────┬───────────┬──────────┬─────────┬──────┐\n",
       "│ id     ┆ SMILES                          ┆ Tg   ┆ FFV       ┆ Tc       ┆ Density ┆ Rg   │\n",
       "│ ---    ┆ ---                             ┆ ---  ┆ ---       ┆ ---      ┆ ---     ┆ ---  │\n",
       "│ i64    ┆ str                             ┆ f64  ┆ f64       ┆ f64      ┆ f64     ┆ f64  │\n",
       "╞════════╪═════════════════════════════════╪══════╪═══════════╪══════════╪═════════╪══════╡\n",
       "│ 87817  ┆ *CC(*)c1ccccc1C(=O)OCCCCCC      ┆ null ┆ 0.374645  ┆ 0.205667 ┆ null    ┆ null │\n",
       "│ 106919 ┆ *Nc1ccc([C@H](CCC)c2ccc(C3(c4c… ┆ null ┆ 0.3704102 ┆ null     ┆ null    ┆ null │\n",
       "│ 388772 ┆ *Oc1ccc(S(=O)(=O)c2ccc(Oc3ccc(… ┆ null ┆ 0.37886   ┆ null     ┆ null    ┆ null │\n",
       "│ 519416 ┆ *Nc1ccc(-c2c(-c3ccc(C)cc3)c(-c… ┆ null ┆ 0.3873239 ┆ null     ┆ null    ┆ null │\n",
       "│ 539187 ┆ *Oc1ccc(OC(=O)c2cc(OCCCCCCCCCO… ┆ null ┆ 0.35547   ┆ null     ┆ null    ┆ null │\n",
       "└────────┴─────────────────────────────────┴──────┴───────────┴──────────┴─────────┴──────┘"
      ]
     },
     "execution_count": 118,
     "metadata": {},
     "output_type": "execute_result"
    }
   ],
   "source": [
    "import polars as pl\n",
    "\n",
    "host_df = pl.read_csv('../data/from_host/train.csv')\n",
    "host_df.head()"
   ]
  },
  {
   "cell_type": "code",
   "execution_count": 119,
   "id": "eab53125",
   "metadata": {},
   "outputs": [
    {
     "data": {
      "text/html": [
       "<div><style>\n",
       ".dataframe > thead > tr,\n",
       ".dataframe > tbody > tr {\n",
       "  text-align: right;\n",
       "  white-space: pre-wrap;\n",
       "}\n",
       "</style>\n",
       "<small>shape: (5, 24)</small><table border=\"1\" class=\"dataframe\"><thead><tr><th>density_g_cm3</th><th>ffv</th><th>occupied_volume_A3</th><th>box_volume_A3</th><th>voxel_count_total</th><th>voxel_count_occupied</th><th>grid_spacing_A</th><th>selection</th><th>rg_angstrom</th><th>rg_mol</th><th>rg_homopoly</th><th>asphericity_A2</th><th>acylindricity_A2</th><th>kappa2</th><th>trace_A2</th><th>lambda1_A2</th><th>lambda2_A2</th><th>lambda3_A2</th><th>median_persistence_length</th><th>mean_persistence_length</th><th>std_persistence_length</th><th>p10_persistence_length</th><th>p90_persistence_length</th><th>SMILES</th></tr><tr><td>f64</td><td>f64</td><td>f64</td><td>f64</td><td>i64</td><td>i64</td><td>f64</td><td>str</td><td>f64</td><td>f64</td><td>f64</td><td>f64</td><td>f64</td><td>f64</td><td>f64</td><td>f64</td><td>f64</td><td>f64</td><td>f64</td><td>f64</td><td>f64</td><td>f64</td><td>f64</td><td>str</td></tr></thead><tbody><tr><td>1.160792</td><td>0.397016</td><td>42689.70381</td><td>70797.429688</td><td>551368</td><td>332466</td><td>0.5</td><td>&quot;all&quot;</td><td>47.480802</td><td>5.899407</td><td>30.210083</td><td>1567.819284</td><td>95.238637</td><td>0.484976</td><td>2254.426594</td><td>1796.688387</td><td>276.488422</td><td>181.249785</td><td>4.491882</td><td>4.554346</td><td>0.455351</td><td>4.090473</td><td>4.961256</td><td>&quot;*OC(COC(=O)Nc1ccc(Cc2ccc(NC(*)…</td></tr><tr><td>1.387557</td><td>0.494714</td><td>68231.977484</td><td>135036.234375</td><td>1061208</td><td>536214</td><td>0.5</td><td>&quot;all&quot;</td><td>56.357113</td><td>4.243631</td><td>15.118489</td><td>2050.137212</td><td>147.420904</td><td>0.418265</td><td>3176.124139</td><td>2425.466188</td><td>449.039427</td><td>301.618524</td><td>3.984015</td><td>4.042508</td><td>0.283451</td><td>3.770446</td><td>4.337599</td><td>&quot;*OP(=O)(Oc1c(Cl)cc(Cl)cc1Cl)Oc…</td></tr><tr><td>1.019301</td><td>0.474419</td><td>42735.577785</td><td>81311.109375</td><td>636056</td><td>334299</td><td>0.5</td><td>&quot;all&quot;</td><td>46.185942</td><td>5.030994</td><td>25.886748</td><td>1469.597839</td><td>61.589551</td><td>0.475258</td><td>2133.141218</td><td>1690.778965</td><td>251.975902</td><td>190.386351</td><td>6.753671</td><td>6.821064</td><td>0.366208</td><td>6.574973</td><td>7.336826</td><td>&quot;*C(=O)Nc1ccc(Cc2ccc(N3C(=O)c4c…</td></tr><tr><td>0.921628</td><td>0.402992</td><td>35229.482186</td><td>59010.035156</td><td>456533</td><td>272554</td><td>0.5</td><td>&quot;all&quot;</td><td>42.020759</td><td>6.343232</td><td>8.530038</td><td>1259.734687</td><td>110.494888</td><td>0.511919</td><td>1765.744182</td><td>1428.404518</td><td>223.917276</td><td>113.422387</td><td>4.0451</td><td>4.041557</td><td>0.05149</td><td>3.970856</td><td>4.10301</td><td>&quot;*CCCCCCCCCNC(=O)CCCCCCCCC(=O)N…</td></tr><tr><td>0.904116</td><td>0.541018</td><td>45364.383772</td><td>98836.890625</td><td>778688</td><td>357404</td><td>0.5</td><td>&quot;all&quot;</td><td>48.811401</td><td>6.439941</td><td>31.31282</td><td>1422.189502</td><td>67.311725</td><td>0.35691</td><td>2382.552914</td><td>1742.310639</td><td>353.777</td><td>286.465275</td><td>9.69873</td><td>9.510725</td><td>0.745244</td><td>8.557383</td><td>10.270814</td><td>&quot;*c1ccc(-c2ccc(N3C(=O)c4ccc(Oc5…</td></tr></tbody></table></div>"
      ],
      "text/plain": [
       "shape: (5, 24)\n",
       "┌───────────┬──────────┬───────────┬───────────┬───┬───────────┬───────────┬───────────┬───────────┐\n",
       "│ density_g ┆ ffv      ┆ occupied_ ┆ box_volum ┆ … ┆ std_persi ┆ p10_persi ┆ p90_persi ┆ SMILES    │\n",
       "│ _cm3      ┆ ---      ┆ volume_A3 ┆ e_A3      ┆   ┆ stence_le ┆ stence_le ┆ stence_le ┆ ---       │\n",
       "│ ---       ┆ f64      ┆ ---       ┆ ---       ┆   ┆ ngth      ┆ ngth      ┆ ngth      ┆ str       │\n",
       "│ f64       ┆          ┆ f64       ┆ f64       ┆   ┆ ---       ┆ ---       ┆ ---       ┆           │\n",
       "│           ┆          ┆           ┆           ┆   ┆ f64       ┆ f64       ┆ f64       ┆           │\n",
       "╞═══════════╪══════════╪═══════════╪═══════════╪═══╪═══════════╪═══════════╪═══════════╪═══════════╡\n",
       "│ 1.160792  ┆ 0.397016 ┆ 42689.703 ┆ 70797.429 ┆ … ┆ 0.455351  ┆ 4.090473  ┆ 4.961256  ┆ *OC(COC(= │\n",
       "│           ┆          ┆ 81        ┆ 688       ┆   ┆           ┆           ┆           ┆ O)Nc1ccc( │\n",
       "│           ┆          ┆           ┆           ┆   ┆           ┆           ┆           ┆ Cc2ccc(NC │\n",
       "│           ┆          ┆           ┆           ┆   ┆           ┆           ┆           ┆ (*)…      │\n",
       "│ 1.387557  ┆ 0.494714 ┆ 68231.977 ┆ 135036.23 ┆ … ┆ 0.283451  ┆ 3.770446  ┆ 4.337599  ┆ *OP(=O)(O │\n",
       "│           ┆          ┆ 484       ┆ 4375      ┆   ┆           ┆           ┆           ┆ c1c(Cl)cc │\n",
       "│           ┆          ┆           ┆           ┆   ┆           ┆           ┆           ┆ (Cl)cc1Cl │\n",
       "│           ┆          ┆           ┆           ┆   ┆           ┆           ┆           ┆ )Oc…      │\n",
       "│ 1.019301  ┆ 0.474419 ┆ 42735.577 ┆ 81311.109 ┆ … ┆ 0.366208  ┆ 6.574973  ┆ 7.336826  ┆ *C(=O)Nc1 │\n",
       "│           ┆          ┆ 785       ┆ 375       ┆   ┆           ┆           ┆           ┆ ccc(Cc2cc │\n",
       "│           ┆          ┆           ┆           ┆   ┆           ┆           ┆           ┆ c(N3C(=O) │\n",
       "│           ┆          ┆           ┆           ┆   ┆           ┆           ┆           ┆ c4c…      │\n",
       "│ 0.921628  ┆ 0.402992 ┆ 35229.482 ┆ 59010.035 ┆ … ┆ 0.05149   ┆ 3.970856  ┆ 4.10301   ┆ *CCCCCCCC │\n",
       "│           ┆          ┆ 186       ┆ 156       ┆   ┆           ┆           ┆           ┆ CNC(=O)CC │\n",
       "│           ┆          ┆           ┆           ┆   ┆           ┆           ┆           ┆ CCCCCCC(= │\n",
       "│           ┆          ┆           ┆           ┆   ┆           ┆           ┆           ┆ O)N…      │\n",
       "│ 0.904116  ┆ 0.541018 ┆ 45364.383 ┆ 98836.890 ┆ … ┆ 0.745244  ┆ 8.557383  ┆ 10.270814 ┆ *c1ccc(-c │\n",
       "│           ┆          ┆ 772       ┆ 625       ┆   ┆           ┆           ┆           ┆ 2ccc(N3C( │\n",
       "│           ┆          ┆           ┆           ┆   ┆           ┆           ┆           ┆ =O)c4ccc( │\n",
       "│           ┆          ┆           ┆           ┆   ┆           ┆           ┆           ┆ Oc5…      │\n",
       "└───────────┴──────────┴───────────┴───────────┴───┴───────────┴───────────┴───────────┴───────────┘"
      ]
     },
     "execution_count": 119,
     "metadata": {},
     "output_type": "execute_result"
    }
   ],
   "source": [
    "metrics_df = pl.read_csv('generated_metrics/host_hybrid.csv')\n",
    "metrics_df.head()"
   ]
  },
  {
   "cell_type": "code",
   "execution_count": 120,
   "id": "56d14d9c",
   "metadata": {},
   "outputs": [
    {
     "data": {
      "text/html": [
       "<div><style>\n",
       ".dataframe > thead > tr,\n",
       ".dataframe > tbody > tr {\n",
       "  text-align: right;\n",
       "  white-space: pre-wrap;\n",
       "}\n",
       "</style>\n",
       "<small>shape: (5, 30)</small><table border=\"1\" class=\"dataframe\"><thead><tr><th>id</th><th>SMILES</th><th>Tg</th><th>FFV</th><th>Tc</th><th>Density</th><th>Rg</th><th>density_g_cm3</th><th>ffv</th><th>occupied_volume_A3</th><th>box_volume_A3</th><th>voxel_count_total</th><th>voxel_count_occupied</th><th>grid_spacing_A</th><th>selection</th><th>rg_angstrom</th><th>rg_mol</th><th>rg_homopoly</th><th>asphericity_A2</th><th>acylindricity_A2</th><th>kappa2</th><th>trace_A2</th><th>lambda1_A2</th><th>lambda2_A2</th><th>lambda3_A2</th><th>median_persistence_length</th><th>mean_persistence_length</th><th>std_persistence_length</th><th>p10_persistence_length</th><th>p90_persistence_length</th></tr><tr><td>i64</td><td>str</td><td>f64</td><td>f64</td><td>f64</td><td>f64</td><td>f64</td><td>f64</td><td>f64</td><td>f64</td><td>f64</td><td>i64</td><td>i64</td><td>f64</td><td>str</td><td>f64</td><td>f64</td><td>f64</td><td>f64</td><td>f64</td><td>f64</td><td>f64</td><td>f64</td><td>f64</td><td>f64</td><td>f64</td><td>f64</td><td>f64</td><td>f64</td><td>f64</td></tr></thead><tbody><tr><td>3013292</td><td>&quot;*CC(*)c1ccc(C(=O)O)c(C(=O)O)c1&quot;</td><td>null</td><td>null</td><td>0.171</td><td>1.184354</td><td>13.534248</td><td>0.977463</td><td>0.51242</td><td>43226.868681</td><td>88655.898438</td><td>704969</td><td>343729</td><td>0.5</td><td>&quot;all&quot;</td><td>48.541946</td><td>2.75892</td><td>16.147203</td><td>1613.126977</td><td>140.584611</td><td>0.471341</td><td>2356.320558</td><td>1860.858171</td><td>318.023499</td><td>177.438888</td><td>5.347003</td><td>5.792701</td><td>1.478787</td><td>4.669372</td><td>7.256539</td></tr><tr><td>5650517</td><td>&quot;*Oc1ccc(CC(NC(=O)CCc2ccc(OC(=O…</td><td>null</td><td>0.335732</td><td>null</td><td>null</td><td>null</td><td>1.093382</td><td>0.402366</td><td>41433.432387</td><td>69329.15625</td><td>551368</td><td>329516</td><td>0.5</td><td>&quot;all&quot;</td><td>42.769372</td><td>5.918545</td><td>16.578741</td><td>1221.741272</td><td>126.696843</td><td>0.449693</td><td>1829.219147</td><td>1424.233897</td><td>265.841046</td><td>139.144204</td><td>3.295789</td><td>3.320117</td><td>0.214694</td><td>3.098478</td><td>3.605631</td></tr><tr><td>5709902</td><td>&quot;*Nc1ccc(NC(=O)CCCCCCC(*)=O)cc1&quot;</td><td>null</td><td>0.33579</td><td>null</td><td>null</td><td>null</td><td>1.073467</td><td>0.385623</td><td>37739.71269</td><td>61427.578125</td><td>474552</td><td>291554</td><td>0.5</td><td>&quot;all&quot;</td><td>41.244913</td><td>4.093013</td><td>15.755675</td><td>1107.068858</td><td>86.493255</td><td>0.425453</td><td>1701.142877</td><td>1305.093531</td><td>241.2713</td><td>154.778046</td><td>3.32942</td><td>3.318397</td><td>0.153421</td><td>3.133198</td><td>3.473992</td></tr><tr><td>18339242</td><td>&quot;*CC(*)C(=O)OC([2H])([2H])[2H]&quot;</td><td>null</td><td>0.32714</td><td>null</td><td>null</td><td>null</td><td>0.881398</td><td>0.527466</td><td>39138.565935</td><td>82827.0</td><td>658503</td><td>311165</td><td>0.5</td><td>&quot;all&quot;</td><td>51.979775</td><td>1.796599</td><td>28.310586</td><td>2212.716247</td><td>132.415177</td><td>0.672479</td><td>2701.896988</td><td>2375.776494</td><td>229.267836</td><td>96.852659</td><td>3.700759</td><td>3.983692</td><td>0.748799</td><td>3.456908</td><td>4.63944</td></tr><tr><td>28200504</td><td>&quot;*CCOC(=O)NCCCCCCNC(=O)O*&quot;</td><td>null</td><td>0.329162</td><td>null</td><td>null</td><td>null</td><td>0.819467</td><td>0.543256</td><td>36508.080919</td><td>79931.101562</td><td>636056</td><td>290515</td><td>0.5</td><td>&quot;all&quot;</td><td>50.197357</td><td>4.323165</td><td>19.363257</td><td>1898.912913</td><td>113.592082</td><td>0.569444</td><td>2519.774632</td><td>2105.866819</td><td>263.749947</td><td>150.157866</td><td>3.217381</td><td>3.242495</td><td>0.110461</td><td>3.113498</td><td>3.39293</td></tr></tbody></table></div>"
      ],
      "text/plain": [
       "shape: (5, 30)\n",
       "┌──────────┬─────────────┬──────┬──────────┬───┬────────────┬────────────┬────────────┬────────────┐\n",
       "│ id       ┆ SMILES      ┆ Tg   ┆ FFV      ┆ … ┆ mean_persi ┆ std_persis ┆ p10_persis ┆ p90_persis │\n",
       "│ ---      ┆ ---         ┆ ---  ┆ ---      ┆   ┆ stence_len ┆ tence_leng ┆ tence_leng ┆ tence_leng │\n",
       "│ i64      ┆ str         ┆ f64  ┆ f64      ┆   ┆ gth        ┆ th         ┆ th         ┆ th         │\n",
       "│          ┆             ┆      ┆          ┆   ┆ ---        ┆ ---        ┆ ---        ┆ ---        │\n",
       "│          ┆             ┆      ┆          ┆   ┆ f64        ┆ f64        ┆ f64        ┆ f64        │\n",
       "╞══════════╪═════════════╪══════╪══════════╪═══╪════════════╪════════════╪════════════╪════════════╡\n",
       "│ 3013292  ┆ *CC(*)c1ccc ┆ null ┆ null     ┆ … ┆ 5.792701   ┆ 1.478787   ┆ 4.669372   ┆ 7.256539   │\n",
       "│          ┆ (C(=O)O)c(C ┆      ┆          ┆   ┆            ┆            ┆            ┆            │\n",
       "│          ┆ (=O)O)c1    ┆      ┆          ┆   ┆            ┆            ┆            ┆            │\n",
       "│ 5650517  ┆ *Oc1ccc(CC( ┆ null ┆ 0.335732 ┆ … ┆ 3.320117   ┆ 0.214694   ┆ 3.098478   ┆ 3.605631   │\n",
       "│          ┆ NC(=O)CCc2c ┆      ┆          ┆   ┆            ┆            ┆            ┆            │\n",
       "│          ┆ cc(OC(=O…   ┆      ┆          ┆   ┆            ┆            ┆            ┆            │\n",
       "│ 5709902  ┆ *Nc1ccc(NC( ┆ null ┆ 0.33579  ┆ … ┆ 3.318397   ┆ 0.153421   ┆ 3.133198   ┆ 3.473992   │\n",
       "│          ┆ =O)CCCCCCC( ┆      ┆          ┆   ┆            ┆            ┆            ┆            │\n",
       "│          ┆ *)=O)cc1    ┆      ┆          ┆   ┆            ┆            ┆            ┆            │\n",
       "│ 18339242 ┆ *CC(*)C(=O) ┆ null ┆ 0.32714  ┆ … ┆ 3.983692   ┆ 0.748799   ┆ 3.456908   ┆ 4.63944    │\n",
       "│          ┆ OC([2H])([2 ┆      ┆          ┆   ┆            ┆            ┆            ┆            │\n",
       "│          ┆ H])[2H]     ┆      ┆          ┆   ┆            ┆            ┆            ┆            │\n",
       "│ 28200504 ┆ *CCOC(=O)NC ┆ null ┆ 0.329162 ┆ … ┆ 3.242495   ┆ 0.110461   ┆ 3.113498   ┆ 3.39293    │\n",
       "│          ┆ CCCCCNC(=O) ┆      ┆          ┆   ┆            ┆            ┆            ┆            │\n",
       "│          ┆ O*          ┆      ┆          ┆   ┆            ┆            ┆            ┆            │\n",
       "└──────────┴─────────────┴──────┴──────────┴───┴────────────┴────────────┴────────────┴────────────┘"
      ]
     },
     "execution_count": 120,
     "metadata": {},
     "output_type": "execute_result"
    }
   ],
   "source": [
    "joined_df = host_df.join(metrics_df, on='SMILES')\n",
    "joined_df.head()"
   ]
  },
  {
   "cell_type": "code",
   "execution_count": 121,
   "id": "b7185905",
   "metadata": {},
   "outputs": [
    {
     "data": {
      "text/plain": [
       "PearsonRResult(statistic=np.float64(0.6188096441618729), pvalue=np.float64(0.07561594142305623))"
      ]
     },
     "execution_count": 121,
     "metadata": {},
     "output_type": "execute_result"
    }
   ],
   "source": [
    "from scipy.stats import pearsonr\n",
    "\n",
    "density_df = joined_df.drop_nulls(subset='Density')\n",
    "pearsonr(density_df['Density'], density_df['density_g_cm3'])"
   ]
  },
  {
   "cell_type": "code",
   "execution_count": 143,
   "id": "e2660e2b",
   "metadata": {},
   "outputs": [
    {
     "name": "stdout",
     "output_type": "stream",
     "text": [
      "53\n"
     ]
    },
    {
     "data": {
      "text/plain": [
       "PearsonRResult(statistic=np.float64(0.29575483762653515), pvalue=np.float64(0.03154400166844257))"
      ]
     },
     "execution_count": 143,
     "metadata": {},
     "output_type": "execute_result"
    }
   ],
   "source": [
    "ffv_df = joined_df.drop_nulls(subset='FFV')\n",
    "print(len(ffv_df))\n",
    "# pearsonr(ffv_df['FFV'], ffv_df['ffv'])\n",
    "pearsonr(ffv_df['FFV'], ffv_df['median_persistence_length'])"
   ]
  },
  {
   "cell_type": "code",
   "execution_count": 125,
   "id": "a2a0b114",
   "metadata": {},
   "outputs": [
    {
     "data": {
      "text/plain": [
       "PearsonRResult(statistic=np.float64(0.33042570435685614), pvalue=np.float64(0.3851377190057876))"
      ]
     },
     "execution_count": 125,
     "metadata": {},
     "output_type": "execute_result"
    }
   ],
   "source": [
    "rg_df = joined_df.drop_nulls(subset='Rg')\n",
    "pearsonr(rg_df['Rg'], rg_df['rg_angstrom'])"
   ]
  },
  {
   "cell_type": "code",
   "execution_count": 126,
   "id": "a1cf6c82",
   "metadata": {},
   "outputs": [
    {
     "data": {
      "text/plain": [
       "PearsonRResult(statistic=np.float64(0.5763674042033383), pvalue=np.float64(0.10427985759926782))"
      ]
     },
     "execution_count": 126,
     "metadata": {},
     "output_type": "execute_result"
    }
   ],
   "source": [
    "rg_df = joined_df.drop_nulls(subset='Rg')\n",
    "pearsonr(rg_df['Rg'], rg_df['rg_mol'])"
   ]
  },
  {
   "cell_type": "code",
   "execution_count": 127,
   "id": "08095a26",
   "metadata": {},
   "outputs": [
    {
     "data": {
      "text/plain": [
       "PearsonRResult(statistic=np.float64(0.4824446494427923), pvalue=np.float64(0.18840205384924452))"
      ]
     },
     "execution_count": 127,
     "metadata": {},
     "output_type": "execute_result"
    }
   ],
   "source": [
    "rg_df = joined_df.drop_nulls(subset='Rg')\n",
    "pearsonr(rg_df['Rg'], rg_df['rg_homopoly'])"
   ]
  },
  {
   "cell_type": "code",
   "execution_count": 128,
   "id": "7eb34585",
   "metadata": {},
   "outputs": [
    {
     "data": {
      "text/plain": [
       "PearsonRResult(statistic=np.float64(0.22440840212949403), pvalue=np.float64(0.07703662676548284))"
      ]
     },
     "execution_count": 128,
     "metadata": {},
     "output_type": "execute_result"
    }
   ],
   "source": [
    "pearsonr(joined_df['rg_mol'], joined_df['rg_homopoly'])"
   ]
  },
  {
   "cell_type": "code",
   "execution_count": 129,
   "id": "5c46e2cc",
   "metadata": {},
   "outputs": [
    {
     "data": {
      "text/html": [
       "<div><style>\n",
       ".dataframe > thead > tr,\n",
       ".dataframe > tbody > tr {\n",
       "  text-align: right;\n",
       "  white-space: pre-wrap;\n",
       "}\n",
       "</style>\n",
       "<small>shape: (9, 31)</small><table border=\"1\" class=\"dataframe\"><thead><tr><th>statistic</th><th>id</th><th>SMILES</th><th>Tg</th><th>FFV</th><th>Tc</th><th>Density</th><th>Rg</th><th>density_g_cm3</th><th>ffv</th><th>occupied_volume_A3</th><th>box_volume_A3</th><th>voxel_count_total</th><th>voxel_count_occupied</th><th>grid_spacing_A</th><th>selection</th><th>rg_angstrom</th><th>rg_mol</th><th>rg_homopoly</th><th>asphericity_A2</th><th>acylindricity_A2</th><th>kappa2</th><th>trace_A2</th><th>lambda1_A2</th><th>lambda2_A2</th><th>lambda3_A2</th><th>median_persistence_length</th><th>mean_persistence_length</th><th>std_persistence_length</th><th>p10_persistence_length</th><th>p90_persistence_length</th></tr><tr><td>str</td><td>f64</td><td>str</td><td>f64</td><td>f64</td><td>f64</td><td>f64</td><td>f64</td><td>f64</td><td>f64</td><td>f64</td><td>f64</td><td>f64</td><td>f64</td><td>f64</td><td>str</td><td>f64</td><td>f64</td><td>f64</td><td>f64</td><td>f64</td><td>f64</td><td>f64</td><td>f64</td><td>f64</td><td>f64</td><td>f64</td><td>f64</td><td>f64</td><td>f64</td><td>f64</td></tr></thead><tbody><tr><td>&quot;count&quot;</td><td>9.0</td><td>&quot;9&quot;</td><td>0.0</td><td>2.0</td><td>8.0</td><td>9.0</td><td>9.0</td><td>9.0</td><td>9.0</td><td>9.0</td><td>9.0</td><td>9.0</td><td>9.0</td><td>9.0</td><td>&quot;9&quot;</td><td>9.0</td><td>9.0</td><td>9.0</td><td>9.0</td><td>9.0</td><td>9.0</td><td>9.0</td><td>9.0</td><td>9.0</td><td>9.0</td><td>9.0</td><td>9.0</td><td>9.0</td><td>9.0</td><td>9.0</td></tr><tr><td>&quot;null_count&quot;</td><td>0.0</td><td>&quot;0&quot;</td><td>9.0</td><td>7.0</td><td>1.0</td><td>0.0</td><td>0.0</td><td>0.0</td><td>0.0</td><td>0.0</td><td>0.0</td><td>0.0</td><td>0.0</td><td>0.0</td><td>&quot;0&quot;</td><td>0.0</td><td>0.0</td><td>0.0</td><td>0.0</td><td>0.0</td><td>0.0</td><td>0.0</td><td>0.0</td><td>0.0</td><td>0.0</td><td>0.0</td><td>0.0</td><td>0.0</td><td>0.0</td><td>0.0</td></tr><tr><td>&quot;mean&quot;</td><td>5.5238e8</td><td>null</td><td>null</td><td>0.388173</td><td>0.268417</td><td>0.974251</td><td>16.043588</td><td>0.895535</td><td>0.453643</td><td>37152.201515</td><td>69563.365451</td><td>546916.111111</td><td>292011.777778</td><td>0.5</td><td>null</td><td>42.378879</td><td>4.020772</td><td>15.006087</td><td>1196.507478</td><td>113.378729</td><td>0.429464</td><td>1812.763193</td><td>1401.92605</td><td>262.107937</td><td>148.729207</td><td>4.613166</td><td>4.848492</td><td>0.860145</td><td>4.07274</td><td>5.97299</td></tr><tr><td>&quot;std&quot;</td><td>6.3983e8</td><td>null</td><td>null</td><td>0.028857</td><td>0.083226</td><td>0.183191</td><td>5.030767</td><td>0.100177</td><td>0.073113</td><td>3334.46824</td><td>14218.425804</td><td>112660.215186</td><td>26526.086235</td><td>0.0</td><td>null</td><td>4.34661</td><td>1.689784</td><td>7.084718</td><td>400.767893</td><td>46.542548</td><td>0.109879</td><td>387.239034</td><td>394.023094</td><td>36.889853</td><td>39.106741</td><td>2.221687</td><td>2.502359</td><td>1.099243</td><td>1.46038</td><td>4.272756</td></tr><tr><td>&quot;min&quot;</td><td>3.013292e6</td><td>&quot;*CC(*)(C)C(=O)OC(C)(C)C&quot;</td><td>null</td><td>0.367767</td><td>0.1525</td><td>0.803265</td><td>10.859533</td><td>0.762498</td><td>0.382171</td><td>33378.498933</td><td>55208.164062</td><td>438976.0</td><td>264596.0</td><td>0.5</td><td>&quot;all&quot;</td><td>38.085521</td><td>1.925134</td><td>8.530038</td><td>780.980516</td><td>46.860248</td><td>0.290678</td><td>1450.506939</td><td>1004.15599</td><td>223.917276</td><td>81.576301</td><td>3.175191</td><td>3.170457</td><td>0.05149</td><td>2.987449</td><td>3.335093</td></tr><tr><td>&quot;25%&quot;</td><td>6.2619308e7</td><td>null</td><td>null</td><td>0.367767</td><td>0.224</td><td>0.82666</td><td>11.575164</td><td>0.828183</td><td>0.395406</td><td>35229.482186</td><td>59010.035156</td><td>456533.0</td><td>272554.0</td><td>0.5</td><td>null</td><td>40.024374</td><td>2.695697</td><td>10.201814</td><td>947.825321</td><td>81.986877</td><td>0.321572</td><td>1601.950542</td><td>1191.128459</td><td>229.921805</td><td>131.094178</td><td>3.295978</td><td>3.290155</td><td>0.137664</td><td>3.15011</td><td>3.508877</td></tr><tr><td>&quot;50%&quot;</td><td>2.99152684e8</td><td>null</td><td>null</td><td>0.408578</td><td>0.338333</td><td>0.937025</td><td>13.534248</td><td>0.921628</td><td>0.402992</td><td>36421.981915</td><td>62300.738281</td><td>493039.0</td><td>287239.0</td><td>0.5</td><td>null</td><td>40.992042</td><td>3.981376</td><td>13.174946</td><td>1096.556599</td><td>110.494888</td><td>0.429886</td><td>1680.347488</td><td>1291.153562</td><td>255.306066</td><td>142.257242</td><td>3.621138</td><td>3.68051</td><td>0.335292</td><td>3.382919</td><td>4.10301</td></tr><tr><td>&quot;75%&quot;</td><td>5.71882834e8</td><td>null</td><td>null</td><td>0.408578</td><td>0.339</td><td>1.014542</td><td>20.756842</td><td>0.971709</td><td>0.52928</td><td>38491.233589</td><td>78073.179688</td><td>614125.0</td><td>304614.0</td><td>0.5</td><td>null</td><td>42.020759</td><td>5.524976</td><td>16.652714</td><td>1259.734687</td><td>140.584611</td><td>0.51047</td><td>1765.744182</td><td>1428.404518</td><td>290.862158</td><td>177.438888</td><td>5.340377</td><td>5.792701</td><td>1.478787</td><td>4.66315</td><td>7.219513</td></tr><tr><td>&quot;max&quot;</td><td>1.6838e9</td><td>&quot;*CCCS(*)(=O)=O&quot;</td><td>null</td><td>0.408578</td><td>0.3485</td><td>1.344229</td><td>22.70955</td><td>1.042095</td><td>0.545739</td><td>43226.868681</td><td>90990.445312</td><td>704969.0</td><td>343729.0</td><td>0.5</td><td>&quot;all&quot;</td><td>50.682037</td><td>6.343232</td><td>31.233917</td><td>2018.916815</td><td>182.817736</td><td>0.618525</td><td>2568.668857</td><td>2202.167496</td><td>318.023499</td><td>199.74535</td><td>10.079837</td><td>10.907811</td><td>3.296202</td><td>7.548368</td><td>16.609926</td></tr></tbody></table></div>"
      ],
      "text/plain": [
       "shape: (9, 31)\n",
       "┌────────────┬────────────┬────────────┬──────┬───┬────────────┬───────────┬───────────┬───────────┐\n",
       "│ statistic  ┆ id         ┆ SMILES     ┆ Tg   ┆ … ┆ mean_persi ┆ std_persi ┆ p10_persi ┆ p90_persi │\n",
       "│ ---        ┆ ---        ┆ ---        ┆ ---  ┆   ┆ stence_len ┆ stence_le ┆ stence_le ┆ stence_le │\n",
       "│ str        ┆ f64        ┆ str        ┆ f64  ┆   ┆ gth        ┆ ngth      ┆ ngth      ┆ ngth      │\n",
       "│            ┆            ┆            ┆      ┆   ┆ ---        ┆ ---       ┆ ---       ┆ ---       │\n",
       "│            ┆            ┆            ┆      ┆   ┆ f64        ┆ f64       ┆ f64       ┆ f64       │\n",
       "╞════════════╪════════════╪════════════╪══════╪═══╪════════════╪═══════════╪═══════════╪═══════════╡\n",
       "│ count      ┆ 9.0        ┆ 9          ┆ 0.0  ┆ … ┆ 9.0        ┆ 9.0       ┆ 9.0       ┆ 9.0       │\n",
       "│ null_count ┆ 0.0        ┆ 0          ┆ 9.0  ┆ … ┆ 0.0        ┆ 0.0       ┆ 0.0       ┆ 0.0       │\n",
       "│ mean       ┆ 5.5238e8   ┆ null       ┆ null ┆ … ┆ 4.848492   ┆ 0.860145  ┆ 4.07274   ┆ 5.97299   │\n",
       "│ std        ┆ 6.3983e8   ┆ null       ┆ null ┆ … ┆ 2.502359   ┆ 1.099243  ┆ 1.46038   ┆ 4.272756  │\n",
       "│ min        ┆ 3.013292e6 ┆ *CC(*)(C)C ┆ null ┆ … ┆ 3.170457   ┆ 0.05149   ┆ 2.987449  ┆ 3.335093  │\n",
       "│            ┆            ┆ (=O)OC(C)( ┆      ┆   ┆            ┆           ┆           ┆           │\n",
       "│            ┆            ┆ C)C        ┆      ┆   ┆            ┆           ┆           ┆           │\n",
       "│ 25%        ┆ 6.2619308e ┆ null       ┆ null ┆ … ┆ 3.290155   ┆ 0.137664  ┆ 3.15011   ┆ 3.508877  │\n",
       "│            ┆ 7          ┆            ┆      ┆   ┆            ┆           ┆           ┆           │\n",
       "│ 50%        ┆ 2.99152684 ┆ null       ┆ null ┆ … ┆ 3.68051    ┆ 0.335292  ┆ 3.382919  ┆ 4.10301   │\n",
       "│            ┆ e8         ┆            ┆      ┆   ┆            ┆           ┆           ┆           │\n",
       "│ 75%        ┆ 5.71882834 ┆ null       ┆ null ┆ … ┆ 5.792701   ┆ 1.478787  ┆ 4.66315   ┆ 7.219513  │\n",
       "│            ┆ e8         ┆            ┆      ┆   ┆            ┆           ┆           ┆           │\n",
       "│ max        ┆ 1.6838e9   ┆ *CCCS(*)(= ┆ null ┆ … ┆ 10.907811  ┆ 3.296202  ┆ 7.548368  ┆ 16.609926 │\n",
       "│            ┆            ┆ O)=O       ┆      ┆   ┆            ┆           ┆           ┆           │\n",
       "└────────────┴────────────┴────────────┴──────┴───┴────────────┴───────────┴───────────┴───────────┘"
      ]
     },
     "execution_count": 129,
     "metadata": {},
     "output_type": "execute_result"
    }
   ],
   "source": [
    "rg_df.describe()"
   ]
  },
  {
   "cell_type": "code",
   "execution_count": 130,
   "id": "be4ea61a",
   "metadata": {},
   "outputs": [
    {
     "data": {
      "text/plain": [
       "PearsonRResult(statistic=np.float64(0.9238297575071159), pvalue=np.float64(0.0003725442047523261))"
      ]
     },
     "execution_count": 130,
     "metadata": {},
     "output_type": "execute_result"
    }
   ],
   "source": [
    "pearsonr(rg_df['Rg'], rg_df['rg_homopoly']/5 + rg_df['rg_mol'])"
   ]
  },
  {
   "cell_type": "code",
   "execution_count": 131,
   "id": "18444dae",
   "metadata": {},
   "outputs": [
    {
     "name": "stdout",
     "output_type": "stream",
     "text": [
      "2\n"
     ]
    },
    {
     "data": {
      "text/plain": [
       "PearsonRResult(statistic=np.float64(-1.0), pvalue=np.float64(1.0))"
      ]
     },
     "execution_count": 131,
     "metadata": {},
     "output_type": "execute_result"
    }
   ],
   "source": [
    "tg_df = joined_df.drop_nulls(subset='Tg')\n",
    "print(len(tg_df))\n",
    "pearsonr(tg_df['Tg'], tg_df['mean_persistence_length'])"
   ]
  },
  {
   "cell_type": "code",
   "execution_count": 133,
   "id": "eb1baa30",
   "metadata": {},
   "outputs": [
    {
     "name": "stdout",
     "output_type": "stream",
     "text": [
      "10\n"
     ]
    },
    {
     "data": {
      "text/plain": [
       "PearsonRResult(statistic=np.float64(-0.3493576398354383), pvalue=np.float64(0.3224217974080924))"
      ]
     },
     "execution_count": 133,
     "metadata": {},
     "output_type": "execute_result"
    }
   ],
   "source": [
    "tc_df = joined_df.drop_nulls(subset='Tc')\n",
    "print(len(tc_df))\n",
    "pearsonr(tc_df['Tc'], tc_df['mean_persistence_length'])"
   ]
  },
  {
   "cell_type": "code",
   "execution_count": null,
   "id": "42571afc",
   "metadata": {},
   "outputs": [],
   "source": []
  }
 ],
 "metadata": {
  "kernelspec": {
   "display_name": "torch2.7",
   "language": "python",
   "name": "python3"
  },
  "language_info": {
   "codemirror_mode": {
    "name": "ipython",
    "version": 3
   },
   "file_extension": ".py",
   "mimetype": "text/x-python",
   "name": "python",
   "nbconvert_exporter": "python",
   "pygments_lexer": "ipython3",
   "version": "3.12.11"
  }
 },
 "nbformat": 4,
 "nbformat_minor": 5
}
