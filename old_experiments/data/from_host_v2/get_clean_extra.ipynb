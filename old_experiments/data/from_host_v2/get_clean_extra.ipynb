{
 "cells": [
  {
   "cell_type": "markdown",
   "id": "f35f074b",
   "metadata": {},
   "source": [
    "# Peek at data"
   ]
  },
  {
   "cell_type": "code",
   "execution_count": 1,
   "id": "770356d5",
   "metadata": {},
   "outputs": [],
   "source": [
    "import polars as pl"
   ]
  },
  {
   "cell_type": "code",
   "execution_count": 3,
   "id": "181efbb9",
   "metadata": {},
   "outputs": [
    {
     "data": {
      "text/html": [
       "<div><style>\n",
       ".dataframe > thead > tr,\n",
       ".dataframe > tbody > tr {\n",
       "  text-align: right;\n",
       "  white-space: pre-wrap;\n",
       "}\n",
       "</style>\n",
       "<small>shape: (5, 7)</small><table border=\"1\" class=\"dataframe\"><thead><tr><th>id</th><th>SMILES</th><th>Tg</th><th>FFV</th><th>Tc</th><th>Density</th><th>Rg</th></tr><tr><td>i64</td><td>str</td><td>f64</td><td>f64</td><td>f64</td><td>f64</td><td>f64</td></tr></thead><tbody><tr><td>87817</td><td>&quot;*CC(*)c1ccccc1C(=O)OCCCCCC&quot;</td><td>null</td><td>0.374645</td><td>0.205667</td><td>null</td><td>null</td></tr><tr><td>106919</td><td>&quot;*Nc1ccc([C@H](CCC)c2ccc(C3(c4c…</td><td>null</td><td>0.3704102</td><td>null</td><td>null</td><td>null</td></tr><tr><td>388772</td><td>&quot;*Oc1ccc(S(=O)(=O)c2ccc(Oc3ccc(…</td><td>null</td><td>0.37886</td><td>null</td><td>null</td><td>null</td></tr><tr><td>519416</td><td>&quot;*Nc1ccc(-c2c(-c3ccc(C)cc3)c(-c…</td><td>null</td><td>0.3873239</td><td>null</td><td>null</td><td>null</td></tr><tr><td>539187</td><td>&quot;*Oc1ccc(OC(=O)c2cc(OCCCCCCCCCO…</td><td>null</td><td>0.35547</td><td>null</td><td>null</td><td>null</td></tr></tbody></table></div>"
      ],
      "text/plain": [
       "shape: (5, 7)\n",
       "┌────────┬─────────────────────────────────┬──────┬───────────┬──────────┬─────────┬──────┐\n",
       "│ id     ┆ SMILES                          ┆ Tg   ┆ FFV       ┆ Tc       ┆ Density ┆ Rg   │\n",
       "│ ---    ┆ ---                             ┆ ---  ┆ ---       ┆ ---      ┆ ---     ┆ ---  │\n",
       "│ i64    ┆ str                             ┆ f64  ┆ f64       ┆ f64      ┆ f64     ┆ f64  │\n",
       "╞════════╪═════════════════════════════════╪══════╪═══════════╪══════════╪═════════╪══════╡\n",
       "│ 87817  ┆ *CC(*)c1ccccc1C(=O)OCCCCCC      ┆ null ┆ 0.374645  ┆ 0.205667 ┆ null    ┆ null │\n",
       "│ 106919 ┆ *Nc1ccc([C@H](CCC)c2ccc(C3(c4c… ┆ null ┆ 0.3704102 ┆ null     ┆ null    ┆ null │\n",
       "│ 388772 ┆ *Oc1ccc(S(=O)(=O)c2ccc(Oc3ccc(… ┆ null ┆ 0.37886   ┆ null     ┆ null    ┆ null │\n",
       "│ 519416 ┆ *Nc1ccc(-c2c(-c3ccc(C)cc3)c(-c… ┆ null ┆ 0.3873239 ┆ null     ┆ null    ┆ null │\n",
       "│ 539187 ┆ *Oc1ccc(OC(=O)c2cc(OCCCCCCCCCO… ┆ null ┆ 0.35547   ┆ null     ┆ null    ┆ null │\n",
       "└────────┴─────────────────────────────────┴──────┴───────────┴──────────┴─────────┴──────┘"
      ]
     },
     "execution_count": 3,
     "metadata": {},
     "output_type": "execute_result"
    }
   ],
   "source": [
    "train_df = pl.read_csv('train.csv')\n",
    "train_df.head()"
   ]
  },
  {
   "cell_type": "code",
   "execution_count": 5,
   "id": "feb8daff",
   "metadata": {},
   "outputs": [
    {
     "data": {
      "text/html": [
       "<div><style>\n",
       ".dataframe > thead > tr,\n",
       ".dataframe > tbody > tr {\n",
       "  text-align: right;\n",
       "  white-space: pre-wrap;\n",
       "}\n",
       "</style>\n",
       "<small>shape: (5, 2)</small><table border=\"1\" class=\"dataframe\"><thead><tr><th>SMILES</th><th>TC_mean</th></tr><tr><td>str</td><td>f64</td></tr></thead><tbody><tr><td>&quot;*/C(=C(\\c1ccccc1)c1ccc(*)cc1)c…</td><td>0.338</td></tr><tr><td>&quot;*/C(F)=C(\\F)C(F)(C(*)(F)F)C(F)…</td><td>0.102</td></tr><tr><td>&quot;*/C=C(/*)C#CCCCCCCCCCCCCCCCCCC…</td><td>0.4105</td></tr><tr><td>&quot;*/C=C(/*)CCCCCCCCCCCCCCCCCCCCC…</td><td>0.403</td></tr><tr><td>&quot;*/C=C/*&quot;</td><td>0.526</td></tr></tbody></table></div>"
      ],
      "text/plain": [
       "shape: (5, 2)\n",
       "┌─────────────────────────────────┬─────────┐\n",
       "│ SMILES                          ┆ TC_mean │\n",
       "│ ---                             ┆ ---     │\n",
       "│ str                             ┆ f64     │\n",
       "╞═════════════════════════════════╪═════════╡\n",
       "│ */C(=C(\\c1ccccc1)c1ccc(*)cc1)c… ┆ 0.338   │\n",
       "│ */C(F)=C(\\F)C(F)(C(*)(F)F)C(F)… ┆ 0.102   │\n",
       "│ */C=C(/*)C#CCCCCCCCCCCCCCCCCCC… ┆ 0.4105  │\n",
       "│ */C=C(/*)CCCCCCCCCCCCCCCCCCCCC… ┆ 0.403   │\n",
       "│ */C=C/*                         ┆ 0.526   │\n",
       "└─────────────────────────────────┴─────────┘"
      ]
     },
     "execution_count": 5,
     "metadata": {},
     "output_type": "execute_result"
    }
   ],
   "source": [
    "extra_tc_df = pl.read_csv('train_supplement/dataset1.csv')\n",
    "extra_tc_df.head()"
   ]
  },
  {
   "cell_type": "code",
   "execution_count": 6,
   "id": "670d2f98",
   "metadata": {},
   "outputs": [
    {
     "data": {
      "text/html": [
       "<div><style>\n",
       ".dataframe > thead > tr,\n",
       ".dataframe > tbody > tr {\n",
       "  text-align: right;\n",
       "  white-space: pre-wrap;\n",
       "}\n",
       "</style>\n",
       "<small>shape: (5, 2)</small><table border=\"1\" class=\"dataframe\"><thead><tr><th>SMILES</th><th>Tg</th></tr><tr><td>str</td><td>f64</td></tr></thead><tbody><tr><td>&quot;*=Nc1ccc(N=C(C)Nc2ccc(-c3ccc(N…</td><td>89.380459</td></tr><tr><td>&quot;*C(=O)OC(=O)COc1ccc(OCC(=O)OC(…</td><td>155.970957</td></tr><tr><td>&quot;*C(=O)c1ccc(C(=O)c2ccc(C=C3CCC…</td><td>192.209684</td></tr><tr><td>&quot;*C=C(*)c1ccc(OCCCCCC(=O)Oc2c(F…</td><td>73.831985</td></tr><tr><td>&quot;*C=CC1C=CC(*)c2ccc(CCCCCC)cc21&quot;</td><td>9.704073</td></tr></tbody></table></div>"
      ],
      "text/plain": [
       "shape: (5, 2)\n",
       "┌─────────────────────────────────┬────────────┐\n",
       "│ SMILES                          ┆ Tg         │\n",
       "│ ---                             ┆ ---        │\n",
       "│ str                             ┆ f64        │\n",
       "╞═════════════════════════════════╪════════════╡\n",
       "│ *=Nc1ccc(N=C(C)Nc2ccc(-c3ccc(N… ┆ 89.380459  │\n",
       "│ *C(=O)OC(=O)COc1ccc(OCC(=O)OC(… ┆ 155.970957 │\n",
       "│ *C(=O)c1ccc(C(=O)c2ccc(C=C3CCC… ┆ 192.209684 │\n",
       "│ *C=C(*)c1ccc(OCCCCCC(=O)Oc2c(F… ┆ 73.831985  │\n",
       "│ *C=CC1C=CC(*)c2ccc(CCCCCC)cc21  ┆ 9.704073   │\n",
       "└─────────────────────────────────┴────────────┘"
      ]
     },
     "execution_count": 6,
     "metadata": {},
     "output_type": "execute_result"
    }
   ],
   "source": [
    "extra_tg_df = pl.read_csv('train_supplement/dataset3.csv')\n",
    "extra_tg_df.head()"
   ]
  },
  {
   "cell_type": "code",
   "execution_count": 7,
   "id": "5f804fb7",
   "metadata": {},
   "outputs": [
    {
     "data": {
      "text/html": [
       "<div><style>\n",
       ".dataframe > thead > tr,\n",
       ".dataframe > tbody > tr {\n",
       "  text-align: right;\n",
       "  white-space: pre-wrap;\n",
       "}\n",
       "</style>\n",
       "<small>shape: (5, 2)</small><table border=\"1\" class=\"dataframe\"><thead><tr><th>SMILES</th><th>FFV</th></tr><tr><td>str</td><td>f64</td></tr></thead><tbody><tr><td>&quot;*C(=O)NNC(=O)c1ccc([Si](c2cccc…</td><td>0.372725</td></tr><tr><td>&quot;*C(=O)NNC(=O)c1ccc([Si](c2cccc…</td><td>0.365478</td></tr><tr><td>&quot;*C(=O)Nc1cc(NC(=O)c2ccc3[nH]c(…</td><td>0.376377</td></tr><tr><td>&quot;*C(=O)Nc1ccc(-c2cc(-c3ccccc3)c…</td><td>0.376939</td></tr><tr><td>&quot;*C(=O)Nc1ccc(-c2ccc(NC(=O)c3cc…</td><td>0.355235</td></tr></tbody></table></div>"
      ],
      "text/plain": [
       "shape: (5, 2)\n",
       "┌─────────────────────────────────┬──────────┐\n",
       "│ SMILES                          ┆ FFV      │\n",
       "│ ---                             ┆ ---      │\n",
       "│ str                             ┆ f64      │\n",
       "╞═════════════════════════════════╪══════════╡\n",
       "│ *C(=O)NNC(=O)c1ccc([Si](c2cccc… ┆ 0.372725 │\n",
       "│ *C(=O)NNC(=O)c1ccc([Si](c2cccc… ┆ 0.365478 │\n",
       "│ *C(=O)Nc1cc(NC(=O)c2ccc3[nH]c(… ┆ 0.376377 │\n",
       "│ *C(=O)Nc1ccc(-c2cc(-c3ccccc3)c… ┆ 0.376939 │\n",
       "│ *C(=O)Nc1ccc(-c2ccc(NC(=O)c3cc… ┆ 0.355235 │\n",
       "└─────────────────────────────────┴──────────┘"
      ]
     },
     "execution_count": 7,
     "metadata": {},
     "output_type": "execute_result"
    }
   ],
   "source": [
    "extra_ffv_df = pl.read_csv('train_supplement/dataset4.csv')\n",
    "extra_ffv_df.head()"
   ]
  },
  {
   "cell_type": "markdown",
   "id": "4616aa3f",
   "metadata": {},
   "source": [
    "# Deduplicate & merge \"extra\" data"
   ]
  },
  {
   "cell_type": "code",
   "execution_count": 12,
   "id": "162c333c",
   "metadata": {},
   "outputs": [
    {
     "name": "stdout",
     "output_type": "stream",
     "text": [
      "shape: (5, 6)\n",
      "┌─────────────────────────────────┬──────┬──────────┬───────┬─────────┬──────┐\n",
      "│ SMILES                          ┆ Tg   ┆ FFV      ┆ Tc    ┆ Density ┆ Rg   │\n",
      "│ ---                             ┆ ---  ┆ ---      ┆ ---   ┆ ---     ┆ ---  │\n",
      "│ str                             ┆ f64  ┆ f64      ┆ f64   ┆ f64     ┆ f64  │\n",
      "╞═════════════════════════════════╪══════╪══════════╪═══════╪═════════╪══════╡\n",
      "│ *Oc1ccc(/N=C/C=N/c2ccc(OC(=O)N… ┆ null ┆ null     ┆ 0.349 ┆ null    ┆ null │\n",
      "│ *CC(F)(F)C1(F)CC(C(O)(C(F)(F)F… ┆ null ┆ 0.320846 ┆ 0.109 ┆ null    ┆ null │\n",
      "│ *CCCCOC(=O)CCCCCCCC(=O)O*       ┆ null ┆ null     ┆ 0.241 ┆ null    ┆ null │\n",
      "│ *CCCCCCCCCCc1ccc(-c2c(-c3ccccc… ┆ null ┆ 0.398266 ┆ 0.21  ┆ null    ┆ null │\n",
      "│ *c1ccc(-c2ccc(-c3sc(*)c(CCCCCC… ┆ null ┆ null     ┆ 0.299 ┆ null    ┆ null │\n",
      "└─────────────────────────────────┴──────┴──────────┴───────┴─────────┴──────┘\n"
     ]
    },
    {
     "name": "stderr",
     "output_type": "stream",
     "text": [
      "/tmp/ipykernel_1577734/542523425.py:33: DeprecationWarning: use of `how='outer'` should be replaced with `how='full'`.\n",
      "(Deprecated in version 0.20.29)\n",
      "  lambda left, right: left.join(\n"
     ]
    }
   ],
   "source": [
    "import polars as pl\n",
    "from rdkit import Chem\n",
    "from typing import Optional\n",
    "from functools import reduce\n",
    "\n",
    "# ---------- helpers ----------\n",
    "def canonicalise_smiles(smiles: str) -> Optional[str]:\n",
    "    \"\"\"Return RDKit canonical SMILES or None if the string is not parseable.\"\"\"\n",
    "    molecule = Chem.MolFromSmiles(smiles)\n",
    "    return None if molecule is None else Chem.MolToSmiles(\n",
    "        molecule, canonical=True, isomericSmiles=True\n",
    "    )\n",
    "\n",
    "def load_and_canonicalise(path: str, smiles_column: str = \"SMILES\") -> pl.DataFrame:\n",
    "    \"\"\"\n",
    "    Read a CSV with a SMILES column, canonicalise every entry, drop unparsable rows,\n",
    "    and de-duplicate within the file.\n",
    "    \"\"\"\n",
    "    return (\n",
    "        pl.read_csv(path)\n",
    "        .with_columns(\n",
    "            pl.col(smiles_column)\n",
    "            .map_elements(canonicalise_smiles, return_dtype=pl.String)\n",
    "            .alias(\"SMILES\")\n",
    "        )\n",
    "        .drop_nulls(\"SMILES\")          # remove rows RDKit failed to parse\n",
    "        .unique(subset=[\"SMILES\"])     # remove duplicates inside this file\n",
    "    )\n",
    "\n",
    "def outer_join_on_smiles(frames: list[pl.DataFrame]) -> pl.DataFrame:\n",
    "    \"\"\"Outer-join a list of data-frames on the SMILES column, coalescing duplicates.\"\"\"\n",
    "    return reduce(\n",
    "        lambda left, right: left.join(\n",
    "            right,\n",
    "            on=\"SMILES\",\n",
    "            how=\"outer\",\n",
    "            coalesce=True          # <- keep only one copy of the join key\n",
    "        ),\n",
    "        frames,\n",
    "    )\n",
    "\n",
    "# ---------- main training data ----------\n",
    "train_df = load_and_canonicalise(\"train.csv\")\n",
    "train_smiles_set: set[str] = set(train_df.get_column(\"SMILES\"))  # for fast membership checks\n",
    "\n",
    "# ---------- supplemental datasets ----------\n",
    "extra_tc_df  = load_and_canonicalise(\"train_supplement/dataset1.csv\").rename({\"TC_mean\": \"Tc\"})\n",
    "extra_tg_df  = load_and_canonicalise(\"train_supplement/dataset3.csv\")          # already has 'Tg'\n",
    "extra_ffv_df = load_and_canonicalise(\"train_supplement/dataset4.csv\")          # already has 'FFV'\n",
    "\n",
    "# ---------- outer-join the three supplemental sources ----------\n",
    "# extra_df = outer_join_on_smiles([extra_tc_df, extra_tg_df, extra_ffv_df])\n",
    "extra_df = outer_join_on_smiles([extra_tg_df, extra_ffv_df])\n",
    "\n",
    "# ---------- drop rows that overlap the main training set ----------\n",
    "extra_df = extra_df.filter(~pl.col(\"SMILES\").is_in(train_smiles_set))\n",
    "\n",
    "# ---------- add the remaining label columns, filled with null ----------\n",
    "for missing_column in [\"Density\", \"Rg\"]:\n",
    "    extra_df = extra_df.with_columns(\n",
    "        pl.lit(None).cast(pl.Float64).alias(missing_column)\n",
    "    )\n",
    "\n",
    "# ---------- reorder columns to mirror the training data ----------\n",
    "desired_column_order = [\"SMILES\", \"Tg\", \"FFV\", \"Tc\", \"Density\", \"Rg\"]\n",
    "extra_df = extra_df.select(desired_column_order)\n",
    "\n",
    "# ---------- done ----------\n",
    "print(extra_df.head())"
   ]
  },
  {
   "cell_type": "code",
   "execution_count": 14,
   "id": "a77a462e",
   "metadata": {},
   "outputs": [
    {
     "data": {
      "text/html": [
       "<div><style>\n",
       ".dataframe > thead > tr,\n",
       ".dataframe > tbody > tr {\n",
       "  text-align: right;\n",
       "  white-space: pre-wrap;\n",
       "}\n",
       "</style>\n",
       "<small>shape: (9, 7)</small><table border=\"1\" class=\"dataframe\"><thead><tr><th>statistic</th><th>SMILES</th><th>Tg</th><th>FFV</th><th>Tc</th><th>Density</th><th>Rg</th></tr><tr><td>str</td><td>str</td><td>f64</td><td>f64</td><td>f64</td><td>f64</td><td>f64</td></tr></thead><tbody><tr><td>&quot;count&quot;</td><td>&quot;999&quot;</td><td>46.0</td><td>862.0</td><td>129.0</td><td>0.0</td><td>0.0</td></tr><tr><td>&quot;null_count&quot;</td><td>&quot;0&quot;</td><td>953.0</td><td>137.0</td><td>870.0</td><td>999.0</td><td>999.0</td></tr><tr><td>&quot;mean&quot;</td><td>null</td><td>135.695015</td><td>0.365336</td><td>0.258497</td><td>null</td><td>null</td></tr><tr><td>&quot;std&quot;</td><td>null</td><td>103.846834</td><td>0.024155</td><td>0.152331</td><td>null</td><td>null</td></tr><tr><td>&quot;min&quot;</td><td>&quot;*/C(=C(\\c1ccccc1)c1ccc(*)cc1)c…</td><td>-7.212269</td><td>0.28114</td><td>0.091</td><td>null</td><td>null</td></tr><tr><td>&quot;25%&quot;</td><td>null</td><td>54.907283</td><td>0.350098</td><td>0.198</td><td>null</td><td>null</td></tr><tr><td>&quot;50%&quot;</td><td>null</td><td>118.836135</td><td>0.361871</td><td>0.235</td><td>null</td><td>null</td></tr><tr><td>&quot;75%&quot;</td><td>null</td><td>198.902674</td><td>0.375607</td><td>0.294</td><td>null</td><td>null</td></tr><tr><td>&quot;max&quot;</td><td>&quot;*c1sc(-c2cc(CCCCCCCCCC)c(*)s2)…</td><td>421.982243</td><td>0.525164</td><td>1.59</td><td>null</td><td>null</td></tr></tbody></table></div>"
      ],
      "text/plain": [
       "shape: (9, 7)\n",
       "┌────────────┬────────────────────────────────┬────────────┬──────────┬──────────┬─────────┬───────┐\n",
       "│ statistic  ┆ SMILES                         ┆ Tg         ┆ FFV      ┆ Tc       ┆ Density ┆ Rg    │\n",
       "│ ---        ┆ ---                            ┆ ---        ┆ ---      ┆ ---      ┆ ---     ┆ ---   │\n",
       "│ str        ┆ str                            ┆ f64        ┆ f64      ┆ f64      ┆ f64     ┆ f64   │\n",
       "╞════════════╪════════════════════════════════╪════════════╪══════════╪══════════╪═════════╪═══════╡\n",
       "│ count      ┆ 999                            ┆ 46.0       ┆ 862.0    ┆ 129.0    ┆ 0.0     ┆ 0.0   │\n",
       "│ null_count ┆ 0                              ┆ 953.0      ┆ 137.0    ┆ 870.0    ┆ 999.0   ┆ 999.0 │\n",
       "│ mean       ┆ null                           ┆ 135.695015 ┆ 0.365336 ┆ 0.258497 ┆ null    ┆ null  │\n",
       "│ std        ┆ null                           ┆ 103.846834 ┆ 0.024155 ┆ 0.152331 ┆ null    ┆ null  │\n",
       "│ min        ┆ */C(=C(\\c1ccccc1)c1ccc(*)cc1)c ┆ -7.212269  ┆ 0.28114  ┆ 0.091    ┆ null    ┆ null  │\n",
       "│            ┆ …                              ┆            ┆          ┆          ┆         ┆       │\n",
       "│ 25%        ┆ null                           ┆ 54.907283  ┆ 0.350098 ┆ 0.198    ┆ null    ┆ null  │\n",
       "│ 50%        ┆ null                           ┆ 118.836135 ┆ 0.361871 ┆ 0.235    ┆ null    ┆ null  │\n",
       "│ 75%        ┆ null                           ┆ 198.902674 ┆ 0.375607 ┆ 0.294    ┆ null    ┆ null  │\n",
       "│ max        ┆ *c1sc(-c2cc(CCCCCCCCCC)c(*)s2) ┆ 421.982243 ┆ 0.525164 ┆ 1.59     ┆ null    ┆ null  │\n",
       "│            ┆ …                              ┆            ┆          ┆          ┆         ┆       │\n",
       "└────────────┴────────────────────────────────┴────────────┴──────────┴──────────┴─────────┴───────┘"
      ]
     },
     "execution_count": 14,
     "metadata": {},
     "output_type": "execute_result"
    }
   ],
   "source": [
    "extra_df.describe()"
   ]
  },
  {
   "cell_type": "code",
   "execution_count": 15,
   "id": "55862b2d",
   "metadata": {},
   "outputs": [
    {
     "data": {
      "text/html": [
       "<div><style>\n",
       ".dataframe > thead > tr,\n",
       ".dataframe > tbody > tr {\n",
       "  text-align: right;\n",
       "  white-space: pre-wrap;\n",
       "}\n",
       "</style>\n",
       "<small>shape: (9, 7)</small><table border=\"1\" class=\"dataframe\"><thead><tr><th>statistic</th><th>SMILES</th><th>Tg</th><th>FFV</th><th>Tc</th><th>Density</th><th>Rg</th></tr><tr><td>str</td><td>str</td><td>f64</td><td>f64</td><td>f64</td><td>f64</td><td>f64</td></tr></thead><tbody><tr><td>&quot;count&quot;</td><td>&quot;999&quot;</td><td>46.0</td><td>862.0</td><td>129.0</td><td>0.0</td><td>0.0</td></tr><tr><td>&quot;null_count&quot;</td><td>&quot;0&quot;</td><td>953.0</td><td>137.0</td><td>870.0</td><td>999.0</td><td>999.0</td></tr><tr><td>&quot;mean&quot;</td><td>null</td><td>135.695015</td><td>0.365336</td><td>0.258497</td><td>null</td><td>null</td></tr><tr><td>&quot;std&quot;</td><td>null</td><td>103.846834</td><td>0.024155</td><td>0.152331</td><td>null</td><td>null</td></tr><tr><td>&quot;min&quot;</td><td>&quot;*/C(=C(\\c1ccccc1)c1ccc(*)cc1)c…</td><td>-7.212269</td><td>0.28114</td><td>0.091</td><td>null</td><td>null</td></tr><tr><td>&quot;25%&quot;</td><td>null</td><td>54.907283</td><td>0.350098</td><td>0.198</td><td>null</td><td>null</td></tr><tr><td>&quot;50%&quot;</td><td>null</td><td>118.836135</td><td>0.361871</td><td>0.235</td><td>null</td><td>null</td></tr><tr><td>&quot;75%&quot;</td><td>null</td><td>198.902674</td><td>0.375607</td><td>0.294</td><td>null</td><td>null</td></tr><tr><td>&quot;max&quot;</td><td>&quot;*c1sc(-c2cc(CCCCCCCCCC)c(*)s2)…</td><td>421.982243</td><td>0.525164</td><td>1.59</td><td>null</td><td>null</td></tr></tbody></table></div>"
      ],
      "text/plain": [
       "shape: (9, 7)\n",
       "┌────────────┬────────────────────────────────┬────────────┬──────────┬──────────┬─────────┬───────┐\n",
       "│ statistic  ┆ SMILES                         ┆ Tg         ┆ FFV      ┆ Tc       ┆ Density ┆ Rg    │\n",
       "│ ---        ┆ ---                            ┆ ---        ┆ ---      ┆ ---      ┆ ---     ┆ ---   │\n",
       "│ str        ┆ str                            ┆ f64        ┆ f64      ┆ f64      ┆ f64     ┆ f64   │\n",
       "╞════════════╪════════════════════════════════╪════════════╪══════════╪══════════╪═════════╪═══════╡\n",
       "│ count      ┆ 999                            ┆ 46.0       ┆ 862.0    ┆ 129.0    ┆ 0.0     ┆ 0.0   │\n",
       "│ null_count ┆ 0                              ┆ 953.0      ┆ 137.0    ┆ 870.0    ┆ 999.0   ┆ 999.0 │\n",
       "│ mean       ┆ null                           ┆ 135.695015 ┆ 0.365336 ┆ 0.258497 ┆ null    ┆ null  │\n",
       "│ std        ┆ null                           ┆ 103.846834 ┆ 0.024155 ┆ 0.152331 ┆ null    ┆ null  │\n",
       "│ min        ┆ */C(=C(\\c1ccccc1)c1ccc(*)cc1)c ┆ -7.212269  ┆ 0.28114  ┆ 0.091    ┆ null    ┆ null  │\n",
       "│            ┆ …                              ┆            ┆          ┆          ┆         ┆       │\n",
       "│ 25%        ┆ null                           ┆ 54.907283  ┆ 0.350098 ┆ 0.198    ┆ null    ┆ null  │\n",
       "│ 50%        ┆ null                           ┆ 118.836135 ┆ 0.361871 ┆ 0.235    ┆ null    ┆ null  │\n",
       "│ 75%        ┆ null                           ┆ 198.902674 ┆ 0.375607 ┆ 0.294    ┆ null    ┆ null  │\n",
       "│ max        ┆ *c1sc(-c2cc(CCCCCCCCCC)c(*)s2) ┆ 421.982243 ┆ 0.525164 ┆ 1.59     ┆ null    ┆ null  │\n",
       "│            ┆ …                              ┆            ┆          ┆          ┆         ┆       │\n",
       "└────────────┴────────────────────────────────┴────────────┴──────────┴──────────┴─────────┴───────┘"
      ]
     },
     "execution_count": 15,
     "metadata": {},
     "output_type": "execute_result"
    }
   ],
   "source": [
    "extra_df.describe()"
   ]
  },
  {
   "cell_type": "code",
   "execution_count": 13,
   "id": "3d67cf2a",
   "metadata": {},
   "outputs": [],
   "source": [
    "extra_df.write_csv('extra_train.csv')"
   ]
  },
  {
   "cell_type": "markdown",
   "id": "31fdc016",
   "metadata": {},
   "source": [
    "# Extract extra data from previous merge"
   ]
  },
  {
   "cell_type": "code",
   "execution_count": 40,
   "id": "c153b004",
   "metadata": {},
   "outputs": [
    {
     "name": "stderr",
     "output_type": "stream",
     "text": [
      "/tmp/ipykernel_1577734/3417444997.py:35: DeprecationWarning: `is_in` with a collection of the same datatype is ambiguous and deprecated.\n",
      "Please use `implode` to return to previous behavior.\n",
      "\n",
      "See https://github.com/pola-rs/polars/issues/22149 for more information.\n",
      "  filtered_tc_only_df = tc_only_df.filter(\n"
     ]
    }
   ],
   "source": [
    "import polars as pl\n",
    "from rdkit import Chem\n",
    "from typing import Optional\n",
    "\n",
    "\n",
    "def canonicalise_smiles(smiles: str) -> Optional[str]:\n",
    "    \"\"\"Return RDKit canonical SMILES (isomeric) or None on parse failure.\"\"\"\n",
    "    molecule = Chem.MolFromSmiles(smiles)\n",
    "    return None if molecule is None else Chem.MolToSmiles(\n",
    "        molecule, canonical=True, isomericSmiles=True\n",
    "    )\n",
    "\n",
    "\n",
    "# def load_with_canonical(path: str) -> pl.DataFrame:\n",
    "#     \"\"\"\n",
    "#     Read a CSV that has a 'SMILES' column, add a canonicalised version,\n",
    "#     and drop any rows RDKit could not parse.\n",
    "#     \"\"\"\n",
    "#     return (\n",
    "#         pl.read_csv(path)\n",
    "#         .with_columns(\n",
    "#             pl.col(\"SMILES\")\n",
    "#             .map_elements(canonicalise_smiles, return_dtype=pl.String)\n",
    "#             .alias(\"SMILES_CAN\")\n",
    "#         )\n",
    "#         .drop_nulls(\"SMILES_CAN\")\n",
    "#     )\n",
    "\n",
    "\n",
    "# ---------- load the two datasets ----------\n",
    "train_df = load_and_canonicalise(\"train.csv\")\n",
    "tc_only_df = load_and_canonicalise(\"../from_dmitry/host_tc-natsume_full-dmitry.csv\")\n",
    "\n",
    "# ---------- filter out rows whose canonical SMILES already appear in train ----------\n",
    "filtered_tc_only_df = tc_only_df.filter(\n",
    "    ~pl.col(\"SMILES\").is_in(train_df.get_column(\"SMILES\"))\n",
    ")\n",
    "\n",
    "# ---------- drop the helper column and save ----------\n",
    "filtered_tc_only_df = filtered_tc_only_df.select(['SMILES', 'Tg', 'FFV', 'Tc', 'Density', 'Rg'])\n",
    "filtered_tc_only_df.write_csv(\"train_tc-natsume_full-dmitry_extra.csv\")"
   ]
  },
  {
   "cell_type": "code",
   "execution_count": 41,
   "id": "9334b8c9",
   "metadata": {},
   "outputs": [
    {
     "data": {
      "text/html": [
       "<div><style>\n",
       ".dataframe > thead > tr,\n",
       ".dataframe > tbody > tr {\n",
       "  text-align: right;\n",
       "  white-space: pre-wrap;\n",
       "}\n",
       "</style>\n",
       "<small>shape: (5, 6)</small><table border=\"1\" class=\"dataframe\"><thead><tr><th>SMILES</th><th>Tg</th><th>FFV</th><th>Tc</th><th>Density</th><th>Rg</th></tr><tr><td>str</td><td>f64</td><td>f64</td><td>f64</td><td>f64</td><td>f64</td></tr></thead><tbody><tr><td>&quot;Cc1ccc(NC=S)cc1&quot;</td><td>null</td><td>null</td><td>null</td><td>1.342</td><td>null</td></tr><tr><td>&quot;FC(F)(F)C(Cl)Cl&quot;</td><td>-214.15</td><td>null</td><td>null</td><td>null</td><td>null</td></tr><tr><td>&quot;*CCC(C)(C)CC(C)CNC(=O)CCCCC(=O…</td><td>54.82</td><td>null</td><td>null</td><td>null</td><td>null</td></tr><tr><td>&quot;*c1ccc(-c2ccc(-c3ccc(C(*)c4c(F…</td><td>null</td><td>null</td><td>0.291</td><td>null</td><td>null</td></tr><tr><td>&quot;c1ccc(C2=C(c3ccccc3)CCCC2)cc1&quot;</td><td>-43.15</td><td>null</td><td>null</td><td>null</td><td>null</td></tr></tbody></table></div>"
      ],
      "text/plain": [
       "shape: (5, 6)\n",
       "┌─────────────────────────────────┬─────────┬──────┬───────┬─────────┬──────┐\n",
       "│ SMILES                          ┆ Tg      ┆ FFV  ┆ Tc    ┆ Density ┆ Rg   │\n",
       "│ ---                             ┆ ---     ┆ ---  ┆ ---   ┆ ---     ┆ ---  │\n",
       "│ str                             ┆ f64     ┆ f64  ┆ f64   ┆ f64     ┆ f64  │\n",
       "╞═════════════════════════════════╪═════════╪══════╪═══════╪═════════╪══════╡\n",
       "│ Cc1ccc(NC=S)cc1                 ┆ null    ┆ null ┆ null  ┆ 1.342   ┆ null │\n",
       "│ FC(F)(F)C(Cl)Cl                 ┆ -214.15 ┆ null ┆ null  ┆ null    ┆ null │\n",
       "│ *CCC(C)(C)CC(C)CNC(=O)CCCCC(=O… ┆ 54.82   ┆ null ┆ null  ┆ null    ┆ null │\n",
       "│ *c1ccc(-c2ccc(-c3ccc(C(*)c4c(F… ┆ null    ┆ null ┆ 0.291 ┆ null    ┆ null │\n",
       "│ c1ccc(C2=C(c3ccccc3)CCCC2)cc1   ┆ -43.15  ┆ null ┆ null  ┆ null    ┆ null │\n",
       "└─────────────────────────────────┴─────────┴──────┴───────┴─────────┴──────┘"
      ]
     },
     "execution_count": 41,
     "metadata": {},
     "output_type": "execute_result"
    }
   ],
   "source": [
    "filtered_tc_only_df.head()"
   ]
  },
  {
   "cell_type": "code",
   "execution_count": 42,
   "id": "109ffd84",
   "metadata": {},
   "outputs": [
    {
     "data": {
      "text/html": [
       "<div><style>\n",
       ".dataframe > thead > tr,\n",
       ".dataframe > tbody > tr {\n",
       "  text-align: right;\n",
       "  white-space: pre-wrap;\n",
       "}\n",
       "</style>\n",
       "<small>shape: (9, 7)</small><table border=\"1\" class=\"dataframe\"><thead><tr><th>statistic</th><th>SMILES</th><th>Tg</th><th>FFV</th><th>Tc</th><th>Density</th><th>Rg</th></tr><tr><td>str</td><td>str</td><td>f64</td><td>f64</td><td>f64</td><td>f64</td><td>f64</td></tr></thead><tbody><tr><td>&quot;count&quot;</td><td>&quot;1288&quot;</td><td>644.0</td><td>0.0</td><td>129.0</td><td>534.0</td><td>0.0</td></tr><tr><td>&quot;null_count&quot;</td><td>&quot;0&quot;</td><td>644.0</td><td>1288.0</td><td>1159.0</td><td>754.0</td><td>1288.0</td></tr><tr><td>&quot;mean&quot;</td><td>null</td><td>18.681626</td><td>null</td><td>0.258497</td><td>1.181622</td><td>null</td></tr><tr><td>&quot;std&quot;</td><td>null</td><td>121.725003</td><td>null</td><td>0.152331</td><td>0.223516</td><td>null</td></tr><tr><td>&quot;min&quot;</td><td>&quot;*.*C/C=C/CC.*CC(*)C#N.*CCC(C*)…</td><td>-255.15</td><td>null</td><td>0.091</td><td>0.752</td><td>null</td></tr><tr><td>&quot;25%&quot;</td><td>null</td><td>-74.65</td><td>null</td><td>0.198</td><td>1.002</td><td>null</td></tr><tr><td>&quot;50%&quot;</td><td>null</td><td>29.0</td><td>null</td><td>0.235</td><td>1.152</td><td>null</td></tr><tr><td>&quot;75%&quot;</td><td>null</td><td>78.110617</td><td>null</td><td>0.294</td><td>1.342</td><td>null</td></tr><tr><td>&quot;max&quot;</td><td>&quot;c1csc(-c2cccs2)c1&quot;</td><td>442.63</td><td>null</td><td>1.59</td><td>1.982</td><td>null</td></tr></tbody></table></div>"
      ],
      "text/plain": [
       "shape: (9, 7)\n",
       "┌────────────┬────────────────────────────────┬────────────┬────────┬──────────┬──────────┬────────┐\n",
       "│ statistic  ┆ SMILES                         ┆ Tg         ┆ FFV    ┆ Tc       ┆ Density  ┆ Rg     │\n",
       "│ ---        ┆ ---                            ┆ ---        ┆ ---    ┆ ---      ┆ ---      ┆ ---    │\n",
       "│ str        ┆ str                            ┆ f64        ┆ f64    ┆ f64      ┆ f64      ┆ f64    │\n",
       "╞════════════╪════════════════════════════════╪════════════╪════════╪══════════╪══════════╪════════╡\n",
       "│ count      ┆ 1288                           ┆ 644.0      ┆ 0.0    ┆ 129.0    ┆ 534.0    ┆ 0.0    │\n",
       "│ null_count ┆ 0                              ┆ 644.0      ┆ 1288.0 ┆ 1159.0   ┆ 754.0    ┆ 1288.0 │\n",
       "│ mean       ┆ null                           ┆ 18.681626  ┆ null   ┆ 0.258497 ┆ 1.181622 ┆ null   │\n",
       "│ std        ┆ null                           ┆ 121.725003 ┆ null   ┆ 0.152331 ┆ 0.223516 ┆ null   │\n",
       "│ min        ┆ *.*C/C=C/CC.*CC(*)C#N.*CCC(C*) ┆ -255.15    ┆ null   ┆ 0.091    ┆ 0.752    ┆ null   │\n",
       "│            ┆ …                              ┆            ┆        ┆          ┆          ┆        │\n",
       "│ 25%        ┆ null                           ┆ -74.65     ┆ null   ┆ 0.198    ┆ 1.002    ┆ null   │\n",
       "│ 50%        ┆ null                           ┆ 29.0       ┆ null   ┆ 0.235    ┆ 1.152    ┆ null   │\n",
       "│ 75%        ┆ null                           ┆ 78.110617  ┆ null   ┆ 0.294    ┆ 1.342    ┆ null   │\n",
       "│ max        ┆ c1csc(-c2cccs2)c1              ┆ 442.63     ┆ null   ┆ 1.59     ┆ 1.982    ┆ null   │\n",
       "└────────────┴────────────────────────────────┴────────────┴────────┴──────────┴──────────┴────────┘"
      ]
     },
     "execution_count": 42,
     "metadata": {},
     "output_type": "execute_result"
    }
   ],
   "source": [
    "filtered_tc_only_df.describe()"
   ]
  },
  {
   "cell_type": "markdown",
   "id": "e9ca2a48",
   "metadata": {},
   "source": [
    "# Check for host supplement vs. leak overlap"
   ]
  },
  {
   "cell_type": "code",
   "execution_count": 43,
   "id": "bd83111d",
   "metadata": {},
   "outputs": [
    {
     "name": "stdout",
     "output_type": "stream",
     "text": [
      "Host supplemental SMILES count: 999\n",
      "Leak SMILES count: 1288\n",
      "Shared SMILES count: 180\n"
     ]
    }
   ],
   "source": [
    "host_smiles = set(extra_df['SMILES'].to_list())\n",
    "leak_smiles = set(filtered_tc_only_df['SMILES'].to_list())\n",
    "\n",
    "print('Host supplemental SMILES count:', len(host_smiles))\n",
    "print('Leak SMILES count:', len(leak_smiles))\n",
    "print('Shared SMILES count:', len(host_smiles.intersection(leak_smiles)))"
   ]
  },
  {
   "cell_type": "code",
   "execution_count": 44,
   "id": "8601dde1",
   "metadata": {},
   "outputs": [
    {
     "data": {
      "text/html": [
       "<div><style>\n",
       ".dataframe > thead > tr,\n",
       ".dataframe > tbody > tr {\n",
       "  text-align: right;\n",
       "  white-space: pre-wrap;\n",
       "}\n",
       "</style>\n",
       "<small>shape: (180, 11)</small><table border=\"1\" class=\"dataframe\"><thead><tr><th>SMILES</th><th>Tg</th><th>FFV</th><th>Tc</th><th>Density</th><th>Rg</th><th>Tg_right</th><th>FFV_right</th><th>Tc_right</th><th>Density_right</th><th>Rg_right</th></tr><tr><td>str</td><td>f64</td><td>f64</td><td>f64</td><td>f64</td><td>f64</td><td>f64</td><td>f64</td><td>f64</td><td>f64</td><td>f64</td></tr></thead><tbody><tr><td>&quot;*c1ccc(-c2ccc(-c3ccc(C(*)c4c(F…</td><td>null</td><td>null</td><td>0.291</td><td>null</td><td>null</td><td>null</td><td>null</td><td>0.291</td><td>null</td><td>null</td></tr><tr><td>&quot;*CCCCCc1ccc(CCCCCOC(=O)c2ccc(C…</td><td>null</td><td>null</td><td>0.276</td><td>null</td><td>null</td><td>null</td><td>null</td><td>0.276</td><td>null</td><td>null</td></tr><tr><td>&quot;*c1ccc(Oc2ccc(-c3csc(/N=C/c4cc…</td><td>null</td><td>null</td><td>0.253</td><td>null</td><td>null</td><td>null</td><td>null</td><td>0.253</td><td>null</td><td>null</td></tr><tr><td>&quot;*CCCCc1nc2cc(NC(=NO)C(=NO)Nc3c…</td><td>170.113033</td><td>null</td><td>null</td><td>null</td><td>null</td><td>170.113033</td><td>null</td><td>null</td><td>null</td><td>null</td></tr><tr><td>&quot;*CCCCCCCCCCCCCCOC(=O)c1ccc(C(=…</td><td>null</td><td>null</td><td>0.258</td><td>null</td><td>null</td><td>null</td><td>null</td><td>0.258</td><td>null</td><td>null</td></tr><tr><td>&hellip;</td><td>&hellip;</td><td>&hellip;</td><td>&hellip;</td><td>&hellip;</td><td>&hellip;</td><td>&hellip;</td><td>&hellip;</td><td>&hellip;</td><td>&hellip;</td><td>&hellip;</td></tr><tr><td>&quot;*CC(O)COc1c(Cl)cc(C(C)(C)c2cc(…</td><td>null</td><td>0.36747</td><td>0.1485</td><td>null</td><td>null</td><td>null</td><td>null</td><td>0.1485</td><td>null</td><td>null</td></tr><tr><td>&quot;*CCCCOC(=O)c1cccc(-c2cccc(C(=O…</td><td>null</td><td>null</td><td>0.203</td><td>null</td><td>null</td><td>null</td><td>null</td><td>0.203</td><td>null</td><td>null</td></tr><tr><td>&quot;*CCCCCCCCCCCCCCCCOC(=O)CCCCCCC…</td><td>null</td><td>0.375447</td><td>0.308</td><td>null</td><td>null</td><td>null</td><td>null</td><td>0.308</td><td>null</td><td>null</td></tr><tr><td>&quot;*CCc1ccc(*)c(C(=O)OC)c1&quot;</td><td>null</td><td>null</td><td>0.245</td><td>null</td><td>null</td><td>null</td><td>null</td><td>0.245</td><td>null</td><td>null</td></tr><tr><td>&quot;*CC(*)c1ccc(C(=O)CCN2CCCCC2)cc…</td><td>null</td><td>0.373112</td><td>0.225</td><td>null</td><td>null</td><td>null</td><td>null</td><td>0.225</td><td>null</td><td>null</td></tr></tbody></table></div>"
      ],
      "text/plain": [
       "shape: (180, 11)\n",
       "┌─────────────┬────────────┬──────────┬────────┬───┬───────────┬──────────┬─────────────┬──────────┐\n",
       "│ SMILES      ┆ Tg         ┆ FFV      ┆ Tc     ┆ … ┆ FFV_right ┆ Tc_right ┆ Density_rig ┆ Rg_right │\n",
       "│ ---         ┆ ---        ┆ ---      ┆ ---    ┆   ┆ ---       ┆ ---      ┆ ht          ┆ ---      │\n",
       "│ str         ┆ f64        ┆ f64      ┆ f64    ┆   ┆ f64       ┆ f64      ┆ ---         ┆ f64      │\n",
       "│             ┆            ┆          ┆        ┆   ┆           ┆          ┆ f64         ┆          │\n",
       "╞═════════════╪════════════╪══════════╪════════╪═══╪═══════════╪══════════╪═════════════╪══════════╡\n",
       "│ *c1ccc(-c2c ┆ null       ┆ null     ┆ 0.291  ┆ … ┆ null      ┆ 0.291    ┆ null        ┆ null     │\n",
       "│ cc(-c3ccc(C ┆            ┆          ┆        ┆   ┆           ┆          ┆             ┆          │\n",
       "│ (*)c4c(F…   ┆            ┆          ┆        ┆   ┆           ┆          ┆             ┆          │\n",
       "│ *CCCCCc1ccc ┆ null       ┆ null     ┆ 0.276  ┆ … ┆ null      ┆ 0.276    ┆ null        ┆ null     │\n",
       "│ (CCCCCOC(=O ┆            ┆          ┆        ┆   ┆           ┆          ┆             ┆          │\n",
       "│ )c2ccc(C…   ┆            ┆          ┆        ┆   ┆           ┆          ┆             ┆          │\n",
       "│ *c1ccc(Oc2c ┆ null       ┆ null     ┆ 0.253  ┆ … ┆ null      ┆ 0.253    ┆ null        ┆ null     │\n",
       "│ cc(-c3csc(/ ┆            ┆          ┆        ┆   ┆           ┆          ┆             ┆          │\n",
       "│ N=C/c4cc…   ┆            ┆          ┆        ┆   ┆           ┆          ┆             ┆          │\n",
       "│ *CCCCc1nc2c ┆ 170.113033 ┆ null     ┆ null   ┆ … ┆ null      ┆ null     ┆ null        ┆ null     │\n",
       "│ c(NC(=NO)C( ┆            ┆          ┆        ┆   ┆           ┆          ┆             ┆          │\n",
       "│ =NO)Nc3c…   ┆            ┆          ┆        ┆   ┆           ┆          ┆             ┆          │\n",
       "│ *CCCCCCCCCC ┆ null       ┆ null     ┆ 0.258  ┆ … ┆ null      ┆ 0.258    ┆ null        ┆ null     │\n",
       "│ CCCCOC(=O)c ┆            ┆          ┆        ┆   ┆           ┆          ┆             ┆          │\n",
       "│ 1ccc(C(=…   ┆            ┆          ┆        ┆   ┆           ┆          ┆             ┆          │\n",
       "│ …           ┆ …          ┆ …        ┆ …      ┆ … ┆ …         ┆ …        ┆ …           ┆ …        │\n",
       "│ *CC(O)COc1c ┆ null       ┆ 0.36747  ┆ 0.1485 ┆ … ┆ null      ┆ 0.1485   ┆ null        ┆ null     │\n",
       "│ (Cl)cc(C(C) ┆            ┆          ┆        ┆   ┆           ┆          ┆             ┆          │\n",
       "│ (C)c2cc(…   ┆            ┆          ┆        ┆   ┆           ┆          ┆             ┆          │\n",
       "│ *CCCCOC(=O) ┆ null       ┆ null     ┆ 0.203  ┆ … ┆ null      ┆ 0.203    ┆ null        ┆ null     │\n",
       "│ c1cccc(-c2c ┆            ┆          ┆        ┆   ┆           ┆          ┆             ┆          │\n",
       "│ ccc(C(=O…   ┆            ┆          ┆        ┆   ┆           ┆          ┆             ┆          │\n",
       "│ *CCCCCCCCCC ┆ null       ┆ 0.375447 ┆ 0.308  ┆ … ┆ null      ┆ 0.308    ┆ null        ┆ null     │\n",
       "│ CCCCCCOC(=O ┆            ┆          ┆        ┆   ┆           ┆          ┆             ┆          │\n",
       "│ )CCCCCCC…   ┆            ┆          ┆        ┆   ┆           ┆          ┆             ┆          │\n",
       "│ *CCc1ccc(*) ┆ null       ┆ null     ┆ 0.245  ┆ … ┆ null      ┆ 0.245    ┆ null        ┆ null     │\n",
       "│ c(C(=O)OC)c ┆            ┆          ┆        ┆   ┆           ┆          ┆             ┆          │\n",
       "│ 1           ┆            ┆          ┆        ┆   ┆           ┆          ┆             ┆          │\n",
       "│ *CC(*)c1ccc ┆ null       ┆ 0.373112 ┆ 0.225  ┆ … ┆ null      ┆ 0.225    ┆ null        ┆ null     │\n",
       "│ (C(=O)CCN2C ┆            ┆          ┆        ┆   ┆           ┆          ┆             ┆          │\n",
       "│ CCCC2)cc…   ┆            ┆          ┆        ┆   ┆           ┆          ┆             ┆          │\n",
       "└─────────────┴────────────┴──────────┴────────┴───┴───────────┴──────────┴─────────────┴──────────┘"
      ]
     },
     "execution_count": 44,
     "metadata": {},
     "output_type": "execute_result"
    }
   ],
   "source": [
    "extra_df.join(filtered_tc_only_df, on='SMILES', how='inner')"
   ]
  },
  {
   "cell_type": "code",
   "execution_count": 45,
   "id": "feb24171",
   "metadata": {},
   "outputs": [
    {
     "data": {
      "text/html": [
       "<div><style>\n",
       ".dataframe > thead > tr,\n",
       ".dataframe > tbody > tr {\n",
       "  text-align: right;\n",
       "  white-space: pre-wrap;\n",
       "}\n",
       "</style>\n",
       "<small>shape: (5, 6)</small><table border=\"1\" class=\"dataframe\"><thead><tr><th>SMILES</th><th>Tg</th><th>FFV</th><th>Tc</th><th>Density</th><th>Rg</th></tr><tr><td>str</td><td>f64</td><td>f64</td><td>f64</td><td>f64</td><td>f64</td></tr></thead><tbody><tr><td>&quot;Cc1ccc(NC=S)cc1&quot;</td><td>null</td><td>null</td><td>null</td><td>1.342</td><td>null</td></tr><tr><td>&quot;FC(F)(F)C(Cl)Cl&quot;</td><td>-214.15</td><td>null</td><td>null</td><td>null</td><td>null</td></tr><tr><td>&quot;*CCC(C)(C)CC(C)CNC(=O)CCCCC(=O…</td><td>54.82</td><td>null</td><td>null</td><td>null</td><td>null</td></tr><tr><td>&quot;*c1ccc(-c2ccc(-c3ccc(C(*)c4c(F…</td><td>null</td><td>null</td><td>0.291</td><td>null</td><td>null</td></tr><tr><td>&quot;c1ccc(C2=C(c3ccccc3)CCCC2)cc1&quot;</td><td>-43.15</td><td>null</td><td>null</td><td>null</td><td>null</td></tr></tbody></table></div>"
      ],
      "text/plain": [
       "shape: (5, 6)\n",
       "┌─────────────────────────────────┬─────────┬──────┬───────┬─────────┬──────┐\n",
       "│ SMILES                          ┆ Tg      ┆ FFV  ┆ Tc    ┆ Density ┆ Rg   │\n",
       "│ ---                             ┆ ---     ┆ ---  ┆ ---   ┆ ---     ┆ ---  │\n",
       "│ str                             ┆ f64     ┆ f64  ┆ f64   ┆ f64     ┆ f64  │\n",
       "╞═════════════════════════════════╪═════════╪══════╪═══════╪═════════╪══════╡\n",
       "│ Cc1ccc(NC=S)cc1                 ┆ null    ┆ null ┆ null  ┆ 1.342   ┆ null │\n",
       "│ FC(F)(F)C(Cl)Cl                 ┆ -214.15 ┆ null ┆ null  ┆ null    ┆ null │\n",
       "│ *CCC(C)(C)CC(C)CNC(=O)CCCCC(=O… ┆ 54.82   ┆ null ┆ null  ┆ null    ┆ null │\n",
       "│ *c1ccc(-c2ccc(-c3ccc(C(*)c4c(F… ┆ null    ┆ null ┆ 0.291 ┆ null    ┆ null │\n",
       "│ c1ccc(C2=C(c3ccccc3)CCCC2)cc1   ┆ -43.15  ┆ null ┆ null  ┆ null    ┆ null │\n",
       "└─────────────────────────────────┴─────────┴──────┴───────┴─────────┴──────┘"
      ]
     },
     "metadata": {},
     "output_type": "display_data"
    },
    {
     "data": {
      "text/html": [
       "<div><style>\n",
       ".dataframe > thead > tr,\n",
       ".dataframe > tbody > tr {\n",
       "  text-align: right;\n",
       "  white-space: pre-wrap;\n",
       "}\n",
       "</style>\n",
       "<small>shape: (5, 6)</small><table border=\"1\" class=\"dataframe\"><thead><tr><th>SMILES</th><th>Tg</th><th>FFV</th><th>Tc</th><th>Density</th><th>Rg</th></tr><tr><td>str</td><td>f64</td><td>f64</td><td>f64</td><td>f64</td><td>f64</td></tr></thead><tbody><tr><td>&quot;*Oc1ccc(/N=C/C=N/c2ccc(OC(=O)N…</td><td>null</td><td>null</td><td>0.349</td><td>null</td><td>null</td></tr><tr><td>&quot;*CC(F)(F)C1(F)CC(C(O)(C(F)(F)F…</td><td>null</td><td>0.320846</td><td>0.109</td><td>null</td><td>null</td></tr><tr><td>&quot;*CCCCOC(=O)CCCCCCCC(=O)O*&quot;</td><td>null</td><td>null</td><td>0.241</td><td>null</td><td>null</td></tr><tr><td>&quot;*CCCCCCCCCCc1ccc(-c2c(-c3ccccc…</td><td>null</td><td>0.398266</td><td>0.21</td><td>null</td><td>null</td></tr><tr><td>&quot;*c1ccc(-c2ccc(-c3sc(*)c(CCCCCC…</td><td>null</td><td>null</td><td>0.299</td><td>null</td><td>null</td></tr></tbody></table></div>"
      ],
      "text/plain": [
       "shape: (5, 6)\n",
       "┌─────────────────────────────────┬──────┬──────────┬───────┬─────────┬──────┐\n",
       "│ SMILES                          ┆ Tg   ┆ FFV      ┆ Tc    ┆ Density ┆ Rg   │\n",
       "│ ---                             ┆ ---  ┆ ---      ┆ ---   ┆ ---     ┆ ---  │\n",
       "│ str                             ┆ f64  ┆ f64      ┆ f64   ┆ f64     ┆ f64  │\n",
       "╞═════════════════════════════════╪══════╪══════════╪═══════╪═════════╪══════╡\n",
       "│ *Oc1ccc(/N=C/C=N/c2ccc(OC(=O)N… ┆ null ┆ null     ┆ 0.349 ┆ null    ┆ null │\n",
       "│ *CC(F)(F)C1(F)CC(C(O)(C(F)(F)F… ┆ null ┆ 0.320846 ┆ 0.109 ┆ null    ┆ null │\n",
       "│ *CCCCOC(=O)CCCCCCCC(=O)O*       ┆ null ┆ null     ┆ 0.241 ┆ null    ┆ null │\n",
       "│ *CCCCCCCCCCc1ccc(-c2c(-c3ccccc… ┆ null ┆ 0.398266 ┆ 0.21  ┆ null    ┆ null │\n",
       "│ *c1ccc(-c2ccc(-c3sc(*)c(CCCCCC… ┆ null ┆ null     ┆ 0.299 ┆ null    ┆ null │\n",
       "└─────────────────────────────────┴──────┴──────────┴───────┴─────────┴──────┘"
      ]
     },
     "execution_count": 45,
     "metadata": {},
     "output_type": "execute_result"
    }
   ],
   "source": [
    "display(filtered_tc_only_df.head())\n",
    "extra_df.head()"
   ]
  },
  {
   "cell_type": "code",
   "execution_count": 46,
   "id": "9036b182",
   "metadata": {},
   "outputs": [
    {
     "data": {
      "text/html": [
       "<div><style>\n",
       ".dataframe > thead > tr,\n",
       ".dataframe > tbody > tr {\n",
       "  text-align: right;\n",
       "  white-space: pre-wrap;\n",
       "}\n",
       "</style>\n",
       "<small>shape: (5, 6)</small><table border=\"1\" class=\"dataframe\"><thead><tr><th>SMILES</th><th>Tg</th><th>FFV</th><th>Tc</th><th>Density</th><th>Rg</th></tr><tr><td>str</td><td>f64</td><td>f64</td><td>f64</td><td>f64</td><td>f64</td></tr></thead><tbody><tr><td>&quot;*Oc1cccc(NC(=O)c2ccc(P(=O)(c3c…</td><td>null</td><td>0.36862</td><td>null</td><td>null</td><td>null</td></tr><tr><td>&quot;*Oc1cc(OC(=O)c2ccc(OCC(C)CC)cc…</td><td>null</td><td>0.357302</td><td>null</td><td>null</td><td>null</td></tr><tr><td>&quot;CCCCc1ccccc1&quot;</td><td>-144.15</td><td>null</td><td>null</td><td>null</td><td>null</td></tr><tr><td>&quot;*C(=O)Nc1ccc(Oc2cccc(NC(=O)c3c…</td><td>null</td><td>0.362688</td><td>null</td><td>null</td><td>null</td></tr><tr><td>&quot;*OS(=O)(=O)c1ccc(*)cc1&quot;</td><td>140.64</td><td>null</td><td>null</td><td>null</td><td>null</td></tr></tbody></table></div>"
      ],
      "text/plain": [
       "shape: (5, 6)\n",
       "┌─────────────────────────────────┬─────────┬──────────┬──────┬─────────┬──────┐\n",
       "│ SMILES                          ┆ Tg      ┆ FFV      ┆ Tc   ┆ Density ┆ Rg   │\n",
       "│ ---                             ┆ ---     ┆ ---      ┆ ---  ┆ ---     ┆ ---  │\n",
       "│ str                             ┆ f64     ┆ f64      ┆ f64  ┆ f64     ┆ f64  │\n",
       "╞═════════════════════════════════╪═════════╪══════════╪══════╪═════════╪══════╡\n",
       "│ *Oc1cccc(NC(=O)c2ccc(P(=O)(c3c… ┆ null    ┆ 0.36862  ┆ null ┆ null    ┆ null │\n",
       "│ *Oc1cc(OC(=O)c2ccc(OCC(C)CC)cc… ┆ null    ┆ 0.357302 ┆ null ┆ null    ┆ null │\n",
       "│ CCCCc1ccccc1                    ┆ -144.15 ┆ null     ┆ null ┆ null    ┆ null │\n",
       "│ *C(=O)Nc1ccc(Oc2cccc(NC(=O)c3c… ┆ null    ┆ 0.362688 ┆ null ┆ null    ┆ null │\n",
       "│ *OS(=O)(=O)c1ccc(*)cc1          ┆ 140.64  ┆ null     ┆ null ┆ null    ┆ null │\n",
       "└─────────────────────────────────┴─────────┴──────────┴──────┴─────────┴──────┘"
      ]
     },
     "metadata": {},
     "output_type": "display_data"
    },
    {
     "data": {
      "text/html": [
       "<div><style>\n",
       ".dataframe > thead > tr,\n",
       ".dataframe > tbody > tr {\n",
       "  text-align: right;\n",
       "  white-space: pre-wrap;\n",
       "}\n",
       "</style>\n",
       "<small>shape: (9, 7)</small><table border=\"1\" class=\"dataframe\"><thead><tr><th>statistic</th><th>SMILES</th><th>Tg</th><th>FFV</th><th>Tc</th><th>Density</th><th>Rg</th></tr><tr><td>str</td><td>str</td><td>f64</td><td>f64</td><td>f64</td><td>f64</td><td>f64</td></tr></thead><tbody><tr><td>&quot;count&quot;</td><td>&quot;2107&quot;</td><td>644.0</td><td>862.0</td><td>129.0</td><td>534.0</td><td>0.0</td></tr><tr><td>&quot;null_count&quot;</td><td>&quot;0&quot;</td><td>1463.0</td><td>1245.0</td><td>1978.0</td><td>1573.0</td><td>2107.0</td></tr><tr><td>&quot;mean&quot;</td><td>null</td><td>18.681626</td><td>0.365336</td><td>0.258497</td><td>1.181622</td><td>null</td></tr><tr><td>&quot;std&quot;</td><td>null</td><td>121.725003</td><td>0.024155</td><td>0.152331</td><td>0.223516</td><td>null</td></tr><tr><td>&quot;min&quot;</td><td>&quot;*.*C/C=C/CC.*CC(*)C#N.*CCC(C*)…</td><td>-255.15</td><td>0.28114</td><td>0.091</td><td>0.752</td><td>null</td></tr><tr><td>&quot;25%&quot;</td><td>null</td><td>-74.65</td><td>0.350098</td><td>0.198</td><td>1.002</td><td>null</td></tr><tr><td>&quot;50%&quot;</td><td>null</td><td>29.0</td><td>0.361871</td><td>0.235</td><td>1.152</td><td>null</td></tr><tr><td>&quot;75%&quot;</td><td>null</td><td>78.110617</td><td>0.375607</td><td>0.294</td><td>1.342</td><td>null</td></tr><tr><td>&quot;max&quot;</td><td>&quot;c1csc(-c2cccs2)c1&quot;</td><td>442.63</td><td>0.525164</td><td>1.59</td><td>1.982</td><td>null</td></tr></tbody></table></div>"
      ],
      "text/plain": [
       "shape: (9, 7)\n",
       "┌────────────┬──────────────────────────────┬────────────┬──────────┬──────────┬──────────┬────────┐\n",
       "│ statistic  ┆ SMILES                       ┆ Tg         ┆ FFV      ┆ Tc       ┆ Density  ┆ Rg     │\n",
       "│ ---        ┆ ---                          ┆ ---        ┆ ---      ┆ ---      ┆ ---      ┆ ---    │\n",
       "│ str        ┆ str                          ┆ f64        ┆ f64      ┆ f64      ┆ f64      ┆ f64    │\n",
       "╞════════════╪══════════════════════════════╪════════════╪══════════╪══════════╪══════════╪════════╡\n",
       "│ count      ┆ 2107                         ┆ 644.0      ┆ 862.0    ┆ 129.0    ┆ 534.0    ┆ 0.0    │\n",
       "│ null_count ┆ 0                            ┆ 1463.0     ┆ 1245.0   ┆ 1978.0   ┆ 1573.0   ┆ 2107.0 │\n",
       "│ mean       ┆ null                         ┆ 18.681626  ┆ 0.365336 ┆ 0.258497 ┆ 1.181622 ┆ null   │\n",
       "│ std        ┆ null                         ┆ 121.725003 ┆ 0.024155 ┆ 0.152331 ┆ 0.223516 ┆ null   │\n",
       "│ min        ┆ *.*C/C=C/CC.*CC(*)C#N.*CCC(C ┆ -255.15    ┆ 0.28114  ┆ 0.091    ┆ 0.752    ┆ null   │\n",
       "│            ┆ *)…                          ┆            ┆          ┆          ┆          ┆        │\n",
       "│ 25%        ┆ null                         ┆ -74.65     ┆ 0.350098 ┆ 0.198    ┆ 1.002    ┆ null   │\n",
       "│ 50%        ┆ null                         ┆ 29.0       ┆ 0.361871 ┆ 0.235    ┆ 1.152    ┆ null   │\n",
       "│ 75%        ┆ null                         ┆ 78.110617  ┆ 0.375607 ┆ 0.294    ┆ 1.342    ┆ null   │\n",
       "│ max        ┆ c1csc(-c2cccs2)c1            ┆ 442.63     ┆ 0.525164 ┆ 1.59     ┆ 1.982    ┆ null   │\n",
       "└────────────┴──────────────────────────────┴────────────┴──────────┴──────────┴──────────┴────────┘"
      ]
     },
     "execution_count": 46,
     "metadata": {},
     "output_type": "execute_result"
    }
   ],
   "source": [
    "combined_dataframe = pl.concat(\n",
    "    [extra_df, filtered_tc_only_df],\n",
    "    how=\"vertical\",\n",
    "    rechunk=True\n",
    ")\n",
    "\n",
    "# ---------- step 2: identify all numeric/label columns ----------\n",
    "numeric_column_names = [\n",
    "    column_name for column_name in combined_dataframe.columns if column_name != \"SMILES\"\n",
    "]\n",
    "\n",
    "# ---------- step 3: group by SMILES and aggregate ----------\n",
    "# - `mean()` skips nulls, so…\n",
    "#   * if *both* data-frames supply a value → the mean is stored\n",
    "#   * if only one data-frame supplies a value → that value is kept\n",
    "#   * if neither supplies a value → result is null\n",
    "deduplicated_dataframe = (\n",
    "    combined_dataframe\n",
    "    .group_by(\"SMILES\", maintain_order=False)\n",
    "    .agg(\n",
    "        [pl.col(column_name).mean().alias(column_name) for column_name in numeric_column_names]\n",
    "    )\n",
    ")\n",
    "\n",
    "\n",
    "display(deduplicated_dataframe.head())\n",
    "deduplicated_dataframe.describe()"
   ]
  },
  {
   "cell_type": "code",
   "execution_count": 48,
   "id": "93d7a935",
   "metadata": {},
   "outputs": [
    {
     "data": {
      "text/plain": [
       "(2107, 6)"
      ]
     },
     "execution_count": 48,
     "metadata": {},
     "output_type": "execute_result"
    }
   ],
   "source": [
    "deduplicated_dataframe.shape"
   ]
  },
  {
   "cell_type": "code",
   "execution_count": 47,
   "id": "4fc711cd",
   "metadata": {},
   "outputs": [],
   "source": [
    "deduplicated_dataframe.write_csv('train_host_plus_leaks_extra.csv')"
   ]
  }
 ],
 "metadata": {
  "kernelspec": {
   "display_name": "torch2.7",
   "language": "python",
   "name": "python3"
  },
  "language_info": {
   "codemirror_mode": {
    "name": "ipython",
    "version": 3
   },
   "file_extension": ".py",
   "mimetype": "text/x-python",
   "name": "python",
   "nbconvert_exporter": "python",
   "pygments_lexer": "ipython3",
   "version": "3.12.11"
  }
 },
 "nbformat": 4,
 "nbformat_minor": 5
}
