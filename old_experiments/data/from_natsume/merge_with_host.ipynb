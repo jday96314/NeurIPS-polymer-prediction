{
 "cells": [
  {
   "cell_type": "markdown",
   "id": "8ddc406e",
   "metadata": {},
   "source": [
    "# Load host data"
   ]
  },
  {
   "cell_type": "code",
   "execution_count": 1,
   "id": "513d5be9",
   "metadata": {},
   "outputs": [
    {
     "data": {
      "text/html": [
       "<div>\n",
       "<style scoped>\n",
       "    .dataframe tbody tr th:only-of-type {\n",
       "        vertical-align: middle;\n",
       "    }\n",
       "\n",
       "    .dataframe tbody tr th {\n",
       "        vertical-align: top;\n",
       "    }\n",
       "\n",
       "    .dataframe thead th {\n",
       "        text-align: right;\n",
       "    }\n",
       "</style>\n",
       "<table border=\"1\" class=\"dataframe\">\n",
       "  <thead>\n",
       "    <tr style=\"text-align: right;\">\n",
       "      <th></th>\n",
       "      <th>id</th>\n",
       "      <th>SMILES</th>\n",
       "      <th>Tg</th>\n",
       "      <th>FFV</th>\n",
       "      <th>Tc</th>\n",
       "      <th>Density</th>\n",
       "      <th>Rg</th>\n",
       "    </tr>\n",
       "  </thead>\n",
       "  <tbody>\n",
       "    <tr>\n",
       "      <th>0</th>\n",
       "      <td>87817</td>\n",
       "      <td>*CC(*)c1ccccc1C(=O)OCCCCCC</td>\n",
       "      <td>NaN</td>\n",
       "      <td>0.374645</td>\n",
       "      <td>0.205667</td>\n",
       "      <td>NaN</td>\n",
       "      <td>NaN</td>\n",
       "    </tr>\n",
       "    <tr>\n",
       "      <th>1</th>\n",
       "      <td>106919</td>\n",
       "      <td>*Nc1ccc([C@H](CCC)c2ccc(C3(c4ccc([C@@H](CCC)c5...</td>\n",
       "      <td>NaN</td>\n",
       "      <td>0.370410</td>\n",
       "      <td>NaN</td>\n",
       "      <td>NaN</td>\n",
       "      <td>NaN</td>\n",
       "    </tr>\n",
       "    <tr>\n",
       "      <th>2</th>\n",
       "      <td>388772</td>\n",
       "      <td>*Oc1ccc(S(=O)(=O)c2ccc(Oc3ccc(C4(c5ccc(Oc6ccc(...</td>\n",
       "      <td>NaN</td>\n",
       "      <td>0.378860</td>\n",
       "      <td>NaN</td>\n",
       "      <td>NaN</td>\n",
       "      <td>NaN</td>\n",
       "    </tr>\n",
       "  </tbody>\n",
       "</table>\n",
       "</div>"
      ],
      "text/plain": [
       "       id                                             SMILES  Tg       FFV  \\\n",
       "0   87817                         *CC(*)c1ccccc1C(=O)OCCCCCC NaN  0.374645   \n",
       "1  106919  *Nc1ccc([C@H](CCC)c2ccc(C3(c4ccc([C@@H](CCC)c5... NaN  0.370410   \n",
       "2  388772  *Oc1ccc(S(=O)(=O)c2ccc(Oc3ccc(C4(c5ccc(Oc6ccc(... NaN  0.378860   \n",
       "\n",
       "         Tc  Density  Rg  \n",
       "0  0.205667      NaN NaN  \n",
       "1       NaN      NaN NaN  \n",
       "2       NaN      NaN NaN  "
      ]
     },
     "execution_count": 1,
     "metadata": {},
     "output_type": "execute_result"
    }
   ],
   "source": [
    "import pandas as pd\n",
    "\n",
    "comp_train_df = pd.read_csv('../from_host/train.csv')\n",
    "comp_train_df.head(3)"
   ]
  },
  {
   "cell_type": "code",
   "execution_count": 2,
   "id": "fb5bcf8b",
   "metadata": {},
   "outputs": [
    {
     "data": {
      "text/plain": [
       "Tg          511\n",
       "FFV        7030\n",
       "Tc          737\n",
       "Density     613\n",
       "Rg          614\n",
       "dtype: int64"
      ]
     },
     "execution_count": 2,
     "metadata": {},
     "output_type": "execute_result"
    }
   ],
   "source": [
    "# Define all target properties\n",
    "targets = ['Tg', 'FFV', 'Tc', 'Density', 'Rg']\n",
    "\n",
    "# Count of non-NaN values for each target column\n",
    "comp_train_df[targets].count()"
   ]
  },
  {
   "cell_type": "code",
   "execution_count": 3,
   "id": "51be266e",
   "metadata": {},
   "outputs": [
    {
     "data": {
      "text/plain": [
       "(7973, 7973)"
      ]
     },
     "execution_count": 3,
     "metadata": {},
     "output_type": "execute_result"
    }
   ],
   "source": [
    "len(comp_train_df['SMILES'].unique()), len(comp_train_df)"
   ]
  },
  {
   "cell_type": "markdown",
   "id": "46d48623",
   "metadata": {},
   "source": [
    "# Load extra data"
   ]
  },
  {
   "cell_type": "code",
   "execution_count": 4,
   "id": "f385a3f1",
   "metadata": {},
   "outputs": [
    {
     "data": {
      "text/html": [
       "<div>\n",
       "<style scoped>\n",
       "    .dataframe tbody tr th:only-of-type {\n",
       "        vertical-align: middle;\n",
       "    }\n",
       "\n",
       "    .dataframe tbody tr th {\n",
       "        vertical-align: top;\n",
       "    }\n",
       "\n",
       "    .dataframe thead th {\n",
       "        text-align: right;\n",
       "    }\n",
       "</style>\n",
       "<table border=\"1\" class=\"dataframe\">\n",
       "  <thead>\n",
       "    <tr style=\"text-align: right;\">\n",
       "      <th></th>\n",
       "      <th>SMILES</th>\n",
       "      <th>PID</th>\n",
       "      <th>Polymer Class</th>\n",
       "      <th>Tg</th>\n",
       "    </tr>\n",
       "  </thead>\n",
       "  <tbody>\n",
       "    <tr>\n",
       "      <th>0</th>\n",
       "      <td>*C*</td>\n",
       "      <td>P010001</td>\n",
       "      <td>Polyolefins</td>\n",
       "      <td>-54.0</td>\n",
       "    </tr>\n",
       "    <tr>\n",
       "      <th>1</th>\n",
       "      <td>*CC(*)C</td>\n",
       "      <td>P010002</td>\n",
       "      <td>Polyolefins</td>\n",
       "      <td>-3.0</td>\n",
       "    </tr>\n",
       "    <tr>\n",
       "      <th>2</th>\n",
       "      <td>*CC(*)CC</td>\n",
       "      <td>P010003</td>\n",
       "      <td>Polyolefins</td>\n",
       "      <td>-24.1</td>\n",
       "    </tr>\n",
       "  </tbody>\n",
       "</table>\n",
       "</div>"
      ],
      "text/plain": [
       "     SMILES      PID Polymer Class    Tg\n",
       "0       *C*  P010001   Polyolefins -54.0\n",
       "1   *CC(*)C  P010002   Polyolefins  -3.0\n",
       "2  *CC(*)CC  P010003   Polyolefins -24.1"
      ]
     },
     "metadata": {},
     "output_type": "display_data"
    },
    {
     "data": {
      "text/html": [
       "<div>\n",
       "<style scoped>\n",
       "    .dataframe tbody tr th:only-of-type {\n",
       "        vertical-align: middle;\n",
       "    }\n",
       "\n",
       "    .dataframe tbody tr th {\n",
       "        vertical-align: top;\n",
       "    }\n",
       "\n",
       "    .dataframe thead th {\n",
       "        text-align: right;\n",
       "    }\n",
       "</style>\n",
       "<table border=\"1\" class=\"dataframe\">\n",
       "  <thead>\n",
       "    <tr style=\"text-align: right;\">\n",
       "      <th></th>\n",
       "      <th>TC_mean</th>\n",
       "      <th>SMILES</th>\n",
       "    </tr>\n",
       "  </thead>\n",
       "  <tbody>\n",
       "    <tr>\n",
       "      <th>0</th>\n",
       "      <td>0.244500</td>\n",
       "      <td>*CC(*)C</td>\n",
       "    </tr>\n",
       "    <tr>\n",
       "      <th>1</th>\n",
       "      <td>0.225333</td>\n",
       "      <td>*CC(*)CC</td>\n",
       "    </tr>\n",
       "    <tr>\n",
       "      <th>2</th>\n",
       "      <td>0.246333</td>\n",
       "      <td>*CC(*)CCC</td>\n",
       "    </tr>\n",
       "  </tbody>\n",
       "</table>\n",
       "</div>"
      ],
      "text/plain": [
       "    TC_mean     SMILES\n",
       "0  0.244500    *CC(*)C\n",
       "1  0.225333   *CC(*)CC\n",
       "2  0.246333  *CC(*)CCC"
      ]
     },
     "metadata": {},
     "output_type": "display_data"
    }
   ],
   "source": [
    "extra_tg_df = pd.read_csv('Tg_SMILES_class_pid_polyinfo_median.csv')\n",
    "display(extra_tg_df.head(3))\n",
    "\n",
    "extra_tc_df = pd.read_csv('Tc_SMILES.csv')\n",
    "display(extra_tc_df.head(3))"
   ]
  },
  {
   "cell_type": "markdown",
   "id": "d36b8b42",
   "metadata": {},
   "source": [
    "# Merge"
   ]
  },
  {
   "cell_type": "code",
   "execution_count": 5,
   "id": "159372d3",
   "metadata": {},
   "outputs": [
    {
     "name": "stdout",
     "output_type": "stream",
     "text": [
      "Tg          511\n",
      "FFV        7030\n",
      "Tc         1611\n",
      "Density     613\n",
      "Rg          614\n",
      "dtype: int64\n"
     ]
    }
   ],
   "source": [
    "# Prepare extra_tg_df\n",
    "extra_tg_clean = extra_tg_df[['SMILES', 'PID', 'Tg']].rename(columns={'PID': 'id'})\n",
    "extra_tg_clean[['FFV', 'Tc', 'Density', 'Rg']] = float('nan')\n",
    "\n",
    "# Prepare extra_tc_df  \n",
    "extra_tc_clean = extra_tc_df[['SMILES', 'TC_mean']].rename(columns={'TC_mean': 'Tc'})\n",
    "extra_tc_clean['id'] = range(len(comp_train_df) + len(extra_tg_df), len(comp_train_df) + len(extra_tg_df) + len(extra_tc_df))\n",
    "extra_tc_clean[['Tg', 'FFV', 'Density', 'Rg']] = float('nan')\n",
    "\n",
    "# Reorder columns to match train_df\n",
    "extra_tg_clean = extra_tg_clean[['id', 'SMILES', 'Tg', 'FFV', 'Tc', 'Density', 'Rg']]\n",
    "extra_tc_clean = extra_tc_clean[['id', 'SMILES', 'Tg', 'FFV', 'Tc', 'Density', 'Rg']]\n",
    "\n",
    "# Combine all datasets into train_df\n",
    "# train_df = pd.concat([comp_train_df, extra_tg_clean, extra_tc_clean], ignore_index=True)\n",
    "train_df = pd.concat([comp_train_df, extra_tc_clean], ignore_index=True)\n",
    "\n",
    "print(train_df[targets].count())"
   ]
  },
  {
   "cell_type": "code",
   "execution_count": 6,
   "id": "ea29c4aa",
   "metadata": {},
   "outputs": [
    {
     "data": {
      "text/html": [
       "<div>\n",
       "<style scoped>\n",
       "    .dataframe tbody tr th:only-of-type {\n",
       "        vertical-align: middle;\n",
       "    }\n",
       "\n",
       "    .dataframe tbody tr th {\n",
       "        vertical-align: top;\n",
       "    }\n",
       "\n",
       "    .dataframe thead th {\n",
       "        text-align: right;\n",
       "    }\n",
       "</style>\n",
       "<table border=\"1\" class=\"dataframe\">\n",
       "  <thead>\n",
       "    <tr style=\"text-align: right;\">\n",
       "      <th></th>\n",
       "      <th>id</th>\n",
       "      <th>SMILES</th>\n",
       "      <th>Tg</th>\n",
       "      <th>FFV</th>\n",
       "      <th>Tc</th>\n",
       "      <th>Density</th>\n",
       "      <th>Rg</th>\n",
       "    </tr>\n",
       "  </thead>\n",
       "  <tbody>\n",
       "    <tr>\n",
       "      <th>0</th>\n",
       "      <td>87817</td>\n",
       "      <td>*CC(*)c1ccccc1C(=O)OCCCCCC</td>\n",
       "      <td>NaN</td>\n",
       "      <td>0.374645</td>\n",
       "      <td>0.205667</td>\n",
       "      <td>NaN</td>\n",
       "      <td>NaN</td>\n",
       "    </tr>\n",
       "    <tr>\n",
       "      <th>1</th>\n",
       "      <td>106919</td>\n",
       "      <td>*Nc1ccc([C@H](CCC)c2ccc(C3(c4ccc([C@@H](CCC)c5...</td>\n",
       "      <td>NaN</td>\n",
       "      <td>0.370410</td>\n",
       "      <td>NaN</td>\n",
       "      <td>NaN</td>\n",
       "      <td>NaN</td>\n",
       "    </tr>\n",
       "    <tr>\n",
       "      <th>2</th>\n",
       "      <td>388772</td>\n",
       "      <td>*Oc1ccc(S(=O)(=O)c2ccc(Oc3ccc(C4(c5ccc(Oc6ccc(...</td>\n",
       "      <td>NaN</td>\n",
       "      <td>0.378860</td>\n",
       "      <td>NaN</td>\n",
       "      <td>NaN</td>\n",
       "      <td>NaN</td>\n",
       "    </tr>\n",
       "    <tr>\n",
       "      <th>3</th>\n",
       "      <td>519416</td>\n",
       "      <td>*Nc1ccc(-c2c(-c3ccc(C)cc3)c(-c3ccc(C)cc3)c(N*)...</td>\n",
       "      <td>NaN</td>\n",
       "      <td>0.387324</td>\n",
       "      <td>NaN</td>\n",
       "      <td>NaN</td>\n",
       "      <td>NaN</td>\n",
       "    </tr>\n",
       "    <tr>\n",
       "      <th>4</th>\n",
       "      <td>539187</td>\n",
       "      <td>*Oc1ccc(OC(=O)c2cc(OCCCCCCCCCOCC3CCCN3c3ccc([N...</td>\n",
       "      <td>NaN</td>\n",
       "      <td>0.355470</td>\n",
       "      <td>NaN</td>\n",
       "      <td>NaN</td>\n",
       "      <td>NaN</td>\n",
       "    </tr>\n",
       "  </tbody>\n",
       "</table>\n",
       "</div>"
      ],
      "text/plain": [
       "       id                                             SMILES  Tg       FFV  \\\n",
       "0   87817                         *CC(*)c1ccccc1C(=O)OCCCCCC NaN  0.374645   \n",
       "1  106919  *Nc1ccc([C@H](CCC)c2ccc(C3(c4ccc([C@@H](CCC)c5... NaN  0.370410   \n",
       "2  388772  *Oc1ccc(S(=O)(=O)c2ccc(Oc3ccc(C4(c5ccc(Oc6ccc(... NaN  0.378860   \n",
       "3  519416  *Nc1ccc(-c2c(-c3ccc(C)cc3)c(-c3ccc(C)cc3)c(N*)... NaN  0.387324   \n",
       "4  539187  *Oc1ccc(OC(=O)c2cc(OCCCCCCCCCOCC3CCCN3c3ccc([N... NaN  0.355470   \n",
       "\n",
       "         Tc  Density  Rg  \n",
       "0  0.205667      NaN NaN  \n",
       "1       NaN      NaN NaN  \n",
       "2       NaN      NaN NaN  \n",
       "3       NaN      NaN NaN  \n",
       "4       NaN      NaN NaN  "
      ]
     },
     "metadata": {},
     "output_type": "display_data"
    },
    {
     "data": {
      "text/html": [
       "<div>\n",
       "<style scoped>\n",
       "    .dataframe tbody tr th:only-of-type {\n",
       "        vertical-align: middle;\n",
       "    }\n",
       "\n",
       "    .dataframe tbody tr th {\n",
       "        vertical-align: top;\n",
       "    }\n",
       "\n",
       "    .dataframe thead th {\n",
       "        text-align: right;\n",
       "    }\n",
       "</style>\n",
       "<table border=\"1\" class=\"dataframe\">\n",
       "  <thead>\n",
       "    <tr style=\"text-align: right;\">\n",
       "      <th></th>\n",
       "      <th>id</th>\n",
       "      <th>SMILES</th>\n",
       "      <th>Tg</th>\n",
       "      <th>FFV</th>\n",
       "      <th>Tc</th>\n",
       "      <th>Density</th>\n",
       "      <th>Rg</th>\n",
       "    </tr>\n",
       "  </thead>\n",
       "  <tbody>\n",
       "    <tr>\n",
       "      <th>8842</th>\n",
       "      <td>16050</td>\n",
       "      <td>FC(F)(F)C(C1=CC2=C(OC(=N2)C2=CC=C(OC3=CC=C(OC4...</td>\n",
       "      <td>NaN</td>\n",
       "      <td>NaN</td>\n",
       "      <td>0.155</td>\n",
       "      <td>NaN</td>\n",
       "      <td>NaN</td>\n",
       "    </tr>\n",
       "    <tr>\n",
       "      <th>8843</th>\n",
       "      <td>16051</td>\n",
       "      <td>FC(F)(F)C(C1=CC2=C(OC(=N2)C2=CC=C(OC3=C4C5C6=C...</td>\n",
       "      <td>NaN</td>\n",
       "      <td>NaN</td>\n",
       "      <td>0.109</td>\n",
       "      <td>NaN</td>\n",
       "      <td>NaN</td>\n",
       "    </tr>\n",
       "    <tr>\n",
       "      <th>8844</th>\n",
       "      <td>16052</td>\n",
       "      <td>FC(F)(F)C(C1=CC2=C(OC(=N2)C2=CC=C(OC3=C4C5C6=C...</td>\n",
       "      <td>NaN</td>\n",
       "      <td>NaN</td>\n",
       "      <td>0.176</td>\n",
       "      <td>NaN</td>\n",
       "      <td>NaN</td>\n",
       "    </tr>\n",
       "    <tr>\n",
       "      <th>8845</th>\n",
       "      <td>16053</td>\n",
       "      <td>*C1=NC2=CC(=CC=C2N1)C1=CC2=C(NC(O2)C2=CC=C(OC3...</td>\n",
       "      <td>NaN</td>\n",
       "      <td>NaN</td>\n",
       "      <td>0.252</td>\n",
       "      <td>NaN</td>\n",
       "      <td>NaN</td>\n",
       "    </tr>\n",
       "    <tr>\n",
       "      <th>8846</th>\n",
       "      <td>16054</td>\n",
       "      <td>*C1=NC2=CC(=CC=C2N1)C1=CC2=C(NC(O2)C2=CC=C(OC3...</td>\n",
       "      <td>NaN</td>\n",
       "      <td>NaN</td>\n",
       "      <td>0.180</td>\n",
       "      <td>NaN</td>\n",
       "      <td>NaN</td>\n",
       "    </tr>\n",
       "  </tbody>\n",
       "</table>\n",
       "</div>"
      ],
      "text/plain": [
       "         id                                             SMILES  Tg  FFV  \\\n",
       "8842  16050  FC(F)(F)C(C1=CC2=C(OC(=N2)C2=CC=C(OC3=CC=C(OC4... NaN  NaN   \n",
       "8843  16051  FC(F)(F)C(C1=CC2=C(OC(=N2)C2=CC=C(OC3=C4C5C6=C... NaN  NaN   \n",
       "8844  16052  FC(F)(F)C(C1=CC2=C(OC(=N2)C2=CC=C(OC3=C4C5C6=C... NaN  NaN   \n",
       "8845  16053  *C1=NC2=CC(=CC=C2N1)C1=CC2=C(NC(O2)C2=CC=C(OC3... NaN  NaN   \n",
       "8846  16054  *C1=NC2=CC(=CC=C2N1)C1=CC2=C(NC(O2)C2=CC=C(OC3... NaN  NaN   \n",
       "\n",
       "         Tc  Density  Rg  \n",
       "8842  0.155      NaN NaN  \n",
       "8843  0.109      NaN NaN  \n",
       "8844  0.176      NaN NaN  \n",
       "8845  0.252      NaN NaN  \n",
       "8846  0.180      NaN NaN  "
      ]
     },
     "metadata": {},
     "output_type": "display_data"
    }
   ],
   "source": [
    "display(train_df.head())\n",
    "display(train_df.tail())"
   ]
  },
  {
   "cell_type": "code",
   "execution_count": 7,
   "id": "db8f2d30",
   "metadata": {},
   "outputs": [
    {
     "data": {
      "text/plain": [
       "(8103, 8847)"
      ]
     },
     "execution_count": 7,
     "metadata": {},
     "output_type": "execute_result"
    }
   ],
   "source": [
    "len(train_df['SMILES'].unique()), len(train_df)"
   ]
  },
  {
   "cell_type": "code",
   "execution_count": 8,
   "id": "473e03b8",
   "metadata": {},
   "outputs": [
    {
     "name": "stdout",
     "output_type": "stream",
     "text": [
      "8103\n"
     ]
    },
    {
     "data": {
      "text/html": [
       "<div>\n",
       "<style scoped>\n",
       "    .dataframe tbody tr th:only-of-type {\n",
       "        vertical-align: middle;\n",
       "    }\n",
       "\n",
       "    .dataframe tbody tr th {\n",
       "        vertical-align: top;\n",
       "    }\n",
       "\n",
       "    .dataframe thead th {\n",
       "        text-align: right;\n",
       "    }\n",
       "</style>\n",
       "<table border=\"1\" class=\"dataframe\">\n",
       "  <thead>\n",
       "    <tr style=\"text-align: right;\">\n",
       "      <th></th>\n",
       "      <th>SMILES</th>\n",
       "      <th>id</th>\n",
       "      <th>Tg</th>\n",
       "      <th>FFV</th>\n",
       "      <th>Tc</th>\n",
       "      <th>Density</th>\n",
       "      <th>Rg</th>\n",
       "    </tr>\n",
       "  </thead>\n",
       "  <tbody>\n",
       "    <tr>\n",
       "      <th>4896</th>\n",
       "      <td>*Nc1ccc([C@H](CCC)c2ccc(C(CCCC)c3ccc([C@@H](CC...</td>\n",
       "      <td>84183521</td>\n",
       "      <td>NaN</td>\n",
       "      <td>0.369242</td>\n",
       "      <td>NaN</td>\n",
       "      <td>NaN</td>\n",
       "      <td>NaN</td>\n",
       "    </tr>\n",
       "    <tr>\n",
       "      <th>683</th>\n",
       "      <td>*C(Cl)=C(*)c1ccccc1</td>\n",
       "      <td>1003416473</td>\n",
       "      <td>NaN</td>\n",
       "      <td>0.415840</td>\n",
       "      <td>NaN</td>\n",
       "      <td>NaN</td>\n",
       "      <td>NaN</td>\n",
       "    </tr>\n",
       "    <tr>\n",
       "      <th>5503</th>\n",
       "      <td>*O[Si](*)(CCCOCCOCCOC)CCCOCCOCCOC</td>\n",
       "      <td>895302963</td>\n",
       "      <td>NaN</td>\n",
       "      <td>0.371665</td>\n",
       "      <td>NaN</td>\n",
       "      <td>NaN</td>\n",
       "      <td>NaN</td>\n",
       "    </tr>\n",
       "    <tr>\n",
       "      <th>794</th>\n",
       "      <td>*C1CCC(CC2CCC(N3C(=O)C4C5C=CC(C6C(=O)N(*)C(=O)...</td>\n",
       "      <td>1012615960</td>\n",
       "      <td>NaN</td>\n",
       "      <td>0.378573</td>\n",
       "      <td>NaN</td>\n",
       "      <td>NaN</td>\n",
       "      <td>NaN</td>\n",
       "    </tr>\n",
       "    <tr>\n",
       "      <th>6514</th>\n",
       "      <td>*Oc1ccc(S(=O)(=O)c2ccc(Oc3ccc(C=Nc4ccc(Oc5ccc(...</td>\n",
       "      <td>114257024</td>\n",
       "      <td>NaN</td>\n",
       "      <td>0.373381</td>\n",
       "      <td>NaN</td>\n",
       "      <td>NaN</td>\n",
       "      <td>NaN</td>\n",
       "    </tr>\n",
       "    <tr>\n",
       "      <th>6798</th>\n",
       "      <td>*c1cc(CCCCCCCCCCCCCCCCC)c(*)s1</td>\n",
       "      <td>1066470436</td>\n",
       "      <td>NaN</td>\n",
       "      <td>NaN</td>\n",
       "      <td>0.396</td>\n",
       "      <td>NaN</td>\n",
       "      <td>NaN</td>\n",
       "    </tr>\n",
       "    <tr>\n",
       "      <th>6915</th>\n",
       "      <td>*c1ccc(-c2ccc(C(*)(C)C(F)(F)F)cc2)cc1</td>\n",
       "      <td>1033278937</td>\n",
       "      <td>NaN</td>\n",
       "      <td>NaN</td>\n",
       "      <td>0.194</td>\n",
       "      <td>1.086916</td>\n",
       "      <td>21.060561</td>\n",
       "    </tr>\n",
       "    <tr>\n",
       "      <th>8003</th>\n",
       "      <td>*c1cccc(NC(=O)CCCCCCC(=O)Nc2cccc(S(*)(=O)=O)c2)c1</td>\n",
       "      <td>1476946894</td>\n",
       "      <td>NaN</td>\n",
       "      <td>0.344559</td>\n",
       "      <td>NaN</td>\n",
       "      <td>NaN</td>\n",
       "      <td>NaN</td>\n",
       "    </tr>\n",
       "    <tr>\n",
       "      <th>5969</th>\n",
       "      <td>*Oc1ccc(C2(c3ccc(OC(=O)CCC(*)=O)cc3)c3cc(OC)cc...</td>\n",
       "      <td>1815199784</td>\n",
       "      <td>NaN</td>\n",
       "      <td>0.362618</td>\n",
       "      <td>NaN</td>\n",
       "      <td>NaN</td>\n",
       "      <td>NaN</td>\n",
       "    </tr>\n",
       "    <tr>\n",
       "      <th>3767</th>\n",
       "      <td>*Cc1ccc(CN(C)C(=O)CCCCCCCCCCCCCCC(=O)N(*)C)cc1</td>\n",
       "      <td>1504708152</td>\n",
       "      <td>-14.323625</td>\n",
       "      <td>NaN</td>\n",
       "      <td>NaN</td>\n",
       "      <td>NaN</td>\n",
       "      <td>NaN</td>\n",
       "    </tr>\n",
       "  </tbody>\n",
       "</table>\n",
       "</div>"
      ],
      "text/plain": [
       "                                                 SMILES          id  \\\n",
       "4896  *Nc1ccc([C@H](CCC)c2ccc(C(CCCC)c3ccc([C@@H](CC...    84183521   \n",
       "683                                 *C(Cl)=C(*)c1ccccc1  1003416473   \n",
       "5503                  *O[Si](*)(CCCOCCOCCOC)CCCOCCOCCOC   895302963   \n",
       "794   *C1CCC(CC2CCC(N3C(=O)C4C5C=CC(C6C(=O)N(*)C(=O)...  1012615960   \n",
       "6514  *Oc1ccc(S(=O)(=O)c2ccc(Oc3ccc(C=Nc4ccc(Oc5ccc(...   114257024   \n",
       "6798                     *c1cc(CCCCCCCCCCCCCCCCC)c(*)s1  1066470436   \n",
       "6915              *c1ccc(-c2ccc(C(*)(C)C(F)(F)F)cc2)cc1  1033278937   \n",
       "8003  *c1cccc(NC(=O)CCCCCCC(=O)Nc2cccc(S(*)(=O)=O)c2)c1  1476946894   \n",
       "5969  *Oc1ccc(C2(c3ccc(OC(=O)CCC(*)=O)cc3)c3cc(OC)cc...  1815199784   \n",
       "3767     *Cc1ccc(CN(C)C(=O)CCCCCCCCCCCCCCC(=O)N(*)C)cc1  1504708152   \n",
       "\n",
       "             Tg       FFV     Tc   Density         Rg  \n",
       "4896        NaN  0.369242    NaN       NaN        NaN  \n",
       "683         NaN  0.415840    NaN       NaN        NaN  \n",
       "5503        NaN  0.371665    NaN       NaN        NaN  \n",
       "794         NaN  0.378573    NaN       NaN        NaN  \n",
       "6514        NaN  0.373381    NaN       NaN        NaN  \n",
       "6798        NaN       NaN  0.396       NaN        NaN  \n",
       "6915        NaN       NaN  0.194  1.086916  21.060561  \n",
       "8003        NaN  0.344559    NaN       NaN        NaN  \n",
       "5969        NaN  0.362618    NaN       NaN        NaN  \n",
       "3767 -14.323625       NaN    NaN       NaN        NaN  "
      ]
     },
     "execution_count": 8,
     "metadata": {},
     "output_type": "execute_result"
    }
   ],
   "source": [
    "import numpy as np\n",
    "\n",
    "def first_non_missing(series: pd.Series) -> float | str | np.number | None:\n",
    "    \"\"\"Return the first non-NaN value in *series*, else NaN.\"\"\"\n",
    "    for value in series:\n",
    "        if pd.notna(value):\n",
    "            return float(value)\n",
    "    return np.nan\n",
    "\n",
    "# --- build the aggregation dictionary automatically -----------------------\n",
    "columns_to_aggregate: list[str] = [                   # every column except the key\n",
    "    column_name\n",
    "    for column_name in train_df.columns\n",
    "    if column_name != \"SMILES\"\n",
    "]\n",
    "\n",
    "aggregation_rules: dict[str, callable] = {\n",
    "    \"id\": \"first\",                                    # keep the first id (or change as needed)\n",
    "    **{column_name: first_non_missing for column_name in columns_to_aggregate\n",
    "       if column_name != \"id\"}\n",
    "}\n",
    "\n",
    "# --- perform the merge ----------------------------------------------------\n",
    "deduplicated_train_df: pd.DataFrame = (\n",
    "    train_df\n",
    "    .groupby(by=\"SMILES\", dropna=False)               # one group per distinct SMILES\n",
    "    .agg(aggregation_rules)\n",
    "    .reset_index()                                    # restore SMILES as a normal column\n",
    ")\n",
    "\n",
    "print(len(deduplicated_train_df))          # → 10027  (matches len(train_df['SMILES'].unique()))\n",
    "deduplicated_train_df.sample(10)"
   ]
  },
  {
   "cell_type": "code",
   "execution_count": 9,
   "id": "538aecba",
   "metadata": {},
   "outputs": [
    {
     "data": {
      "text/plain": [
       "SMILES     8103\n",
       "id         8103\n",
       "Tg          511\n",
       "FFV        7030\n",
       "Tc          867\n",
       "Density     613\n",
       "Rg          614\n",
       "dtype: int64"
      ]
     },
     "execution_count": 9,
     "metadata": {},
     "output_type": "execute_result"
    }
   ],
   "source": [
    "deduplicated_train_df.count()"
   ]
  },
  {
   "cell_type": "code",
   "execution_count": 10,
   "id": "9cead4fb",
   "metadata": {},
   "outputs": [],
   "source": [
    "import polars as pl\n",
    "\n",
    "# pl.from_pandas(deduplicated_train_df).write_csv('train_merged.csv')\n",
    "deduplicated_train_df.to_csv('train_Tc-only_merged.csv', index=False)"
   ]
  },
  {
   "cell_type": "markdown",
   "id": "0d82bd8b",
   "metadata": {},
   "source": [
    "# Check types"
   ]
  },
  {
   "cell_type": "code",
   "execution_count": 11,
   "id": "19fc3f35",
   "metadata": {},
   "outputs": [
    {
     "data": {
      "text/html": [
       "<div><style>\n",
       ".dataframe > thead > tr,\n",
       ".dataframe > tbody > tr {\n",
       "  text-align: right;\n",
       "  white-space: pre-wrap;\n",
       "}\n",
       "</style>\n",
       "<small>shape: (5, 7)</small><table border=\"1\" class=\"dataframe\"><thead><tr><th>SMILES</th><th>id</th><th>Tg</th><th>FFV</th><th>Tc</th><th>Density</th><th>Rg</th></tr><tr><td>str</td><td>str</td><td>f64</td><td>f64</td><td>f64</td><td>f64</td><td>f64</td></tr></thead><tbody><tr><td>&quot;*/C(=C(/*)c1ccc(C(C)(C)C)cc1)c…</td><td>&quot;P332014&quot;</td><td>200.0</td><td>null</td><td>null</td><td>null</td><td>null</td></tr><tr><td>&quot;*/C(=C(/*)c1ccc(CCCC)cc1)c1ccc…</td><td>&quot;P332013&quot;</td><td>200.0</td><td>null</td><td>null</td><td>null</td><td>null</td></tr><tr><td>&quot;*/C(=C(/*)c1ccc(Oc2ccccc2)cc1)…</td><td>&quot;P332018&quot;</td><td>200.0</td><td>null</td><td>null</td><td>null</td><td>null</td></tr><tr><td>&quot;*/C(=C(/*)c1ccc([Si](C(C)C)(C(…</td><td>&quot;P332113&quot;</td><td>250.0</td><td>null</td><td>null</td><td>null</td><td>null</td></tr><tr><td>&quot;*/C(=C(/*)c1ccc([Si](C)(C)C)cc…</td><td>&quot;P332015&quot;</td><td>200.0</td><td>null</td><td>null</td><td>null</td><td>null</td></tr></tbody></table></div>"
      ],
      "text/plain": [
       "shape: (5, 7)\n",
       "┌─────────────────────────────────┬─────────┬───────┬──────┬──────┬─────────┬──────┐\n",
       "│ SMILES                          ┆ id      ┆ Tg    ┆ FFV  ┆ Tc   ┆ Density ┆ Rg   │\n",
       "│ ---                             ┆ ---     ┆ ---   ┆ ---  ┆ ---  ┆ ---     ┆ ---  │\n",
       "│ str                             ┆ str     ┆ f64   ┆ f64  ┆ f64  ┆ f64     ┆ f64  │\n",
       "╞═════════════════════════════════╪═════════╪═══════╪══════╪══════╪═════════╪══════╡\n",
       "│ */C(=C(/*)c1ccc(C(C)(C)C)cc1)c… ┆ P332014 ┆ 200.0 ┆ null ┆ null ┆ null    ┆ null │\n",
       "│ */C(=C(/*)c1ccc(CCCC)cc1)c1ccc… ┆ P332013 ┆ 200.0 ┆ null ┆ null ┆ null    ┆ null │\n",
       "│ */C(=C(/*)c1ccc(Oc2ccccc2)cc1)… ┆ P332018 ┆ 200.0 ┆ null ┆ null ┆ null    ┆ null │\n",
       "│ */C(=C(/*)c1ccc([Si](C(C)C)(C(… ┆ P332113 ┆ 250.0 ┆ null ┆ null ┆ null    ┆ null │\n",
       "│ */C(=C(/*)c1ccc([Si](C)(C)C)cc… ┆ P332015 ┆ 200.0 ┆ null ┆ null ┆ null    ┆ null │\n",
       "└─────────────────────────────────┴─────────┴───────┴──────┴──────┴─────────┴──────┘"
      ]
     },
     "metadata": {},
     "output_type": "display_data"
    },
    {
     "data": {
      "text/html": [
       "<div><style>\n",
       ".dataframe > thead > tr,\n",
       ".dataframe > tbody > tr {\n",
       "  text-align: right;\n",
       "  white-space: pre-wrap;\n",
       "}\n",
       "</style>\n",
       "<small>shape: (9, 8)</small><table border=\"1\" class=\"dataframe\"><thead><tr><th>statistic</th><th>SMILES</th><th>id</th><th>Tg</th><th>FFV</th><th>Tc</th><th>Density</th><th>Rg</th></tr><tr><td>str</td><td>str</td><td>str</td><td>f64</td><td>f64</td><td>f64</td><td>f64</td><td>f64</td></tr></thead><tbody><tr><td>&quot;count&quot;</td><td>&quot;10027&quot;</td><td>&quot;10027&quot;</td><td>7679.0</td><td>7030.0</td><td>867.0</td><td>613.0</td><td>614.0</td></tr><tr><td>&quot;null_count&quot;</td><td>&quot;0&quot;</td><td>&quot;0&quot;</td><td>2348.0</td><td>2997.0</td><td>9160.0</td><td>9414.0</td><td>9413.0</td></tr><tr><td>&quot;mean&quot;</td><td>null</td><td>null</td><td>138.980965</td><td>0.367212</td><td>0.256539</td><td>0.985484</td><td>16.419787</td></tr><tr><td>&quot;std&quot;</td><td>null</td><td>null</td><td>112.687531</td><td>0.029609</td><td>0.101271</td><td>0.146189</td><td>4.60864</td></tr><tr><td>&quot;min&quot;</td><td>&quot;*/C(=C(/*)c1ccc(C(C)(C)C)cc1)c…</td><td>&quot;100028701&quot;</td><td>-148.029738</td><td>0.2269924</td><td>0.0465</td><td>0.748691</td><td>9.7283551</td></tr><tr><td>&quot;25%&quot;</td><td>null</td><td>null</td><td>52.0</td><td>0.349546</td><td>0.186333</td><td>0.890243</td><td>12.531907</td></tr><tr><td>&quot;50%&quot;</td><td>null</td><td>null</td><td>130.0</td><td>0.36427</td><td>0.236</td><td>0.948193</td><td>15.064002</td></tr><tr><td>&quot;75%&quot;</td><td>null</td><td>null</td><td>229.0</td><td>0.380796</td><td>0.325</td><td>1.062096</td><td>20.429383</td></tr><tr><td>&quot;max&quot;</td><td>&quot;FC(F)(F)C(C1=CC2=C(OC(=N2)C2=C…</td><td>&quot;P522048&quot;</td><td>495.0</td><td>0.777097</td><td>1.59</td><td>1.840999</td><td>34.672906</td></tr></tbody></table></div>"
      ],
      "text/plain": [
       "shape: (9, 8)\n",
       "┌────────────┬─────────────┬───────────┬─────────────┬───────────┬──────────┬──────────┬───────────┐\n",
       "│ statistic  ┆ SMILES      ┆ id        ┆ Tg          ┆ FFV       ┆ Tc       ┆ Density  ┆ Rg        │\n",
       "│ ---        ┆ ---         ┆ ---       ┆ ---         ┆ ---       ┆ ---      ┆ ---      ┆ ---       │\n",
       "│ str        ┆ str         ┆ str       ┆ f64         ┆ f64       ┆ f64      ┆ f64      ┆ f64       │\n",
       "╞════════════╪═════════════╪═══════════╪═════════════╪═══════════╪══════════╪══════════╪═══════════╡\n",
       "│ count      ┆ 10027       ┆ 10027     ┆ 7679.0      ┆ 7030.0    ┆ 867.0    ┆ 613.0    ┆ 614.0     │\n",
       "│ null_count ┆ 0           ┆ 0         ┆ 2348.0      ┆ 2997.0    ┆ 9160.0   ┆ 9414.0   ┆ 9413.0    │\n",
       "│ mean       ┆ null        ┆ null      ┆ 138.980965  ┆ 0.367212  ┆ 0.256539 ┆ 0.985484 ┆ 16.419787 │\n",
       "│ std        ┆ null        ┆ null      ┆ 112.687531  ┆ 0.029609  ┆ 0.101271 ┆ 0.146189 ┆ 4.60864   │\n",
       "│ min        ┆ */C(=C(/*)c ┆ 100028701 ┆ -148.029738 ┆ 0.2269924 ┆ 0.0465   ┆ 0.748691 ┆ 9.7283551 │\n",
       "│            ┆ 1ccc(C(C)(C ┆           ┆             ┆           ┆          ┆          ┆           │\n",
       "│            ┆ )C)cc1)c…   ┆           ┆             ┆           ┆          ┆          ┆           │\n",
       "│ 25%        ┆ null        ┆ null      ┆ 52.0        ┆ 0.349546  ┆ 0.186333 ┆ 0.890243 ┆ 12.531907 │\n",
       "│ 50%        ┆ null        ┆ null      ┆ 130.0       ┆ 0.36427   ┆ 0.236    ┆ 0.948193 ┆ 15.064002 │\n",
       "│ 75%        ┆ null        ┆ null      ┆ 229.0       ┆ 0.380796  ┆ 0.325    ┆ 1.062096 ┆ 20.429383 │\n",
       "│ max        ┆ FC(F)(F)C(C ┆ P522048   ┆ 495.0       ┆ 0.777097  ┆ 1.59     ┆ 1.840999 ┆ 34.672906 │\n",
       "│            ┆ 1=CC2=C(OC( ┆           ┆             ┆           ┆          ┆          ┆           │\n",
       "│            ┆ =N2)C2=C…   ┆           ┆             ┆           ┆          ┆          ┆           │\n",
       "└────────────┴─────────────┴───────────┴─────────────┴───────────┴──────────┴──────────┴───────────┘"
      ]
     },
     "metadata": {},
     "output_type": "display_data"
    }
   ],
   "source": [
    "import polars as pl\n",
    "\n",
    "reloaded_df = pl.read_csv('train_merged.csv', infer_schema_length=10000)\n",
    "display(reloaded_df.head())\n",
    "display(reloaded_df.describe())"
   ]
  },
  {
   "cell_type": "code",
   "execution_count": 12,
   "id": "3cc5cfe3",
   "metadata": {},
   "outputs": [
    {
     "data": {
      "text/html": [
       "<div><style>\n",
       ".dataframe > thead > tr,\n",
       ".dataframe > tbody > tr {\n",
       "  text-align: right;\n",
       "  white-space: pre-wrap;\n",
       "}\n",
       "</style>\n",
       "<small>shape: (6_996,)</small><table border=\"1\" class=\"dataframe\"><thead><tr><th>FFV</th></tr><tr><td>f64</td></tr></thead><tbody><tr><td>null</td></tr><tr><td>0.2269924</td></tr><tr><td>0.237637</td></tr><tr><td>0.245613</td></tr><tr><td>0.245654</td></tr><tr><td>&hellip;</td></tr><tr><td>0.6509068</td></tr><tr><td>0.687057</td></tr><tr><td>0.769315</td></tr><tr><td>0.774066</td></tr><tr><td>0.777097</td></tr></tbody></table></div>"
      ],
      "text/plain": [
       "shape: (6_996,)\n",
       "Series: 'FFV' [f64]\n",
       "[\n",
       "\tnull\n",
       "\t0.2269924\n",
       "\t0.237637\n",
       "\t0.245613\n",
       "\t0.245654\n",
       "\t…\n",
       "\t0.6509068\n",
       "\t0.687057\n",
       "\t0.769315\n",
       "\t0.774066\n",
       "\t0.777097\n",
       "]"
      ]
     },
     "execution_count": 12,
     "metadata": {},
     "output_type": "execute_result"
    }
   ],
   "source": [
    "reloaded_df['FFV'].unique()"
   ]
  },
  {
   "cell_type": "code",
   "execution_count": 13,
   "id": "c3d47af3",
   "metadata": {},
   "outputs": [
    {
     "data": {
      "text/html": [
       "<div><style>\n",
       ".dataframe > thead > tr,\n",
       ".dataframe > tbody > tr {\n",
       "  text-align: right;\n",
       "  white-space: pre-wrap;\n",
       "}\n",
       "</style>\n",
       "<small>shape: (5, 7)</small><table border=\"1\" class=\"dataframe\"><thead><tr><th>SMILES</th><th>id</th><th>Tg</th><th>FFV</th><th>Tc</th><th>Density</th><th>Rg</th></tr><tr><td>str</td><td>str</td><td>f64</td><td>f64</td><td>f64</td><td>f64</td><td>f64</td></tr></thead><tbody><tr><td>&quot;CCNC(=O)OCCCCC(*)=C=C=C(*)CCCC…</td><td>&quot;15861&quot;</td><td>null</td><td>null</td><td>0.26</td><td>null</td><td>null</td></tr><tr><td>&quot;Cc1ccc(cc1)S(=O)(=O)OCCCCC(*)=…</td><td>&quot;15860&quot;</td><td>null</td><td>null</td><td>0.21</td><td>null</td><td>null</td></tr><tr><td>&quot;FC(F)(F)C(C1=CC2=C(OC(=N2)C2=C…</td><td>&quot;16051&quot;</td><td>null</td><td>null</td><td>0.109</td><td>null</td><td>null</td></tr><tr><td>&quot;FC(F)(F)C(C1=CC2=C(OC(=N2)C2=C…</td><td>&quot;16052&quot;</td><td>null</td><td>null</td><td>0.176</td><td>null</td><td>null</td></tr><tr><td>&quot;FC(F)(F)C(C1=CC2=C(OC(=N2)C2=C…</td><td>&quot;16050&quot;</td><td>null</td><td>null</td><td>0.155</td><td>null</td><td>null</td></tr></tbody></table></div>"
      ],
      "text/plain": [
       "shape: (5, 7)\n",
       "┌─────────────────────────────────┬───────┬──────┬──────┬───────┬─────────┬──────┐\n",
       "│ SMILES                          ┆ id    ┆ Tg   ┆ FFV  ┆ Tc    ┆ Density ┆ Rg   │\n",
       "│ ---                             ┆ ---   ┆ ---  ┆ ---  ┆ ---   ┆ ---     ┆ ---  │\n",
       "│ str                             ┆ str   ┆ f64  ┆ f64  ┆ f64   ┆ f64     ┆ f64  │\n",
       "╞═════════════════════════════════╪═══════╪══════╪══════╪═══════╪═════════╪══════╡\n",
       "│ CCNC(=O)OCCCCC(*)=C=C=C(*)CCCC… ┆ 15861 ┆ null ┆ null ┆ 0.26  ┆ null    ┆ null │\n",
       "│ Cc1ccc(cc1)S(=O)(=O)OCCCCC(*)=… ┆ 15860 ┆ null ┆ null ┆ 0.21  ┆ null    ┆ null │\n",
       "│ FC(F)(F)C(C1=CC2=C(OC(=N2)C2=C… ┆ 16051 ┆ null ┆ null ┆ 0.109 ┆ null    ┆ null │\n",
       "│ FC(F)(F)C(C1=CC2=C(OC(=N2)C2=C… ┆ 16052 ┆ null ┆ null ┆ 0.176 ┆ null    ┆ null │\n",
       "│ FC(F)(F)C(C1=CC2=C(OC(=N2)C2=C… ┆ 16050 ┆ null ┆ null ┆ 0.155 ┆ null    ┆ null │\n",
       "└─────────────────────────────────┴───────┴──────┴──────┴───────┴─────────┴──────┘"
      ]
     },
     "execution_count": 13,
     "metadata": {},
     "output_type": "execute_result"
    }
   ],
   "source": [
    "reloaded_df.tail()"
   ]
  }
 ],
 "metadata": {
  "kernelspec": {
   "display_name": "torch2.7",
   "language": "python",
   "name": "python3"
  },
  "language_info": {
   "codemirror_mode": {
    "name": "ipython",
    "version": 3
   },
   "file_extension": ".py",
   "mimetype": "text/x-python",
   "name": "python",
   "nbconvert_exporter": "python",
   "pygments_lexer": "ipython3",
   "version": "3.12.11"
  }
 },
 "nbformat": 4,
 "nbformat_minor": 5
}
