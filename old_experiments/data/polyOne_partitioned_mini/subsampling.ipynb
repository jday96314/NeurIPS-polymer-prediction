{
 "cells": [
  {
   "cell_type": "code",
   "execution_count": 1,
   "id": "88fd7027",
   "metadata": {},
   "outputs": [
    {
     "data": {
      "text/html": [
       "<div><style>\n",
       ".dataframe > thead > tr,\n",
       ".dataframe > tbody > tr {\n",
       "  text-align: right;\n",
       "  white-space: pre-wrap;\n",
       "}\n",
       "</style>\n",
       "<small>shape: (5, 39)</small><table border=\"1\" class=\"dataframe\"><thead><tr><th>smiles</th><th>Egc</th><th>Egb</th><th>Eib</th><th>CED</th><th>Ei</th><th>Eea</th><th>nc</th><th>ne</th><th>epse_6.0</th><th>epsc</th><th>epse_3.0</th><th>epse_1.78</th><th>epse_15.0</th><th>epse_4.0</th><th>epse_5.0</th><th>epse_2.0</th><th>epse_9.0</th><th>epse_7.0</th><th>TSb</th><th>TSy</th><th>epsb</th><th>YM</th><th>permCH4</th><th>permCO2</th><th>permH2</th><th>permO2</th><th>permN2</th><th>permHe</th><th>Eat</th><th>rho</th><th>LOI</th><th>Xc</th><th>Xe</th><th>Cp</th><th>Td</th><th>Tg</th><th>Tm</th><th>predicted_probability</th></tr><tr><td>str</td><td>f32</td><td>f32</td><td>f32</td><td>f32</td><td>f32</td><td>f32</td><td>f32</td><td>f32</td><td>f32</td><td>f32</td><td>f32</td><td>f32</td><td>f32</td><td>f32</td><td>f32</td><td>f32</td><td>f32</td><td>f32</td><td>f32</td><td>f32</td><td>f32</td><td>f32</td><td>f32</td><td>f32</td><td>f32</td><td>f32</td><td>f32</td><td>f32</td><td>f32</td><td>f32</td><td>f32</td><td>f32</td><td>f32</td><td>f32</td><td>f32</td><td>f32</td><td>f32</td><td>f64</td></tr></thead><tbody><tr><td>&quot;[*]C1=CC=C(c2sc(NC(=O)c3ccc(-c…</td><td>2.289044</td><td>1.959191</td><td>2.962373</td><td>122.920807</td><td>5.214754</td><td>2.572867</td><td>2.184524</td><td>1.748937</td><td>5.008382</td><td>5.741158</td><td>5.555241</td><td>5.886546</td><td>3.354288</td><td>5.365005</td><td>5.191479</td><td>5.805032</td><td>4.382617</td><td>4.820214</td><td>64.46814</td><td>50.633636</td><td>9.441549</td><td>1583.442139</td><td>2.403615</td><td>22.144337</td><td>34.048382</td><td>5.849916</td><td>1.944478</td><td>30.31716</td><td>-6.069649</td><td>1.281736</td><td>25.752581</td><td>24.282017</td><td>27.356392</td><td>1.202939</td><td>588.338684</td><td>406.228516</td><td>487.551941</td><td>0.00669</td></tr><tr><td>&quot;[*]Nc1ccc(C(=O)NNC(=O)CCCCCNC(…</td><td>4.457177</td><td>4.093316</td><td>3.778311</td><td>103.913528</td><td>6.053351</td><td>1.554214</td><td>1.823484</td><td>1.566183</td><td>3.434718</td><td>3.940835</td><td>3.667161</td><td>3.783423</td><td>2.577688</td><td>3.600048</td><td>3.528842</td><td>3.756659</td><td>3.094108</td><td>3.331819</td><td>80.766747</td><td>69.99189</td><td>29.903227</td><td>1695.704712</td><td>0.508363</td><td>2.040609</td><td>5.583228</td><td>0.762137</td><td>0.364979</td><td>5.948467</td><td>-6.238371</td><td>1.119977</td><td>20.957157</td><td>19.040171</td><td>20.143164</td><td>1.185691</td><td>680.781311</td><td>445.641022</td><td>567.730408</td><td>0.036418</td></tr><tr><td>&quot;[*]N=P([*])(Oc1ccc(OC)cc1)Oc1c…</td><td>4.002379</td><td>3.684302</td><td>4.006617</td><td>103.345268</td><td>5.51034</td><td>1.498786</td><td>1.839561</td><td>1.581623</td><td>3.275388</td><td>4.063346</td><td>3.572173</td><td>3.773438</td><td>2.502095</td><td>3.463676</td><td>3.373869</td><td>3.731973</td><td>2.937604</td><td>3.167282</td><td>42.379631</td><td>46.022163</td><td>7.68101</td><td>1776.890137</td><td>3.701518</td><td>21.418957</td><td>25.401615</td><td>5.782984</td><td>2.249864</td><td>21.666817</td><td>-5.825336</td><td>1.240532</td><td>30.226385</td><td>48.125187</td><td>46.957031</td><td>1.444203</td><td>603.768005</td><td>263.517029</td><td>467.632233</td><td>0.116284</td></tr><tr><td>&quot;[*]C(=O)Oc1ccc(S(=O)(=O)c2ccc(…</td><td>3.804986</td><td>3.403906</td><td>3.643408</td><td>126.647659</td><td>5.926083</td><td>2.314558</td><td>2.055537</td><td>1.688373</td><td>3.765182</td><td>4.938564</td><td>4.138022</td><td>4.46568</td><td>2.743561</td><td>3.994742</td><td>3.884886</td><td>4.39158</td><td>3.401808</td><td>3.658372</td><td>71.267509</td><td>68.444504</td><td>7.920873</td><td>2435.362305</td><td>0.192803</td><td>4.101837</td><td>11.470147</td><td>1.13232</td><td>0.203957</td><td>11.223465</td><td>-6.07989</td><td>1.297282</td><td>31.084461</td><td>43.101723</td><td>36.364712</td><td>1.190731</td><td>753.817505</td><td>532.404602</td><td>620.747925</td><td>0.010928</td></tr><tr><td>&quot;[*]OCC(O)CSCCCCCOC(=O)O[*]&quot;</td><td>6.015775</td><td>5.958481</td><td>4.267887</td><td>115.884056</td><td>7.164084</td><td>1.192576</td><td>1.653251</td><td>1.466067</td><td>2.853437</td><td>3.398266</td><td>3.191202</td><td>3.260525</td><td>2.2721</td><td>3.088587</td><td>2.972714</td><td>3.254953</td><td>2.556636</td><td>2.738564</td><td>21.46876</td><td>16.394579</td><td>66.769371</td><td>469.900146</td><td>0.052352</td><td>0.551606</td><td>1.280889</td><td>0.132076</td><td>-0.032265</td><td>1.589315</td><td>-5.744719</td><td>1.135415</td><td>20.910528</td><td>32.21822</td><td>31.965536</td><td>1.426685</td><td>586.757935</td><td>249.554382</td><td>366.177521</td><td>0.035381</td></tr></tbody></table></div>"
      ],
      "text/plain": [
       "shape: (5, 39)\n",
       "┌────────────┬──────────┬──────────┬──────────┬───┬────────────┬───────────┬───────────┬───────────┐\n",
       "│ smiles     ┆ Egc      ┆ Egb      ┆ Eib      ┆ … ┆ Td         ┆ Tg        ┆ Tm        ┆ predicted │\n",
       "│ ---        ┆ ---      ┆ ---      ┆ ---      ┆   ┆ ---        ┆ ---       ┆ ---       ┆ _probabil │\n",
       "│ str        ┆ f32      ┆ f32      ┆ f32      ┆   ┆ f32        ┆ f32       ┆ f32       ┆ ity       │\n",
       "│            ┆          ┆          ┆          ┆   ┆            ┆           ┆           ┆ ---       │\n",
       "│            ┆          ┆          ┆          ┆   ┆            ┆           ┆           ┆ f64       │\n",
       "╞════════════╪══════════╪══════════╪══════════╪═══╪════════════╪═══════════╪═══════════╪═══════════╡\n",
       "│ [*]C1=CC=C ┆ 2.289044 ┆ 1.959191 ┆ 2.962373 ┆ … ┆ 588.338684 ┆ 406.22851 ┆ 487.55194 ┆ 0.00669   │\n",
       "│ (c2sc(NC(= ┆          ┆          ┆          ┆   ┆            ┆ 6         ┆ 1         ┆           │\n",
       "│ O)c3ccc(-c ┆          ┆          ┆          ┆   ┆            ┆           ┆           ┆           │\n",
       "│ …          ┆          ┆          ┆          ┆   ┆            ┆           ┆           ┆           │\n",
       "│ [*]Nc1ccc( ┆ 4.457177 ┆ 4.093316 ┆ 3.778311 ┆ … ┆ 680.781311 ┆ 445.64102 ┆ 567.73040 ┆ 0.036418  │\n",
       "│ C(=O)NNC(= ┆          ┆          ┆          ┆   ┆            ┆ 2         ┆ 8         ┆           │\n",
       "│ O)CCCCCNC( ┆          ┆          ┆          ┆   ┆            ┆           ┆           ┆           │\n",
       "│ …          ┆          ┆          ┆          ┆   ┆            ┆           ┆           ┆           │\n",
       "│ [*]N=P([*] ┆ 4.002379 ┆ 3.684302 ┆ 4.006617 ┆ … ┆ 603.768005 ┆ 263.51702 ┆ 467.63223 ┆ 0.116284  │\n",
       "│ )(Oc1ccc(O ┆          ┆          ┆          ┆   ┆            ┆ 9         ┆ 3         ┆           │\n",
       "│ C)cc1)Oc1c ┆          ┆          ┆          ┆   ┆            ┆           ┆           ┆           │\n",
       "│ …          ┆          ┆          ┆          ┆   ┆            ┆           ┆           ┆           │\n",
       "│ [*]C(=O)Oc ┆ 3.804986 ┆ 3.403906 ┆ 3.643408 ┆ … ┆ 753.817505 ┆ 532.40460 ┆ 620.74792 ┆ 0.010928  │\n",
       "│ 1ccc(S(=O) ┆          ┆          ┆          ┆   ┆            ┆ 2         ┆ 5         ┆           │\n",
       "│ (=O)c2ccc( ┆          ┆          ┆          ┆   ┆            ┆           ┆           ┆           │\n",
       "│ …          ┆          ┆          ┆          ┆   ┆            ┆           ┆           ┆           │\n",
       "│ [*]OCC(O)C ┆ 6.015775 ┆ 5.958481 ┆ 4.267887 ┆ … ┆ 586.757935 ┆ 249.55438 ┆ 366.17752 ┆ 0.035381  │\n",
       "│ SCCCCCOC(= ┆          ┆          ┆          ┆   ┆            ┆ 2         ┆ 1         ┆           │\n",
       "│ O)O[*]     ┆          ┆          ┆          ┆   ┆            ┆           ┆           ┆           │\n",
       "└────────────┴──────────┴──────────┴──────────┴───┴────────────┴───────────┴───────────┴───────────┘"
      ]
     },
     "execution_count": 1,
     "metadata": {},
     "output_type": "execute_result"
    }
   ],
   "source": [
    "import polars as pl\n",
    "\n",
    "smiles_df = pl.read_parquet('realistic/*.parquet')\n",
    "smiles_df.head()"
   ]
  },
  {
   "cell_type": "code",
   "execution_count": 2,
   "id": "9b55b4fe",
   "metadata": {},
   "outputs": [
    {
     "data": {
      "text/plain": [
       "(157923, 39)"
      ]
     },
     "execution_count": 2,
     "metadata": {},
     "output_type": "execute_result"
    }
   ],
   "source": [
    "smiles_df.shape"
   ]
  },
  {
   "cell_type": "code",
   "execution_count": 5,
   "id": "556761b8",
   "metadata": {},
   "outputs": [
    {
     "name": "stderr",
     "output_type": "stream",
     "text": [
      "100%|██████████| 50000/50000 [00:22<00:00, 2207.73it/s]\n"
     ]
    }
   ],
   "source": [
    "from rdkit import Chem\n",
    "from tqdm import tqdm\n",
    "\n",
    "smiles_subset = smiles_df.sample(50_000, seed=42)['smiles'].to_list()\n",
    "\n",
    "reformatted_smiles = []\n",
    "for smi in tqdm(smiles_subset):\n",
    "    mol = Chem.MolFromSmiles(smi)\n",
    "    reformatted_smiles.append(Chem.MolToSmiles(mol))\n",
    "\n",
    "with open('realistic_50k.csv', 'w') as f:\n",
    "    f.write('SMILES\\n' + '\\n'.join(reformatted_smiles))"
   ]
  },
  {
   "cell_type": "code",
   "execution_count": 7,
   "id": "04460335",
   "metadata": {},
   "outputs": [],
   "source": [
    "def standardize_smiles(smi: str) -> str | None:\n",
    "    if smi is None:\n",
    "        return None\n",
    "    mol = Chem.MolFromSmiles(smi)\n",
    "    if mol is None:\n",
    "        return None\n",
    "    return Chem.MolToSmiles(mol)\n",
    "\n",
    "reformatted_subset_df = (\n",
    "    smiles_df\n",
    "    .sample(50_000, seed=42)\n",
    "    .rename({\"smiles\": \"SMILES\"})  # rename column\n",
    "    .with_columns(\n",
    "        pl.col(\"SMILES\").map_elements(standardize_smiles, return_dtype=pl.String)\n",
    "    )  # standardize SMILES formatting\n",
    "    .drop(\"predicted_probability\")  # drop unwanted column\n",
    ")\n",
    "\n",
    "reformatted_subset_df.write_csv('realistic_50k_full.csv', include_header=True)"
   ]
  }
 ],
 "metadata": {
  "kernelspec": {
   "display_name": "autogluon",
   "language": "python",
   "name": "python3"
  },
  "language_info": {
   "codemirror_mode": {
    "name": "ipython",
    "version": 3
   },
   "file_extension": ".py",
   "mimetype": "text/x-python",
   "name": "python",
   "nbconvert_exporter": "python",
   "pygments_lexer": "ipython3",
   "version": "3.11.13"
  }
 },
 "nbformat": 4,
 "nbformat_minor": 5
}
