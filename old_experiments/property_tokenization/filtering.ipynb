{
 "cells": [
  {
   "cell_type": "markdown",
   "id": "bc587f5d",
   "metadata": {},
   "source": [
    "# Load training data"
   ]
  },
  {
   "cell_type": "code",
   "execution_count": 1,
   "id": "294f6ec3",
   "metadata": {},
   "outputs": [
    {
     "data": {
      "text/html": [
       "<div><style>\n",
       ".dataframe > thead > tr,\n",
       ".dataframe > tbody > tr {\n",
       "  text-align: right;\n",
       "  white-space: pre-wrap;\n",
       "}\n",
       "</style>\n",
       "<small>shape: (9, 8)</small><table border=\"1\" class=\"dataframe\"><thead><tr><th>statistic</th><th>id</th><th>SMILES</th><th>Tg</th><th>FFV</th><th>Tc</th><th>Density</th><th>Rg</th></tr><tr><td>str</td><td>f64</td><td>str</td><td>f64</td><td>f64</td><td>f64</td><td>f64</td><td>f64</td></tr></thead><tbody><tr><td>&quot;count&quot;</td><td>7973.0</td><td>&quot;7973&quot;</td><td>511.0</td><td>7030.0</td><td>737.0</td><td>613.0</td><td>614.0</td></tr><tr><td>&quot;null_count&quot;</td><td>0.0</td><td>&quot;0&quot;</td><td>7462.0</td><td>943.0</td><td>7236.0</td><td>7360.0</td><td>7359.0</td></tr><tr><td>&quot;mean&quot;</td><td>1.0800e9</td><td>null</td><td>96.452314</td><td>0.367212</td><td>0.256334</td><td>0.985484</td><td>16.419787</td></tr><tr><td>&quot;std&quot;</td><td>6.2182e8</td><td>null</td><td>111.228279</td><td>0.029609</td><td>0.089538</td><td>0.146189</td><td>4.60864</td></tr><tr><td>&quot;min&quot;</td><td>87817.0</td><td>&quot;*/C(=C(/*)c1ccccc1)c1ccccc1&quot;</td><td>-148.029738</td><td>0.2269924</td><td>0.0465</td><td>0.748691</td><td>9.7283551</td></tr><tr><td>&quot;25%&quot;</td><td>5.37664135e8</td><td>null</td><td>14.086863</td><td>0.349546</td><td>0.186</td><td>0.890243</td><td>12.531907</td></tr><tr><td>&quot;50%&quot;</td><td>1.0791e9</td><td>null</td><td>74.040183</td><td>0.36427</td><td>0.236</td><td>0.948193</td><td>15.064002</td></tr><tr><td>&quot;75%&quot;</td><td>1.6217e9</td><td>null</td><td>162.18557</td><td>0.380796</td><td>0.3305</td><td>1.062096</td><td>20.429383</td></tr><tr><td>&quot;max&quot;</td><td>2.1474e9</td><td>&quot;*c1sc(*)c2c1OCC(CCCCCCCCCCCCCC…</td><td>472.25</td><td>0.777097</td><td>0.524</td><td>1.840999</td><td>34.672906</td></tr></tbody></table></div>"
      ],
      "text/plain": [
       "shape: (9, 8)\n",
       "┌────────────┬─────────────┬────────────┬────────────┬───────────┬──────────┬──────────┬───────────┐\n",
       "│ statistic  ┆ id          ┆ SMILES     ┆ Tg         ┆ FFV       ┆ Tc       ┆ Density  ┆ Rg        │\n",
       "│ ---        ┆ ---         ┆ ---        ┆ ---        ┆ ---       ┆ ---      ┆ ---      ┆ ---       │\n",
       "│ str        ┆ f64         ┆ str        ┆ f64        ┆ f64       ┆ f64      ┆ f64      ┆ f64       │\n",
       "╞════════════╪═════════════╪════════════╪════════════╪═══════════╪══════════╪══════════╪═══════════╡\n",
       "│ count      ┆ 7973.0      ┆ 7973       ┆ 511.0      ┆ 7030.0    ┆ 737.0    ┆ 613.0    ┆ 614.0     │\n",
       "│ null_count ┆ 0.0         ┆ 0          ┆ 7462.0     ┆ 943.0     ┆ 7236.0   ┆ 7360.0   ┆ 7359.0    │\n",
       "│ mean       ┆ 1.0800e9    ┆ null       ┆ 96.452314  ┆ 0.367212  ┆ 0.256334 ┆ 0.985484 ┆ 16.419787 │\n",
       "│ std        ┆ 6.2182e8    ┆ null       ┆ 111.228279 ┆ 0.029609  ┆ 0.089538 ┆ 0.146189 ┆ 4.60864   │\n",
       "│ min        ┆ 87817.0     ┆ */C(=C(/*) ┆ -148.02973 ┆ 0.2269924 ┆ 0.0465   ┆ 0.748691 ┆ 9.7283551 │\n",
       "│            ┆             ┆ c1ccccc1)c ┆ 8          ┆           ┆          ┆          ┆           │\n",
       "│            ┆             ┆ 1ccccc1    ┆            ┆           ┆          ┆          ┆           │\n",
       "│ 25%        ┆ 5.37664135e ┆ null       ┆ 14.086863  ┆ 0.349546  ┆ 0.186    ┆ 0.890243 ┆ 12.531907 │\n",
       "│            ┆ 8           ┆            ┆            ┆           ┆          ┆          ┆           │\n",
       "│ 50%        ┆ 1.0791e9    ┆ null       ┆ 74.040183  ┆ 0.36427   ┆ 0.236    ┆ 0.948193 ┆ 15.064002 │\n",
       "│ 75%        ┆ 1.6217e9    ┆ null       ┆ 162.18557  ┆ 0.380796  ┆ 0.3305   ┆ 1.062096 ┆ 20.429383 │\n",
       "│ max        ┆ 2.1474e9    ┆ *c1sc(*)c2 ┆ 472.25     ┆ 0.777097  ┆ 0.524    ┆ 1.840999 ┆ 34.672906 │\n",
       "│            ┆             ┆ c1OCC(CCCC ┆            ┆           ┆          ┆          ┆           │\n",
       "│            ┆             ┆ CCCCCCCCCC ┆            ┆           ┆          ┆          ┆           │\n",
       "│            ┆             ┆ …          ┆            ┆           ┆          ┆          ┆           │\n",
       "└────────────┴─────────────┴────────────┴────────────┴───────────┴──────────┴──────────┴───────────┘"
      ]
     },
     "metadata": {},
     "output_type": "display_data"
    },
    {
     "data": {
      "text/html": [
       "<div><style>\n",
       ".dataframe > thead > tr,\n",
       ".dataframe > tbody > tr {\n",
       "  text-align: right;\n",
       "  white-space: pre-wrap;\n",
       "}\n",
       "</style>\n",
       "<small>shape: (5, 7)</small><table border=\"1\" class=\"dataframe\"><thead><tr><th>id</th><th>SMILES</th><th>Tg</th><th>FFV</th><th>Tc</th><th>Density</th><th>Rg</th></tr><tr><td>i64</td><td>str</td><td>f64</td><td>f64</td><td>f64</td><td>f64</td><td>f64</td></tr></thead><tbody><tr><td>87817</td><td>&quot;*CC(*)c1ccccc1C(=O)OCCCCCC&quot;</td><td>null</td><td>0.374645</td><td>0.205667</td><td>null</td><td>null</td></tr><tr><td>106919</td><td>&quot;*Nc1ccc([C@H](CCC)c2ccc(C3(c4c…</td><td>null</td><td>0.3704102</td><td>null</td><td>null</td><td>null</td></tr><tr><td>388772</td><td>&quot;*Oc1ccc(S(=O)(=O)c2ccc(Oc3ccc(…</td><td>null</td><td>0.37886</td><td>null</td><td>null</td><td>null</td></tr><tr><td>519416</td><td>&quot;*Nc1ccc(-c2c(-c3ccc(C)cc3)c(-c…</td><td>null</td><td>0.3873239</td><td>null</td><td>null</td><td>null</td></tr><tr><td>539187</td><td>&quot;*Oc1ccc(OC(=O)c2cc(OCCCCCCCCCO…</td><td>null</td><td>0.35547</td><td>null</td><td>null</td><td>null</td></tr></tbody></table></div>"
      ],
      "text/plain": [
       "shape: (5, 7)\n",
       "┌────────┬─────────────────────────────────┬──────┬───────────┬──────────┬─────────┬──────┐\n",
       "│ id     ┆ SMILES                          ┆ Tg   ┆ FFV       ┆ Tc       ┆ Density ┆ Rg   │\n",
       "│ ---    ┆ ---                             ┆ ---  ┆ ---       ┆ ---      ┆ ---     ┆ ---  │\n",
       "│ i64    ┆ str                             ┆ f64  ┆ f64       ┆ f64      ┆ f64     ┆ f64  │\n",
       "╞════════╪═════════════════════════════════╪══════╪═══════════╪══════════╪═════════╪══════╡\n",
       "│ 87817  ┆ *CC(*)c1ccccc1C(=O)OCCCCCC      ┆ null ┆ 0.374645  ┆ 0.205667 ┆ null    ┆ null │\n",
       "│ 106919 ┆ *Nc1ccc([C@H](CCC)c2ccc(C3(c4c… ┆ null ┆ 0.3704102 ┆ null     ┆ null    ┆ null │\n",
       "│ 388772 ┆ *Oc1ccc(S(=O)(=O)c2ccc(Oc3ccc(… ┆ null ┆ 0.37886   ┆ null     ┆ null    ┆ null │\n",
       "│ 519416 ┆ *Nc1ccc(-c2c(-c3ccc(C)cc3)c(-c… ┆ null ┆ 0.3873239 ┆ null     ┆ null    ┆ null │\n",
       "│ 539187 ┆ *Oc1ccc(OC(=O)c2cc(OCCCCCCCCCO… ┆ null ┆ 0.35547   ┆ null     ┆ null    ┆ null │\n",
       "└────────┴─────────────────────────────────┴──────┴───────────┴──────────┴─────────┴──────┘"
      ]
     },
     "execution_count": 1,
     "metadata": {},
     "output_type": "execute_result"
    }
   ],
   "source": [
    "import polars as pl\n",
    "\n",
    "host_df = pl.read_csv('../data/from_host/train.csv')\n",
    "display(host_df.describe())\n",
    "host_df.head()"
   ]
  },
  {
   "cell_type": "code",
   "execution_count": null,
   "id": "5928ebac",
   "metadata": {},
   "outputs": [
    {
     "data": {
      "text/html": [
       "<div><style>\n",
       ".dataframe > thead > tr,\n",
       ".dataframe > tbody > tr {\n",
       "  text-align: right;\n",
       "  white-space: pre-wrap;\n",
       "}\n",
       "</style>\n",
       "<small>shape: (9, 39)</small><table border=\"1\" class=\"dataframe\"><thead><tr><th>statistic</th><th>smiles</th><th>Egc</th><th>Egb</th><th>Eib</th><th>CED</th><th>Ei</th><th>Eea</th><th>nc</th><th>ne</th><th>epse_6.0</th><th>epsc</th><th>epse_3.0</th><th>epse_1.78</th><th>epse_15.0</th><th>epse_4.0</th><th>epse_5.0</th><th>epse_2.0</th><th>epse_9.0</th><th>epse_7.0</th><th>TSb</th><th>TSy</th><th>epsb</th><th>YM</th><th>permCH4</th><th>permCO2</th><th>permH2</th><th>permO2</th><th>permN2</th><th>permHe</th><th>Eat</th><th>rho</th><th>LOI</th><th>Xc</th><th>Xe</th><th>Cp</th><th>Td</th><th>Tg</th><th>Tm</th></tr><tr><td>str</td><td>str</td><td>f64</td><td>f64</td><td>f64</td><td>f64</td><td>f64</td><td>f64</td><td>f64</td><td>f64</td><td>f64</td><td>f64</td><td>f64</td><td>f64</td><td>f64</td><td>f64</td><td>f64</td><td>f64</td><td>f64</td><td>f64</td><td>f64</td><td>f64</td><td>f64</td><td>f64</td><td>f64</td><td>f64</td><td>f64</td><td>f64</td><td>f64</td><td>f64</td><td>f64</td><td>f64</td><td>f64</td><td>f64</td><td>f64</td><td>f64</td><td>f64</td><td>f64</td><td>f64</td></tr></thead><tbody><tr><td>&quot;count&quot;</td><td>&quot;63784&quot;</td><td>63784.0</td><td>63784.0</td><td>63784.0</td><td>63784.0</td><td>63784.0</td><td>63784.0</td><td>63784.0</td><td>63784.0</td><td>63784.0</td><td>63784.0</td><td>63784.0</td><td>63784.0</td><td>63784.0</td><td>63784.0</td><td>63784.0</td><td>63784.0</td><td>63784.0</td><td>63784.0</td><td>63784.0</td><td>63784.0</td><td>63784.0</td><td>63784.0</td><td>63784.0</td><td>63784.0</td><td>63784.0</td><td>63784.0</td><td>63784.0</td><td>63784.0</td><td>63784.0</td><td>63784.0</td><td>63784.0</td><td>63784.0</td><td>63784.0</td><td>63784.0</td><td>63784.0</td><td>63784.0</td><td>63784.0</td></tr><tr><td>&quot;null_count&quot;</td><td>&quot;0&quot;</td><td>0.0</td><td>0.0</td><td>0.0</td><td>0.0</td><td>0.0</td><td>0.0</td><td>0.0</td><td>0.0</td><td>0.0</td><td>0.0</td><td>0.0</td><td>0.0</td><td>0.0</td><td>0.0</td><td>0.0</td><td>0.0</td><td>0.0</td><td>0.0</td><td>0.0</td><td>0.0</td><td>0.0</td><td>0.0</td><td>0.0</td><td>0.0</td><td>0.0</td><td>0.0</td><td>0.0</td><td>0.0</td><td>0.0</td><td>0.0</td><td>0.0</td><td>0.0</td><td>0.0</td><td>0.0</td><td>0.0</td><td>0.0</td><td>0.0</td></tr><tr><td>&quot;mean&quot;</td><td>null</td><td>3.427728</td><td>3.066735</td><td>3.342586</td><td>132.343277</td><td>5.817612</td><td>2.254946</td><td>1.945749</td><td>1.630516</td><td>3.40889</td><td>4.445036</td><td>3.672541</td><td>3.928421</td><td>2.644577</td><td>3.565768</td><td>3.48795</td><td>3.866581</td><td>3.126804</td><td>3.320908</td><td>83.431145</td><td>67.495201</td><td>14.855095</td><td>2015.39624</td><td>1.727476</td><td>25.351694</td><td>41.617928</td><td>5.958321</td><td>1.561681</td><td>34.955944</td><td>-6.030601</td><td>1.296544</td><td>32.461632</td><td>41.318913</td><td>38.239384</td><td>1.278323</td><td>712.916931</td><td>498.70459</td><td>592.108398</td></tr><tr><td>&quot;std&quot;</td><td>null</td><td>0.540557</td><td>0.575264</td><td>0.287058</td><td>19.536013</td><td>0.297158</td><td>0.391786</td><td>0.101496</td><td>0.055197</td><td>0.380676</td><td>0.451792</td><td>0.455808</td><td>0.505485</td><td>0.172178</td><td>0.427495</td><td>0.403524</td><td>0.494598</td><td>0.308729</td><td>0.357182</td><td>17.238815</td><td>11.817049</td><td>13.197007</td><td>358.427521</td><td>4.48992</td><td>67.780029</td><td>69.477226</td><td>12.8759</td><td>3.503287</td><td>48.48737</td><td>0.146244</td><td>0.100488</td><td>6.57162</td><td>11.471463</td><td>9.255734</td><td>0.113047</td><td>58.564133</td><td>61.594086</td><td>61.425503</td></tr><tr><td>&quot;min&quot;</td><td>&quot;[*]C#CC#CCN(c1ccccc1)c1ccc2c(c…</td><td>0.462167</td><td>0.822184</td><td>2.226995</td><td>34.100498</td><td>3.839795</td><td>0.625124</td><td>1.563943</td><td>1.346997</td><td>2.174279</td><td>2.94927</td><td>2.181213</td><td>2.181062</td><td>2.119388</td><td>2.180388</td><td>2.178009</td><td>2.180754</td><td>2.157406</td><td>2.168841</td><td>9.84872</td><td>6.556947</td><td>1.005818</td><td>195.188675</td><td>-0.318303</td><td>0.033004</td><td>0.440675</td><td>-0.119201</td><td>-0.231159</td><td>0.639427</td><td>-6.537001</td><td>0.905176</td><td>15.786127</td><td>6.420502</td><td>7.708358</td><td>0.922787</td><td>465.049957</td><td>194.929489</td><td>303.289185</td></tr><tr><td>&quot;25%&quot;</td><td>null</td><td>3.058112</td><td>2.658014</td><td>3.140333</td><td>120.308907</td><td>5.636275</td><td>2.049025</td><td>1.879403</td><td>1.596804</td><td>3.154848</td><td>4.139275</td><td>3.363557</td><td>3.584834</td><td>2.531172</td><td>3.278606</td><td>3.217741</td><td>3.529103</td><td>2.914692</td><td>3.0813</td><td>72.698578</td><td>60.746014</td><td>7.866436</td><td>1822.353638</td><td>0.298715</td><td>4.883823</td><td>13.248018</td><td>1.288783</td><td>0.305291</td><td>12.785625</td><td>-6.126181</td><td>1.236518</td><td>28.401861</td><td>33.568062</td><td>32.477642</td><td>1.207969</td><td>671.225586</td><td>462.609497</td><td>554.445679</td></tr><tr><td>&quot;50%&quot;</td><td>null</td><td>3.404495</td><td>3.014015</td><td>3.356736</td><td>129.706573</td><td>5.816462</td><td>2.265551</td><td>1.942335</td><td>1.632668</td><td>3.386118</td><td>4.419598</td><td>3.642849</td><td>3.902783</td><td>2.631835</td><td>3.535671</td><td>3.460049</td><td>3.840262</td><td>3.11202</td><td>3.304225</td><td>85.297287</td><td>68.101532</td><td>11.584024</td><td>2035.247803</td><td>0.697167</td><td>10.342433</td><td>23.529333</td><td>2.757939</td><td>0.677141</td><td>21.686979</td><td>-6.053067</td><td>1.287339</td><td>31.435692</td><td>40.16782</td><td>37.079227</td><td>1.257593</td><td>716.760132</td><td>508.678162</td><td>598.178772</td></tr><tr><td>&quot;75%&quot;</td><td>null</td><td>3.750711</td><td>3.413468</td><td>3.533578</td><td>141.485199</td><td>5.996831</td><td>2.482922</td><td>2.009772</td><td>1.66616</td><td>3.637251</td><td>4.724211</td><td>3.951602</td><td>4.238575</td><td>2.742395</td><td>3.825755</td><td>3.73121</td><td>4.170448</td><td>3.318002</td><td>3.534486</td><td>95.62973</td><td>75.159035</td><td>17.346693</td><td>2237.954346</td><td>1.668211</td><td>23.660656</td><td>45.049679</td><td>6.072867</td><td>1.580107</td><td>39.39946</td><td>-5.963258</td><td>1.346794</td><td>35.26281</td><td>47.699932</td><td>42.644218</td><td>1.325364</td><td>757.103088</td><td>543.270996</td><td>635.354004</td></tr><tr><td>&quot;max&quot;</td><td>&quot;[*]n1nccc1-c1ccc2c(c1)c1ccccc1…</td><td>7.35955</td><td>7.651965</td><td>5.070818</td><td>253.388611</td><td>8.36078</td><td>4.18997</td><td>2.542808</td><td>1.934094</td><td>5.559963</td><td>7.188665</td><td>6.162675</td><td>6.715418</td><td>3.863602</td><td>5.921249</td><td>5.754436</td><td>6.584281</td><td>4.957166</td><td>5.373966</td><td>160.75351</td><td>112.742409</td><td>273.974213</td><td>3544.485352</td><td>228.545959</td><td>3354.832031</td><td>2651.307129</td><td>529.259521</td><td>140.811966</td><td>1674.443115</td><td>-5.260795</td><td>1.857166</td><td>70.942856</td><td>96.862228</td><td>88.07074</td><td>1.897641</td><td>1052.219849</td><td>691.142456</td><td>812.319275</td></tr></tbody></table></div>"
      ],
      "text/plain": [
       "shape: (9, 39)\n",
       "┌────────────┬────────────┬──────────┬──────────┬───┬──────────┬───────────┬───────────┬───────────┐\n",
       "│ statistic  ┆ smiles     ┆ Egc      ┆ Egb      ┆ … ┆ Cp       ┆ Td        ┆ Tg        ┆ Tm        │\n",
       "│ ---        ┆ ---        ┆ ---      ┆ ---      ┆   ┆ ---      ┆ ---       ┆ ---       ┆ ---       │\n",
       "│ str        ┆ str        ┆ f64      ┆ f64      ┆   ┆ f64      ┆ f64       ┆ f64       ┆ f64       │\n",
       "╞════════════╪════════════╪══════════╪══════════╪═══╪══════════╪═══════════╪═══════════╪═══════════╡\n",
       "│ count      ┆ 63784      ┆ 63784.0  ┆ 63784.0  ┆ … ┆ 63784.0  ┆ 63784.0   ┆ 63784.0   ┆ 63784.0   │\n",
       "│ null_count ┆ 0          ┆ 0.0      ┆ 0.0      ┆ … ┆ 0.0      ┆ 0.0       ┆ 0.0       ┆ 0.0       │\n",
       "│ mean       ┆ null       ┆ 3.427728 ┆ 3.066735 ┆ … ┆ 1.278323 ┆ 712.91693 ┆ 498.70459 ┆ 592.10839 │\n",
       "│            ┆            ┆          ┆          ┆   ┆          ┆ 1         ┆           ┆ 8         │\n",
       "│ std        ┆ null       ┆ 0.540557 ┆ 0.575264 ┆ … ┆ 0.113047 ┆ 58.564133 ┆ 61.594086 ┆ 61.425503 │\n",
       "│ min        ┆ [*]C#CC#CC ┆ 0.462167 ┆ 0.822184 ┆ … ┆ 0.922787 ┆ 465.04995 ┆ 194.92948 ┆ 303.28918 │\n",
       "│            ┆ N(c1ccccc1 ┆          ┆          ┆   ┆          ┆ 7         ┆ 9         ┆ 5         │\n",
       "│            ┆ )c1ccc2c(c ┆          ┆          ┆   ┆          ┆           ┆           ┆           │\n",
       "│            ┆ …          ┆          ┆          ┆   ┆          ┆           ┆           ┆           │\n",
       "│ 25%        ┆ null       ┆ 3.058112 ┆ 2.658014 ┆ … ┆ 1.207969 ┆ 671.22558 ┆ 462.60949 ┆ 554.44567 │\n",
       "│            ┆            ┆          ┆          ┆   ┆          ┆ 6         ┆ 7         ┆ 9         │\n",
       "│ 50%        ┆ null       ┆ 3.404495 ┆ 3.014015 ┆ … ┆ 1.257593 ┆ 716.76013 ┆ 508.67816 ┆ 598.17877 │\n",
       "│            ┆            ┆          ┆          ┆   ┆          ┆ 2         ┆ 2         ┆ 2         │\n",
       "│ 75%        ┆ null       ┆ 3.750711 ┆ 3.413468 ┆ … ┆ 1.325364 ┆ 757.10308 ┆ 543.27099 ┆ 635.35400 │\n",
       "│            ┆            ┆          ┆          ┆   ┆          ┆ 8         ┆ 6         ┆ 4         │\n",
       "│ max        ┆ [*]n1nccc1 ┆ 7.35955  ┆ 7.651965 ┆ … ┆ 1.897641 ┆ 1052.2198 ┆ 691.14245 ┆ 812.31927 │\n",
       "│            ┆ -c1ccc2c(c ┆          ┆          ┆   ┆          ┆ 49        ┆ 6         ┆ 5         │\n",
       "│            ┆ 1)c1ccccc1 ┆          ┆          ┆   ┆          ┆           ┆           ┆           │\n",
       "│            ┆ …          ┆          ┆          ┆   ┆          ┆           ┆           ┆           │\n",
       "└────────────┴────────────┴──────────┴──────────┴───┴──────────┴───────────┴───────────┴───────────┘"
      ]
     },
     "metadata": {},
     "output_type": "display_data"
    },
    {
     "data": {
      "text/html": [
       "<div><style>\n",
       ".dataframe > thead > tr,\n",
       ".dataframe > tbody > tr {\n",
       "  text-align: right;\n",
       "  white-space: pre-wrap;\n",
       "}\n",
       "</style>\n",
       "<small>shape: (5, 38)</small><table border=\"1\" class=\"dataframe\"><thead><tr><th>smiles</th><th>Egc</th><th>Egb</th><th>Eib</th><th>CED</th><th>Ei</th><th>Eea</th><th>nc</th><th>ne</th><th>epse_6.0</th><th>epsc</th><th>epse_3.0</th><th>epse_1.78</th><th>epse_15.0</th><th>epse_4.0</th><th>epse_5.0</th><th>epse_2.0</th><th>epse_9.0</th><th>epse_7.0</th><th>TSb</th><th>TSy</th><th>epsb</th><th>YM</th><th>permCH4</th><th>permCO2</th><th>permH2</th><th>permO2</th><th>permN2</th><th>permHe</th><th>Eat</th><th>rho</th><th>LOI</th><th>Xc</th><th>Xe</th><th>Cp</th><th>Td</th><th>Tg</th><th>Tm</th></tr><tr><td>str</td><td>f32</td><td>f32</td><td>f32</td><td>f32</td><td>f32</td><td>f32</td><td>f32</td><td>f32</td><td>f32</td><td>f32</td><td>f32</td><td>f32</td><td>f32</td><td>f32</td><td>f32</td><td>f32</td><td>f32</td><td>f32</td><td>f32</td><td>f32</td><td>f32</td><td>f32</td><td>f32</td><td>f32</td><td>f32</td><td>f32</td><td>f32</td><td>f32</td><td>f32</td><td>f32</td><td>f32</td><td>f32</td><td>f32</td><td>f32</td><td>f32</td><td>f32</td><td>f32</td></tr></thead><tbody><tr><td>&quot;[*]C(=O)c1ccc(C(=O)N(C)C(=O)CC…</td><td>4.5986</td><td>4.006011</td><td>3.474079</td><td>117.707275</td><td>6.779108</td><td>1.942967</td><td>1.879628</td><td>1.607212</td><td>3.718831</td><td>4.446993</td><td>4.095495</td><td>4.29555</td><td>2.614483</td><td>3.973819</td><td>3.850616</td><td>4.250669</td><td>3.29881</td><td>3.571824</td><td>72.606079</td><td>61.503429</td><td>32.377998</td><td>1867.010376</td><td>0.645507</td><td>4.879552</td><td>12.31781</td><td>1.469414</td><td>0.563397</td><td>13.470089</td><td>-6.114029</td><td>1.277439</td><td>27.321226</td><td>35.779533</td><td>31.88673</td><td>1.182166</td><td>613.237488</td><td>491.580841</td><td>554.619507</td></tr><tr><td>&quot;[*]OC1CC(C)(C)CC(C)(CC2N(CCCC)…</td><td>3.961177</td><td>4.021499</td><td>3.752093</td><td>84.048073</td><td>5.297412</td><td>1.03378</td><td>1.666463</td><td>1.460192</td><td>2.86403</td><td>3.379715</td><td>3.011242</td><td>3.040231</td><td>2.37349</td><td>2.97328</td><td>2.920584</td><td>3.039898</td><td>2.652018</td><td>2.795055</td><td>51.99255</td><td>47.445927</td><td>9.825008</td><td>1409.934937</td><td>8.291538</td><td>75.259056</td><td>76.133118</td><td>17.564238</td><td>5.821793</td><td>53.713375</td><td>-6.325039</td><td>1.021451</td><td>18.624704</td><td>10.47535</td><td>13.131899</td><td>1.188268</td><td>632.887878</td><td>397.06778</td><td>479.433197</td></tr><tr><td>&quot;[*]CNc1ccc(C=NN=Cc2ccc(Cc3ccc4…</td><td>3.221952</td><td>2.789144</td><td>3.330721</td><td>134.077759</td><td>5.599877</td><td>2.313876</td><td>1.962284</td><td>1.6459</td><td>3.470788</td><td>4.401649</td><td>3.693029</td><td>3.947017</td><td>2.72738</td><td>3.595478</td><td>3.540968</td><td>3.8841</td><td>3.216118</td><td>3.396809</td><td>90.445908</td><td>76.097504</td><td>8.725266</td><td>1851.566895</td><td>0.636925</td><td>9.630866</td><td>20.566116</td><td>2.561934</td><td>0.591379</td><td>17.844671</td><td>-6.155777</td><td>1.251683</td><td>29.017263</td><td>32.18858</td><td>31.260023</td><td>1.193318</td><td>723.865479</td><td>459.817047</td><td>574.835022</td></tr><tr><td>&quot;[*]c1ccc(Nc2ccccc2-c2ccc(S(=O)…</td><td>3.53163</td><td>3.174931</td><td>3.492802</td><td>140.65152</td><td>5.935304</td><td>2.573449</td><td>2.114295</td><td>1.718745</td><td>3.864086</td><td>5.256824</td><td>4.245496</td><td>4.632237</td><td>2.853558</td><td>4.090538</td><td>3.970388</td><td>4.5376</td><td>3.505974</td><td>3.754051</td><td>78.768799</td><td>65.889137</td><td>12.266361</td><td>2374.464111</td><td>1.043939</td><td>18.440525</td><td>32.645844</td><td>3.967926</td><td>0.983276</td><td>30.936161</td><td>-6.172076</td><td>1.282553</td><td>32.752789</td><td>36.583015</td><td>34.881805</td><td>1.200065</td><td>685.747803</td><td>530.922913</td><td>587.164185</td></tr><tr><td>&quot;[*]N1C(=O)c2cccc(NC(=O)c3ccccc…</td><td>3.757116</td><td>3.267619</td><td>3.389728</td><td>142.871109</td><td>6.092232</td><td>2.390715</td><td>1.989617</td><td>1.657371</td><td>3.563672</td><td>4.610857</td><td>3.80148</td><td>4.090994</td><td>2.711132</td><td>3.698674</td><td>3.631605</td><td>4.013677</td><td>3.285837</td><td>3.491245</td><td>90.177765</td><td>76.317825</td><td>12.757894</td><td>2194.225586</td><td>0.216327</td><td>4.630924</td><td>13.44123</td><td>1.002085</td><td>0.219143</td><td>14.76348</td><td>-6.054605</td><td>1.227253</td><td>26.043201</td><td>32.633953</td><td>33.089848</td><td>1.217522</td><td>694.663574</td><td>504.143921</td><td>561.88269</td></tr></tbody></table></div>"
      ],
      "text/plain": [
       "shape: (5, 38)\n",
       "┌────────────┬──────────┬──────────┬──────────┬───┬──────────┬────────────┬────────────┬───────────┐\n",
       "│ smiles     ┆ Egc      ┆ Egb      ┆ Eib      ┆ … ┆ Cp       ┆ Td         ┆ Tg         ┆ Tm        │\n",
       "│ ---        ┆ ---      ┆ ---      ┆ ---      ┆   ┆ ---      ┆ ---        ┆ ---        ┆ ---       │\n",
       "│ str        ┆ f32      ┆ f32      ┆ f32      ┆   ┆ f32      ┆ f32        ┆ f32        ┆ f32       │\n",
       "╞════════════╪══════════╪══════════╪══════════╪═══╪══════════╪════════════╪════════════╪═══════════╡\n",
       "│ [*]C(=O)c1 ┆ 4.5986   ┆ 4.006011 ┆ 3.474079 ┆ … ┆ 1.182166 ┆ 613.237488 ┆ 491.580841 ┆ 554.61950 │\n",
       "│ ccc(C(=O)N ┆          ┆          ┆          ┆   ┆          ┆            ┆            ┆ 7         │\n",
       "│ (C)C(=O)CC ┆          ┆          ┆          ┆   ┆          ┆            ┆            ┆           │\n",
       "│ …          ┆          ┆          ┆          ┆   ┆          ┆            ┆            ┆           │\n",
       "│ [*]OC1CC(C ┆ 3.961177 ┆ 4.021499 ┆ 3.752093 ┆ … ┆ 1.188268 ┆ 632.887878 ┆ 397.06778  ┆ 479.43319 │\n",
       "│ )(C)CC(C)( ┆          ┆          ┆          ┆   ┆          ┆            ┆            ┆ 7         │\n",
       "│ CC2N(CCCC) ┆          ┆          ┆          ┆   ┆          ┆            ┆            ┆           │\n",
       "│ …          ┆          ┆          ┆          ┆   ┆          ┆            ┆            ┆           │\n",
       "│ [*]CNc1ccc ┆ 3.221952 ┆ 2.789144 ┆ 3.330721 ┆ … ┆ 1.193318 ┆ 723.865479 ┆ 459.817047 ┆ 574.83502 │\n",
       "│ (C=NN=Cc2c ┆          ┆          ┆          ┆   ┆          ┆            ┆            ┆ 2         │\n",
       "│ cc(Cc3ccc4 ┆          ┆          ┆          ┆   ┆          ┆            ┆            ┆           │\n",
       "│ …          ┆          ┆          ┆          ┆   ┆          ┆            ┆            ┆           │\n",
       "│ [*]c1ccc(N ┆ 3.53163  ┆ 3.174931 ┆ 3.492802 ┆ … ┆ 1.200065 ┆ 685.747803 ┆ 530.922913 ┆ 587.16418 │\n",
       "│ c2ccccc2-c ┆          ┆          ┆          ┆   ┆          ┆            ┆            ┆ 5         │\n",
       "│ 2ccc(S(=O) ┆          ┆          ┆          ┆   ┆          ┆            ┆            ┆           │\n",
       "│ …          ┆          ┆          ┆          ┆   ┆          ┆            ┆            ┆           │\n",
       "│ [*]N1C(=O) ┆ 3.757116 ┆ 3.267619 ┆ 3.389728 ┆ … ┆ 1.217522 ┆ 694.663574 ┆ 504.143921 ┆ 561.88269 │\n",
       "│ c2cccc(NC( ┆          ┆          ┆          ┆   ┆          ┆            ┆            ┆           │\n",
       "│ =O)c3ccccc ┆          ┆          ┆          ┆   ┆          ┆            ┆            ┆           │\n",
       "│ …          ┆          ┆          ┆          ┆   ┆          ┆            ┆            ┆           │\n",
       "└────────────┴──────────┴──────────┴──────────┴───┴──────────┴────────────┴────────────┴───────────┘"
      ]
     },
     "execution_count": 134,
     "metadata": {},
     "output_type": "execute_result"
    }
   ],
   "source": [
    "poly_one_df = pl.read_parquet(['../data/polyOne/polyOne_ad.parquet', '../data/polyOne/polyOne_bc.parquet']).sample(n=8*len(host_df)) # 0.0288, 0.0323, 0.0257\n",
    "display(poly_one_df.describe())\n",
    "poly_one_df.head()"
   ]
  },
  {
   "cell_type": "markdown",
   "id": "d64d0c1c",
   "metadata": {},
   "source": [
    "# Preprocess data"
   ]
  },
  {
   "cell_type": "code",
   "execution_count": 135,
   "id": "b421a9e6",
   "metadata": {},
   "outputs": [
    {
     "name": "stderr",
     "output_type": "stream",
     "text": [
      "  0%|          | 0/71757 [00:00<?, ?it/s]"
     ]
    },
    {
     "name": "stderr",
     "output_type": "stream",
     "text": [
      "100%|██████████| 71757/71757 [01:39<00:00, 720.89it/s]\n"
     ]
    }
   ],
   "source": [
    "import numpy as np\n",
    "from rdkit import Chem\n",
    "from rdkit.Chem import Descriptors, MACCSkeys, rdFingerprintGenerator\n",
    "from tqdm import tqdm\n",
    "\n",
    "fingerprint_generator_1 = rdFingerprintGenerator.GetMorganGenerator(radius=2, fpSize=2048)\n",
    "fingerprint_generator_2 = rdFingerprintGenerator.GetAtomPairGenerator(fpSize=2048)\n",
    "\n",
    "all_smiles = host_df['SMILES'].to_list() + poly_one_df['smiles'].to_list()\n",
    "# all_fingerprints = np.array([\n",
    "#     np.concat([\n",
    "#         fingerprint_generator_1.GetFingerprint(Chem.MolFromSmiles(smiles)),\n",
    "#         fingerprint_generator_2.GetFingerprint(Chem.MolFromSmiles(smiles)),\n",
    "#         MACCSkeys.GenMACCSKeys(Chem.MolFromSmiles(smiles))\n",
    "#     ])\n",
    "#     for smiles in tqdm(all_smiles)\n",
    "# ])\n",
    "\n",
    "all_fingerprints = []\n",
    "for smiles in tqdm(all_smiles):\n",
    "    mol = Chem.MolFromSmiles(smiles)\n",
    "    mol_fingerprints = np.concat([\n",
    "        fingerprint_generator_1.GetFingerprint(mol),\n",
    "        fingerprint_generator_2.GetFingerprint(mol),\n",
    "        MACCSkeys.GenMACCSKeys(mol)\n",
    "    ])\n",
    "    all_fingerprints.append(mol_fingerprints)\n",
    "all_fingerprints = np.array(all_fingerprints)\n",
    "\n",
    "all_from_host_labels = np.zeros(len(all_smiles))\n",
    "all_from_host_labels[:len(host_df)] = 1"
   ]
  },
  {
   "cell_type": "code",
   "execution_count": 144,
   "id": "1df0cf51",
   "metadata": {},
   "outputs": [
    {
     "name": "stderr",
     "output_type": "stream",
     "text": [
      " 53%|█████▎    | 37744/71757 [04:33<04:06, 137.91it/s]\n"
     ]
    },
    {
     "ename": "KeyboardInterrupt",
     "evalue": "",
     "output_type": "error",
     "traceback": [
      "\u001b[31m---------------------------------------------------------------------------\u001b[39m",
      "\u001b[31mKeyboardInterrupt\u001b[39m                         Traceback (most recent call last)",
      "\u001b[36mCell\u001b[39m\u001b[36m \u001b[39m\u001b[32mIn[144]\u001b[39m\u001b[32m, line 8\u001b[39m\n\u001b[32m      5\u001b[39m     \u001b[38;5;28;01mreturn\u001b[39;00m [desc[\u001b[32m1\u001b[39m](mol) \u001b[38;5;28;01mfor\u001b[39;00m desc \u001b[38;5;129;01min\u001b[39;00m Descriptors.descList]\n\u001b[32m      7\u001b[39m desc_names = [desc[\u001b[32m0\u001b[39m] \u001b[38;5;28;01mfor\u001b[39;00m desc \u001b[38;5;129;01min\u001b[39;00m Descriptors.descList]\n\u001b[32m----> \u001b[39m\u001b[32m8\u001b[39m descriptors = [\u001b[43mcompute_all_descriptors\u001b[49m\u001b[43m(\u001b[49m\u001b[43msmi\u001b[49m\u001b[43m)\u001b[49m \u001b[38;5;28;01mfor\u001b[39;00m smi \u001b[38;5;129;01min\u001b[39;00m tqdm(all_smiles)]\n\u001b[32m      9\u001b[39m descriptors = pl.DataFrame(descriptors, columns=desc_names)\n\u001b[32m     10\u001b[39m descriptors = descriptors[\u001b[33m'\u001b[39m\u001b[33mMaxAbsEStateIndex\u001b[39m\u001b[33m'\u001b[39m, \u001b[33m'\u001b[39m\u001b[33mMaxEStateIndex\u001b[39m\u001b[33m'\u001b[39m,\n\u001b[32m     11\u001b[39m        \u001b[33m'\u001b[39m\u001b[33mMinAbsEStateIndex\u001b[39m\u001b[33m'\u001b[39m, \u001b[33m'\u001b[39m\u001b[33mMinEStateIndex\u001b[39m\u001b[33m'\u001b[39m, \u001b[33m'\u001b[39m\u001b[33mqed\u001b[39m\u001b[33m'\u001b[39m, \u001b[33m'\u001b[39m\u001b[33mSPS\u001b[39m\u001b[33m'\u001b[39m, \u001b[33m'\u001b[39m\u001b[33mMolWt\u001b[39m\u001b[33m'\u001b[39m,\n\u001b[32m     12\u001b[39m        \u001b[33m'\u001b[39m\u001b[33mHeavyAtomMolWt\u001b[39m\u001b[33m'\u001b[39m, \u001b[33m'\u001b[39m\u001b[33mExactMolWt\u001b[39m\u001b[33m'\u001b[39m, \u001b[33m'\u001b[39m\u001b[33mNumValenceElectrons\u001b[39m\u001b[33m'\u001b[39m,\n\u001b[32m   (...)\u001b[39m\u001b[32m     62\u001b[39m        \u001b[33m'\u001b[39m\u001b[33mfr_sulfone\u001b[39m\u001b[33m'\u001b[39m, \u001b[33m'\u001b[39m\u001b[33mfr_term_acetylene\u001b[39m\u001b[33m'\u001b[39m, \u001b[33m'\u001b[39m\u001b[33mfr_tetrazole\u001b[39m\u001b[33m'\u001b[39m, \u001b[33m'\u001b[39m\u001b[33mfr_thiazole\u001b[39m\u001b[33m'\u001b[39m,\n\u001b[32m     63\u001b[39m        \u001b[33m'\u001b[39m\u001b[33mfr_thiocyan\u001b[39m\u001b[33m'\u001b[39m, \u001b[33m'\u001b[39m\u001b[33mfr_thiophene\u001b[39m\u001b[33m'\u001b[39m, \u001b[33m'\u001b[39m\u001b[33mfr_unbrch_alkane\u001b[39m\u001b[33m'\u001b[39m, \u001b[33m'\u001b[39m\u001b[33mfr_urea\u001b[39m\u001b[33m'\u001b[39m]\n",
      "\u001b[36mCell\u001b[39m\u001b[36m \u001b[39m\u001b[32mIn[144]\u001b[39m\u001b[32m, line 5\u001b[39m, in \u001b[36mcompute_all_descriptors\u001b[39m\u001b[34m(smiles)\u001b[39m\n\u001b[32m      3\u001b[39m \u001b[38;5;28;01mif\u001b[39;00m mol \u001b[38;5;129;01mis\u001b[39;00m \u001b[38;5;28;01mNone\u001b[39;00m:\n\u001b[32m      4\u001b[39m     \u001b[38;5;28;01mreturn\u001b[39;00m [\u001b[38;5;28;01mNone\u001b[39;00m] * \u001b[38;5;28mlen\u001b[39m(desc_names)\n\u001b[32m----> \u001b[39m\u001b[32m5\u001b[39m \u001b[38;5;28;01mreturn\u001b[39;00m [\u001b[43mdesc\u001b[49m\u001b[43m[\u001b[49m\u001b[32;43m1\u001b[39;49m\u001b[43m]\u001b[49m\u001b[43m(\u001b[49m\u001b[43mmol\u001b[49m\u001b[43m)\u001b[49m \u001b[38;5;28;01mfor\u001b[39;00m desc \u001b[38;5;129;01min\u001b[39;00m Descriptors.descList]\n",
      "\u001b[36mFile \u001b[39m\u001b[32m~/miniconda3/envs/torch2.7/lib/python3.12/site-packages/rdkit/Chem/GraphDescriptors.py:513\u001b[39m, in \u001b[36mBalabanJ\u001b[39m\u001b[34m(mol, dMat, forceDMat)\u001b[39m\n\u001b[32m    511\u001b[39m   \u001b[38;5;28;01mfor\u001b[39;00m j \u001b[38;5;129;01min\u001b[39;00m \u001b[38;5;28mrange\u001b[39m(i, nS):\n\u001b[32m    512\u001b[39m     \u001b[38;5;28;01mif\u001b[39;00m adjMat[i, j] == \u001b[32m1\u001b[39m:\n\u001b[32m--> \u001b[39m\u001b[32m513\u001b[39m       sum_ += \u001b[32m1.\u001b[39m / \u001b[43mnumpy\u001b[49m\u001b[43m.\u001b[49m\u001b[43msqrt\u001b[49m\u001b[43m(\u001b[49m\u001b[43msi\u001b[49m\u001b[43m \u001b[49m\u001b[43m*\u001b[49m\u001b[43m \u001b[49m\u001b[43ms\u001b[49m\u001b[43m[\u001b[49m\u001b[43mj\u001b[49m\u001b[43m]\u001b[49m\u001b[43m)\u001b[49m\n\u001b[32m    515\u001b[39m \u001b[38;5;28;01mif\u001b[39;00m mu + \u001b[32m1\u001b[39m != \u001b[32m0\u001b[39m:\n\u001b[32m    516\u001b[39m   J = \u001b[38;5;28mfloat\u001b[39m(q) / \u001b[38;5;28mfloat\u001b[39m(mu + \u001b[32m1\u001b[39m) * sum_\n",
      "\u001b[31mKeyboardInterrupt\u001b[39m: "
     ]
    }
   ],
   "source": [
    "def compute_all_descriptors(smiles):\n",
    "    mol = Chem.MolFromSmiles(smiles)\n",
    "    if mol is None:\n",
    "        return [None] * len(desc_names)\n",
    "    return [desc[1](mol) for desc in Descriptors.descList]\n",
    "\n",
    "desc_names = [desc[0] for desc in Descriptors.descList]\n",
    "descriptors = [compute_all_descriptors(smi) for smi in tqdm(all_smiles)]\n",
    "descriptors = pl.DataFrame(descriptors, columns=desc_names)\n",
    "descriptors = descriptors['MaxAbsEStateIndex', 'MaxEStateIndex',\n",
    "       'MinAbsEStateIndex', 'MinEStateIndex', 'qed', 'SPS', 'MolWt',\n",
    "       'HeavyAtomMolWt', 'ExactMolWt', 'NumValenceElectrons',\n",
    "       'NumRadicalElectrons', 'MaxPartialCharge', 'MinPartialCharge',\n",
    "       'MaxAbsPartialCharge', 'MinAbsPartialCharge', 'FpDensityMorgan1',\n",
    "       'FpDensityMorgan2', 'FpDensityMorgan3', 'BCUT2D_MWHI',\n",
    "       'BCUT2D_MWLOW', 'BCUT2D_CHGHI', 'BCUT2D_CHGLO', 'BCUT2D_LOGPHI',\n",
    "       'BCUT2D_LOGPLOW', 'BCUT2D_MRHI', 'BCUT2D_MRLOW', 'AvgIpc',\n",
    "       'BalabanJ', 'BertzCT', 'Chi0', 'Chi0n', 'Chi0v', 'Chi1', 'Chi1n',\n",
    "       'Chi1v', 'Chi2n', 'Chi2v', 'Chi3n', 'Chi3v', 'Chi4n', 'Chi4v',\n",
    "       'HallKierAlpha', 'Ipc', 'Kappa1', 'Kappa2', 'Kappa3', 'LabuteASA',\n",
    "       'PEOE_VSA1', 'PEOE_VSA10', 'PEOE_VSA11', 'PEOE_VSA12',\n",
    "       'PEOE_VSA13', 'PEOE_VSA14', 'PEOE_VSA2', 'PEOE_VSA3', 'PEOE_VSA4',\n",
    "       'PEOE_VSA5', 'PEOE_VSA6', 'PEOE_VSA7', 'PEOE_VSA8', 'PEOE_VSA9',\n",
    "       'SMR_VSA1', 'SMR_VSA10', 'SMR_VSA2', 'SMR_VSA3', 'SMR_VSA4',\n",
    "       'SMR_VSA5', 'SMR_VSA6', 'SMR_VSA7', 'SMR_VSA8', 'SMR_VSA9',\n",
    "       'SlogP_VSA1', 'SlogP_VSA10', 'SlogP_VSA11', 'SlogP_VSA12',\n",
    "       'SlogP_VSA2', 'SlogP_VSA3', 'SlogP_VSA4', 'SlogP_VSA5',\n",
    "       'SlogP_VSA6', 'SlogP_VSA7', 'SlogP_VSA8', 'SlogP_VSA9', 'TPSA',\n",
    "       'EState_VSA1', 'EState_VSA10', 'EState_VSA11', 'EState_VSA2',\n",
    "       'EState_VSA3', 'EState_VSA4', 'EState_VSA5', 'EState_VSA6',\n",
    "       'EState_VSA7', 'EState_VSA8', 'EState_VSA9', 'VSA_EState1',\n",
    "       'VSA_EState10', 'VSA_EState2', 'VSA_EState3', 'VSA_EState4',\n",
    "       'VSA_EState5', 'VSA_EState6', 'VSA_EState7', 'VSA_EState8',\n",
    "       'VSA_EState9', 'FractionCSP3', 'HeavyAtomCount', 'NHOHCount',\n",
    "       'NOCount', 'NumAliphaticCarbocycles', 'NumAliphaticHeterocycles',\n",
    "       'NumAliphaticRings', 'NumAmideBonds', 'NumAromaticCarbocycles',\n",
    "       'NumAromaticHeterocycles', 'NumAromaticRings',\n",
    "       'NumAtomStereoCenters', 'NumBridgeheadAtoms', 'NumHAcceptors',\n",
    "       'NumHDonors', 'NumHeteroatoms', 'NumHeterocycles',\n",
    "       'NumRotatableBonds', 'NumSaturatedCarbocycles',\n",
    "       'NumSaturatedHeterocycles', 'NumSaturatedRings', 'NumSpiroAtoms',\n",
    "       'NumUnspecifiedAtomStereoCenters', 'Phi', 'RingCount', 'MolLogP',\n",
    "       'MolMR', 'fr_Al_COO', 'fr_Al_OH', 'fr_Al_OH_noTert', 'fr_ArN',\n",
    "       'fr_Ar_COO', 'fr_Ar_N', 'fr_Ar_NH', 'fr_Ar_OH', 'fr_COO',\n",
    "       'fr_COO2', 'fr_C_O', 'fr_C_O_noCOO', 'fr_C_S', 'fr_HOCCN',\n",
    "       'fr_Imine', 'fr_NH0', 'fr_NH1', 'fr_NH2', 'fr_N_O',\n",
    "       'fr_Ndealkylation1', 'fr_Ndealkylation2', 'fr_Nhpyrrole', 'fr_SH',\n",
    "       'fr_aldehyde', 'fr_alkyl_carbamate', 'fr_alkyl_halide',\n",
    "       'fr_allylic_oxid', 'fr_amide', 'fr_amidine', 'fr_aniline',\n",
    "       'fr_aryl_methyl', 'fr_azide', 'fr_azo', 'fr_barbitur',\n",
    "       'fr_benzene', 'fr_benzodiazepine', 'fr_bicyclic', 'fr_diazo',\n",
    "       'fr_dihydropyridine', 'fr_epoxide', 'fr_ester', 'fr_ether',\n",
    "       'fr_furan', 'fr_guanido', 'fr_halogen', 'fr_hdrzine', 'fr_hdrzone',\n",
    "       'fr_imidazole', 'fr_imide', 'fr_isocyan', 'fr_isothiocyan',\n",
    "       'fr_ketone', 'fr_ketone_Topliss', 'fr_lactam', 'fr_lactone',\n",
    "       'fr_methoxy', 'fr_morpholine', 'fr_nitrile', 'fr_nitro',\n",
    "       'fr_nitro_arom', 'fr_nitro_arom_nonortho', 'fr_nitroso',\n",
    "       'fr_oxazole', 'fr_oxime', 'fr_para_hydroxylation', 'fr_phenol',\n",
    "       'fr_phenol_noOrthoHbond', 'fr_phos_acid', 'fr_phos_ester',\n",
    "       'fr_piperdine', 'fr_piperzine', 'fr_priamide', 'fr_prisulfonamd',\n",
    "       'fr_pyridine', 'fr_quatN', 'fr_sulfide', 'fr_sulfonamd',\n",
    "       'fr_sulfone', 'fr_term_acetylene', 'fr_tetrazole', 'fr_thiazole',\n",
    "       'fr_thiocyan', 'fr_thiophene', 'fr_unbrch_alkane', 'fr_urea']\n",
    "descriptors = descriptors.to_numpy()"
   ]
  },
  {
   "cell_type": "markdown",
   "id": "adf49b75",
   "metadata": {},
   "source": [
    "# Train classifier"
   ]
  },
  {
   "cell_type": "code",
   "execution_count": 143,
   "id": "58d31cee",
   "metadata": {},
   "outputs": [
    {
     "name": "stderr",
     "output_type": "stream",
     "text": [
      "/home/jday/miniconda3/envs/torch2.7/lib/python3.12/site-packages/sklearn/utils/validation.py:2749: UserWarning: X does not have valid feature names, but LGBMClassifier was fitted with feature names\n",
      "  warnings.warn(\n",
      "/home/jday/miniconda3/envs/torch2.7/lib/python3.12/site-packages/sklearn/utils/validation.py:2749: UserWarning: X does not have valid feature names, but LGBMClassifier was fitted with feature names\n",
      "  warnings.warn(\n"
     ]
    },
    {
     "name": "stdout",
     "output_type": "stream",
     "text": [
      "Fold 0 - accuracy=0.9928, AUROC=0.9986498430678868\n"
     ]
    },
    {
     "name": "stderr",
     "output_type": "stream",
     "text": [
      "/home/jday/miniconda3/envs/torch2.7/lib/python3.12/site-packages/sklearn/utils/validation.py:2749: UserWarning: X does not have valid feature names, but LGBMClassifier was fitted with feature names\n",
      "  warnings.warn(\n",
      "/home/jday/miniconda3/envs/torch2.7/lib/python3.12/site-packages/sklearn/utils/validation.py:2749: UserWarning: X does not have valid feature names, but LGBMClassifier was fitted with feature names\n",
      "  warnings.warn(\n"
     ]
    },
    {
     "name": "stdout",
     "output_type": "stream",
     "text": [
      "Fold 1 - accuracy=0.9930, AUROC=0.9993245541368612\n"
     ]
    },
    {
     "name": "stderr",
     "output_type": "stream",
     "text": [
      "/home/jday/miniconda3/envs/torch2.7/lib/python3.12/site-packages/sklearn/utils/validation.py:2749: UserWarning: X does not have valid feature names, but LGBMClassifier was fitted with feature names\n",
      "  warnings.warn(\n",
      "/home/jday/miniconda3/envs/torch2.7/lib/python3.12/site-packages/sklearn/utils/validation.py:2749: UserWarning: X does not have valid feature names, but LGBMClassifier was fitted with feature names\n",
      "  warnings.warn(\n"
     ]
    },
    {
     "name": "stdout",
     "output_type": "stream",
     "text": [
      "Fold 2 - accuracy=0.9931, AUROC=0.9993334152141038\n"
     ]
    },
    {
     "name": "stderr",
     "output_type": "stream",
     "text": [
      "/home/jday/miniconda3/envs/torch2.7/lib/python3.12/site-packages/sklearn/utils/validation.py:2749: UserWarning: X does not have valid feature names, but LGBMClassifier was fitted with feature names\n",
      "  warnings.warn(\n",
      "/home/jday/miniconda3/envs/torch2.7/lib/python3.12/site-packages/sklearn/utils/validation.py:2749: UserWarning: X does not have valid feature names, but LGBMClassifier was fitted with feature names\n",
      "  warnings.warn(\n"
     ]
    },
    {
     "name": "stdout",
     "output_type": "stream",
     "text": [
      "Fold 3 - accuracy=0.9930, AUROC=0.9992526684740698\n",
      "Fold 4 - accuracy=0.9924, AUROC=0.9991244314253336\n",
      "\n",
      "Overall - accuracy=0.9929, AUROC=0.9991369824636509\n",
      "Threshold for 99.5% recall: 0.0056\n",
      "FPR @ 99.5% recall: 0.0279\n"
     ]
    },
    {
     "name": "stderr",
     "output_type": "stream",
     "text": [
      "/home/jday/miniconda3/envs/torch2.7/lib/python3.12/site-packages/sklearn/utils/validation.py:2749: UserWarning: X does not have valid feature names, but LGBMClassifier was fitted with feature names\n",
      "  warnings.warn(\n",
      "/home/jday/miniconda3/envs/torch2.7/lib/python3.12/site-packages/sklearn/utils/validation.py:2749: UserWarning: X does not have valid feature names, but LGBMClassifier was fitted with feature names\n",
      "  warnings.warn(\n"
     ]
    }
   ],
   "source": [
    "from lightgbm import LGBMClassifier\n",
    "from sklearn.model_selection import KFold\n",
    "from sklearn.metrics import roc_auc_score, accuracy_score, precision_score\n",
    "\n",
    "# TODO: Tune class weights to precision @ 99.5% recall\n",
    "\n",
    "accuracies = []\n",
    "aurocs = []\n",
    "all_oof_predicted_probs = []\n",
    "all_test_labels = []\n",
    "\n",
    "kf = KFold(n_splits=5, shuffle=True)\n",
    "for fold_index, (train_indices, test_indices) in enumerate(kf.split(all_smiles)):\n",
    "    # SPLIT DATA.\n",
    "    train_fingerprints = all_fingerprints[train_indices]\n",
    "    train_labels = all_from_host_labels[train_indices]\n",
    "    test_fingerprints = all_fingerprints[test_indices]\n",
    "    test_labels = all_from_host_labels[test_indices]\n",
    "\n",
    "    # TRAIN.\n",
    "    # model = LGBMClassifier(verbose=-1, n_estimators=800, num_leaves=64)\n",
    "    # model.fit(train_fingerprints, train_labels)\n",
    "    model = LGBMClassifier(verbose=-1, n_estimators=800)\n",
    "    model.fit(train_fingerprints, train_labels, sample_weight=((train_labels==1) + 0.5))\n",
    "\n",
    "    # TEST.\n",
    "    predicted_labels = model.predict(test_fingerprints)\n",
    "    accuracy = accuracy_score(test_labels, predicted_labels)\n",
    "    accuracies.append(accuracy)\n",
    "\n",
    "    predicted_probas = model.predict_proba(test_fingerprints)\n",
    "    auroc = roc_auc_score(test_labels, predicted_probas[:,1])\n",
    "    aurocs.append(auroc)\n",
    "\n",
    "    all_oof_predicted_probs.extend(predicted_probas[:,1])\n",
    "    all_test_labels.extend(test_labels)\n",
    "\n",
    "    print(f'Fold {fold_index} - accuracy={accuracy:.4f}, AUROC={auroc}')\n",
    "\n",
    "print(f'\\nOverall - accuracy={np.mean(accuracies):.4f}, AUROC={np.mean(aurocs)}')\n",
    "\n",
    "all_oof_predicted_probs, all_test_labels = np.array(all_oof_predicted_probs), np.array(all_test_labels)\n",
    "detection_threshold = np.percentile(all_oof_predicted_probs[all_test_labels == 1], 0.5)\n",
    "negatives_mask = (all_test_labels == 0)\n",
    "false_positives_mask = (all_test_labels == 0) * (all_oof_predicted_probs > detection_threshold)\n",
    "false_positive_rate = sum(false_positives_mask) / sum(negatives_mask)\n",
    "# precision = precision_score(all_test_labels, (all_oof_predicted_probs > detection_threshold))\n",
    "print(f'Threshold for 99.5% recall: {detection_threshold:.4f}')\n",
    "print(f'FPR @ 99.5% recall: {false_positive_rate:.4f}')"
   ]
  },
  {
   "cell_type": "code",
   "execution_count": 141,
   "id": "371d6324",
   "metadata": {},
   "outputs": [
    {
     "data": {
      "image/png": "[encoded data removed]",
      "text/plain": [
       "<Figure size 640x480 with 1 Axes>"
      ]
     },
     "metadata": {},
     "output_type": "display_data"
    }
   ],
   "source": [
    "from matplotlib import pyplot as plt\n",
    "\n",
    "plt.hist(predicted_probas[:,1][test_labels == 1], bins=20, alpha=0.5)\n",
    "plt.hist(predicted_probas[:,1][test_labels == 0], bins=20, alpha=0.5)\n",
    "plt.show()"
   ]
  },
  {
   "cell_type": "code",
   "execution_count": 145,
   "id": "fb0a3808",
   "metadata": {},
   "outputs": [],
   "source": [
    "import pickle\n",
    "\n",
    "model = LGBMClassifier(verbose=-1, n_estimators=800)\n",
    "model.fit(all_fingerprints, all_from_host_labels, sample_weight=((all_from_host_labels==1) + 0.5))\n",
    "\n",
    "with open('filtering_model.pkl', 'wb') as output_file:\n",
    "    pickle.dump(model, output_file)"
   ]
  },
  {
   "cell_type": "code",
   "execution_count": 126,
   "id": "3d48dec0",
   "metadata": {},
   "outputs": [
    {
     "data": {
      "text/plain": [
       "np.float64(0.0010057121176665692)"
      ]
     },
     "execution_count": 126,
     "metadata": {},
     "output_type": "execute_result"
    }
   ],
   "source": [
    "np.percentile(predicted_probas[:,1][test_labels == 1], 0.5)"
   ]
  }
 ],
 "metadata": {
  "kernelspec": {
   "display_name": "torch2.7",
   "language": "python",
   "name": "python3"
  },
  "language_info": {
   "codemirror_mode": {
    "name": "ipython",
    "version": 3
   },
   "file_extension": ".py",
   "mimetype": "text/x-python",
   "name": "python",
   "nbconvert_exporter": "python",
   "pygments_lexer": "ipython3",
   "version": "3.12.2"
  }
 },
 "nbformat": 4,
 "nbformat_minor": 5
}
